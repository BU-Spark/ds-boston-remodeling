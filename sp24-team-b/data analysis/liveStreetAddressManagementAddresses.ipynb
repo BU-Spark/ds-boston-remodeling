{
 "cells": [
  {
   "cell_type": "code",
   "execution_count": 5,
   "metadata": {},
   "outputs": [],
   "source": [
    "import sys\n",
    "sys.path.append('../')\n",
    "import data.sqlDataFetch as sdf"
   ]
  },
  {
   "cell_type": "code",
   "execution_count": 6,
   "metadata": {},
   "outputs": [
    {
     "name": "stdout",
     "output_type": "stream",
     "text": [
      "6d6cfc99-6f26-4974-bbb3-17b5dbad49a9\n",
      "Column Name          | Type      \n",
      "--------------------------------\n",
      "_id                  | int       \n",
      "X                    | text      \n",
      "Y                    | text      \n",
      "SAM_ADDRESS_ID       | text      \n",
      "RELATIONSHIP_TYPE    | text      \n",
      "BUILDING_ID          | text      \n",
      "FULL_ADDRESS         | text      \n",
      "STREET_NUMBER        | text      \n",
      "IS_RANGE             | text      \n",
      "RANGE_FROM           | text      \n",
      "RANGE_TO             | text      \n",
      "UNIT                 | text      \n",
      "FULL_STREET_NAME     | text      \n",
      "STREET_ID            | text      \n",
      "STREET_PREFIX        | text      \n",
      "STREET_BODY          | text      \n",
      "STREET_SUFFIX_ABBR   | text      \n",
      "STREET_FULL_SUFFIX   | text      \n",
      "STREET_SUFFIX_DIR    | text      \n",
      "STREET_NUMBER_SORT   | text      \n",
      "MAILING_NEIGHBORHOOD | text      \n",
      "ZIP_CODE             | text      \n",
      "X_COORD              | text      \n",
      "Y_COORD              | text      \n",
      "SAM_STREET_ID        | text      \n",
      "WARD                 | text      \n",
      "PRECINCT_WARD        | text      \n",
      "PARCEL               | text      \n"
     ]
    }
   ],
   "source": [
    "id=sdf.get_id_by_name('Live Street Address Management Addresses')\n",
    "print(id)\n",
    "sdf.describe_database(id)"
   ]
  },
  {
   "cell_type": "code",
   "execution_count": 7,
   "metadata": {},
   "outputs": [],
   "source": [
    "import requests"
   ]
  },
  {
   "cell_type": "code",
   "execution_count": 8,
   "metadata": {},
   "outputs": [
    {
     "data": {
      "text/html": [
       "<div>\n",
       "<style scoped>\n",
       "    .dataframe tbody tr th:only-of-type {\n",
       "        vertical-align: middle;\n",
       "    }\n",
       "\n",
       "    .dataframe tbody tr th {\n",
       "        vertical-align: top;\n",
       "    }\n",
       "\n",
       "    .dataframe thead th {\n",
       "        text-align: right;\n",
       "    }\n",
       "</style>\n",
       "<table border=\"1\" class=\"dataframe\">\n",
       "  <thead>\n",
       "    <tr style=\"text-align: right;\">\n",
       "      <th></th>\n",
       "      <th>UNIT</th>\n",
       "    </tr>\n",
       "  </thead>\n",
       "  <tbody>\n",
       "    <tr>\n",
       "      <th>0</th>\n",
       "      <td>1-A</td>\n",
       "    </tr>\n",
       "    <tr>\n",
       "      <th>1</th>\n",
       "      <td>1-B</td>\n",
       "    </tr>\n",
       "    <tr>\n",
       "      <th>2</th>\n",
       "      <td>1-C</td>\n",
       "    </tr>\n",
       "    <tr>\n",
       "      <th>3</th>\n",
       "      <td>2-A</td>\n",
       "    </tr>\n",
       "    <tr>\n",
       "      <th>4</th>\n",
       "      <td>2-B</td>\n",
       "    </tr>\n",
       "  </tbody>\n",
       "</table>\n",
       "</div>"
      ],
      "text/plain": [
       "  UNIT\n",
       "0  1-A\n",
       "1  1-B\n",
       "2  1-C\n",
       "3  2-A\n",
       "4  2-B"
      ]
     },
     "execution_count": 8,
     "metadata": {},
     "output_type": "execute_result"
    }
   ],
   "source": [
    "condition  = \"WHERE \\\"UNIT\\\"::text IS NOT NULL\"\n",
    "df = sdf.fetch_data(id, condition, UNIT=str)\n",
    "df.head()"
   ]
  }
 ],
 "metadata": {
  "kernelspec": {
   "display_name": "Python 3",
   "language": "python",
   "name": "python3"
  },
  "language_info": {
   "codemirror_mode": {
    "name": "ipython",
    "version": 3
   },
   "file_extension": ".py",
   "mimetype": "text/x-python",
   "name": "python",
   "nbconvert_exporter": "python",
   "pygments_lexer": "ipython3",
   "version": "3.11.3"
  }
 },
 "nbformat": 4,
 "nbformat_minor": 2
}
