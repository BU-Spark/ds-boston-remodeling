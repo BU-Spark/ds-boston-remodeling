{
 "cells": [
  {
   "cell_type": "code",
   "execution_count": 1,
   "metadata": {},
   "outputs": [],
   "source": [
    "import data.sqlDataFetch as sdf"
   ]
  },
  {
   "cell_type": "code",
   "execution_count": 2,
   "metadata": {},
   "outputs": [
    {
     "name": "stdout",
     "output_type": "stream",
     "text": [
      "6ddcd912-32a0-43df-9908-63574f8c7e77\n",
      "Column Name          | Type      \n",
      "--------------------------------\n",
      "_id                  | int       \n",
      "permitnumber         | text      \n",
      "worktype             | text      \n",
      "permittypedescr      | text      \n",
      "description          | text      \n",
      "comments             | text      \n",
      "applicant            | text      \n",
      "declared_valuation   | text      \n",
      "total_fees           | text      \n",
      "issued_date          | text      \n",
      "expiration_date      | text      \n",
      "status               | text      \n",
      "owner                | text      \n",
      "occupancytype        | text      \n",
      "sq_feet              | text      \n",
      "address              | text      \n",
      "city                 | text      \n",
      "state                | text      \n",
      "zip                  | text      \n",
      "property_id          | text      \n",
      "parcel_id            | text      \n",
      "gpsy                 | text      \n",
      "gpsx                 | text      \n",
      "geom_point_2249      | text      \n",
      "geom_point_4326      | text      \n"
     ]
    }
   ],
   "source": [
    "id=sdf.get_id_by_name('APPROVED BUILDING PERMITS')\n",
    "print(id)\n",
    "sdf.describe_database(id)"
   ]
  },
  {
   "cell_type": "code",
   "execution_count": 4,
   "metadata": {},
   "outputs": [],
   "source": [
    "import requests\n",
    "\n",
    "url = \"https://data.boston.gov/api/3/action/datastore_search_sql\"\n",
    "# Construct the SQL query to select distinct city names from the table\n",
    "sql_query = f\"SELECT DISTINCT city FROM \\\"6ddcd912-32a0-43df-9908-63574f8c7e77\\\"\"\n",
    "\n",
    "params = {\"sql\": sql_query}\n",
    "\n",
    "# Send the request\n",
    "response = requests.get(url, params=params)\n",
    "\n",
    "allCitiesName = []\n",
    "\n",
    "if response.status_code == 200:\n",
    "    data = response.json()\n",
    "\n",
    "    # Check if there is data in the response\n",
    "    if data['success'] and 'result' in data and 'records' in data['result']:\n",
    "        records = data['result']['records']\n",
    "        # Loop through each record in the response\n",
    "        for record in records:\n",
    "          # Check if the city value is not None\n",
    "          if record['city'] is not None:\n",
    "            # Add the city name to the list\n",
    "            allCitiesName.append(record['city'])\n",
    "    else:\n",
    "        print(\"No data found or error in response.\")\n",
    "else:\n",
    "    print(\"Failed to fetch data:\", response.status_code)"
   ]
  },
  {
   "cell_type": "code",
   "execution_count": 5,
   "metadata": {},
   "outputs": [
    {
     "name": "stdout",
     "output_type": "stream",
     "text": [
      "['North End', 'CHARLESTOWN', 'Ropxbury', 'Back /', \"Mission Hill'\", 'EAST BOSTON', 'Fenway', 'Financial District/', 'Brighton/Allston', 'West Roxbury/', 'Downtown/Financial District', 'Boston/Charlestown', 'Boston/Chinatown', 'Brighton/', 'BRIGHTON', 'Boston/Beacon Hill', 'South BostonSG', 'ROXBURY CROSSIN', 'roxbury', 'Boston/South End', 'Chestnut Hill', 'JAMAICA PLAIN', 'ROSLINDALE', 'Dorchester Center//', 'South End//', 'Theater District', 'ALLSTON', 'dorchester', 'Mission Hill/', 'East Boston/', 'Mission Hill', 'Charlestown/', 'Jamaica Plain/Boston', 'West End', 'Dorchester (Savin Hill)/', 'East BOSTON', 'BRIGHTON/', 'Hyde Park', 'West Roxbury', 'Hyde Park//', 'Boston/South', 'Dorchester//', 'Brighton', 'Charlestown+', 'Downtown/Financial', 'BOSTON', 'NorthEnd', 'Allston/', 'Boston/Back Bay', 'E BOSTON', 'West Robury', 'Chinatown/', 'Back Bay/', 'South End/', 'South Boston', 'Dorchester Center/', 'BOSTON/CHINATOWN', 'boston', 'East  Boston', 'BOSTON/', 'ROXBURY', 'Boston/Fenway', 'Jamaica Plain', 'Roxbury', 'Charlestown/Boston', 'HYDE PARK', 'East Boston', 'BOSTON/Boston', \"Boston's Historic North End\", 'Roslindale/', 'Fenway/', 'Boston/Roxbury', 'Beacon Hill/', 'Mattapan/', 'Boston/North End', 'Jamaica Plain/', 'Roslindale', 'Charlestown', 'MATTAPAN', 'DORCHESTER/', 'West End/', 'Beacon Hill//', 'Mattapan', 'East Boston/Boston/', 'South End', 'Boston/Fenway/Kenmore/Audubo', 'West Roxbry', 'Boston/Downtown', 'Roxbury/', 'Financial District', 'South Boston/', 'Allston/Brighton', 'Boston/West End', 'Dorchester (Savin Hill)', 'Boston', 'Back Bay/Boston', 'Jamaica plain', 'Dorchester', 'Jamaica Plain.', 'WEST ROXBURY', 'Dorchester/', 'Hyde PArk', 'Chinatown', 'Kenmore/fenway', 'BOSTON/Waterfront', 'Allston', 'Dorchester (Lower Mills)', 'Boston/', 'DORCHESTER', 'ROXBURY CROSSING', 'Charlestown\\\\=-0=]\\\\[=-', 'Brighton#', 'South Boston/South Boston', 'North end', 'Boston/Roslindale', 'JAMAICA PLAIN/Boston', 'Brighton / Allston', 'Charlestown//', 'Charleswtown', 'FENWAY', 'BOSTON/SOUTH END', 'Allston/Boston', 'Brighton//', 'NorthEnd/', 'Charlestown+-+-+-+-+-+', 'Dorchester (Lower Mills)/', 'SOUTH BOSTON', 'Dorchester(Lower Mills)', '/', 'Dorchester Center', 'Hyde Park/', 'CHESTNUT HILL']\n"
     ]
    }
   ],
   "source": [
    "print(allCitiesName)"
   ]
  },
  {
   "cell_type": "code",
   "execution_count": 6,
   "metadata": {},
   "outputs": [
    {
     "name": "stdout",
     "output_type": "stream",
     "text": [
      "Failed to fetch data: 409\n",
      "No data or failed to fetch data for Mission Hill'\n",
      "Failed to fetch data: 409\n",
      "No data or failed to fetch data for Boston's Historic North End\n"
     ]
    }
   ],
   "source": [
    "dfs = []\n",
    "\n",
    "for city in allCitiesName:\n",
    "    condition = f\"WHERE \\\"city\\\"::text = '{city}'\"\n",
    "    result = sdf.fetch_data(id, condition, _id=int, permitnumber=str, worktype=str, permittypedescr=str, issued_date='time', expiration_date='time', status=str, address=str, city=str, zip=str, occupancytype=str, declared_valuation='money')\n",
    "\n",
    "    if not result.empty:\n",
    "        dfs.append(result)\n",
    "    else:\n",
    "        print(f\"No data or failed to fetch data for {city}\")"
   ]
  },
  {
   "cell_type": "code",
   "execution_count": 7,
   "metadata": {},
   "outputs": [],
   "source": [
    "condition = \"WHERE \\\"city\\\"::text = 'Mission Hill'\"\n",
    "result = sdf.fetch_data(id, condition, _id=int, permitnumber=str, worktype=str, permittypedescr=str, issued_date='time', expiration_date='time', status=str, address=str, city=str, zip=str, occupancytype=str, declared_valuation='money')\n",
    "\n",
    "if not result.empty:\n",
    "  dfs.append(result)\n",
    "else:\n",
    "  print(\"No data or failed to fetch data for Mission Hill\")"
   ]
  },
  {
   "cell_type": "code",
   "execution_count": 8,
   "metadata": {},
   "outputs": [],
   "source": [
    "condition = \"WHERE \\\"city\\\"::text = 'Boston''s Historic North End'\"\n",
    "result = sdf.fetch_data(id, condition, _id=int, permitnumber=str, worktype=str, permittypedescr=str, issued_date='time', expiration_date='time', status=str, address=str, city=str, zip=str, occupancytype=str, declared_valuation='money')\n",
    "\n",
    "if not result.empty:\n",
    "  dfs.append(result)\n",
    "else:\n",
    "  print(\"No data or failed to fetch data for Boston\\'s Historic North End\")"
   ]
  },
  {
   "cell_type": "code",
   "execution_count": 9,
   "metadata": {},
   "outputs": [],
   "source": [
    "import pandas as pd\n",
    "\n",
    "combined_df = pd.concat(dfs, ignore_index=True)"
   ]
  },
  {
   "cell_type": "code",
   "execution_count": 10,
   "metadata": {},
   "outputs": [
    {
     "name": "stdout",
     "output_type": "stream",
     "text": [
      "Combined DataFrame has 374140 rows.\n"
     ]
    }
   ],
   "source": [
    "print(f\"Combined DataFrame has {len(combined_df)} rows.\")"
   ]
  },
  {
   "cell_type": "code",
   "execution_count": 11,
   "metadata": {},
   "outputs": [
    {
     "name": "stdout",
     "output_type": "stream",
     "text": [
      "           _id permitnumber  worktype              permittypedescr  \\\n",
      "0       549377      SF48002    INTEXT       Short Form Bldg Permit   \n",
      "1       451679     SF105658    EXTREN       Short Form Bldg Permit   \n",
      "2       513033      SF20887    EXTREN       Short Form Bldg Permit   \n",
      "3        24400      ALT3406    EXTREN  Long Form/Alteration Permit   \n",
      "4       319516       G16827       COB                   Gas Permit   \n",
      "...        ...          ...       ...                          ...   \n",
      "374135   68246    COO933462    NEWCON     Certificate of Occupancy   \n",
      "374136  441458     PL941436  PLUMBING              Plumbing Permit   \n",
      "374137   67757    COO906874    NEWCON     Certificate of Occupancy   \n",
      "374138  287729    ERT263467    NEWCON       Erect/New Construction   \n",
      "374139  609053     SF935876    INTREN       Short Form Bldg Permit   \n",
      "\n",
      "                   issued_date         expiration_date  status  \\\n",
      "0       2010-10-29 17:40:28+00  2011-04-29 04:00:00+00    Open   \n",
      "1       2011-11-16 14:47:14+00  2012-05-16 04:00:00+00    Open   \n",
      "2       2010-04-07 17:10:23+00  2010-10-07 04:00:00+00    Open   \n",
      "3       2010-04-05 14:53:45+00  2010-10-05 04:00:00+00    Open   \n",
      "4       2010-03-05 15:53:24+00  2010-09-05 04:00:00+00    Open   \n",
      "...                        ...                     ...     ...   \n",
      "374135  2019-03-22 13:51:30+00                    None  Closed   \n",
      "374136  2019-04-12 14:32:11+00  2019-10-12 04:00:00+00    Open   \n",
      "374137  2018-12-13 14:14:12+00                    None  Closed   \n",
      "374138  2014-05-30 13:13:26+00  2018-10-30 04:00:00+00    Open   \n",
      "374139  2019-04-10 16:23:30+00  2019-10-10 04:00:00+00    Open   \n",
      "\n",
      "                address                         city    zip occupancytype  \\\n",
      "0       2 Copps Hill TE                    North End  02113        1-3FAM   \n",
      "1       2 Copps Hill TE                    North End  02113         Multi   \n",
      "2       2 Copps Hill TE                    North End  02113        1-3FAM   \n",
      "3          20 Mystic ST                  CHARLESTOWN  02129        1-3FAM   \n",
      "4         82 WALFORD WY                  CHARLESTOWN  02129         7More   \n",
      "...                 ...                          ...    ...           ...   \n",
      "374135       16 Moon ST  Boston's Historic North End  02113        1-2FAM   \n",
      "374136       16 Moon ST  Boston's Historic North End  02113        1-2FAM   \n",
      "374137       16 Moon ST  Boston's Historic North End  02113        1-2FAM   \n",
      "374138       16 Moon ST  Boston's Historic North End  02113        1-2FAM   \n",
      "374139       16 Moon ST  Boston's Historic North End  02113        1-2FAM   \n",
      "\n",
      "        declared_valuation  \n",
      "0                   4500.0  \n",
      "1                  20000.0  \n",
      "2                   7000.0  \n",
      "3                      0.0  \n",
      "4                   2334.0  \n",
      "...                    ...  \n",
      "374135            954000.0  \n",
      "374136              3900.0  \n",
      "374137            950000.0  \n",
      "374138            950000.0  \n",
      "374139             33500.0  \n",
      "\n",
      "[374140 rows x 12 columns]\n"
     ]
    }
   ],
   "source": [
    "print(combined_df)"
   ]
  },
  {
   "cell_type": "code",
   "execution_count": 14,
   "metadata": {},
   "outputs": [],
   "source": [
    "import os\n",
    "\n",
    "save_path = './data/cleanedData/'\n",
    "file_name = 'approved_building permits_data.csv'\n",
    "full_path = os.path.join(save_path, file_name)\n",
    "\n",
    "if not os.path.exists(save_path):\n",
    "  os.makedirs(save_path)\n",
    "\n",
    "combined_df.to_csv(full_path, index=False)"
   ]
  }
 ],
 "metadata": {
  "kernelspec": {
   "display_name": "Python 3",
   "language": "python",
   "name": "python3"
  },
  "language_info": {
   "codemirror_mode": {
    "name": "ipython",
    "version": 3
   },
   "file_extension": ".py",
   "mimetype": "text/x-python",
   "name": "python",
   "nbconvert_exporter": "python",
   "pygments_lexer": "ipython3",
   "version": "3.10.1"
  }
 },
 "nbformat": 4,
 "nbformat_minor": 2
}
