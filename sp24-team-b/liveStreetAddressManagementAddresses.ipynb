{
 "cells": [
  {
   "cell_type": "code",
   "execution_count": 1,
   "metadata": {},
   "outputs": [
    {
     "name": "stderr",
     "output_type": "stream",
     "text": [
      "/Users/jingbowang/Library/Python/3.9/lib/python/site-packages/urllib3/__init__.py:35: NotOpenSSLWarning: urllib3 v2 only supports OpenSSL 1.1.1+, currently the 'ssl' module is compiled with 'LibreSSL 2.8.3'. See: https://github.com/urllib3/urllib3/issues/3020\n",
      "  warnings.warn(\n"
     ]
    }
   ],
   "source": [
    "import data.sqlDataFetch as sdf"
   ]
  },
  {
   "cell_type": "code",
   "execution_count": 2,
   "metadata": {},
   "outputs": [
    {
     "name": "stdout",
     "output_type": "stream",
     "text": [
      "6d6cfc99-6f26-4974-bbb3-17b5dbad49a9\n",
      "Column Name          | Type      \n",
      "--------------------------------\n",
      "_id                  | int       \n",
      "X                    | text      \n",
      "Y                    | text      \n",
      "SAM_ADDRESS_ID       | text      \n",
      "RELATIONSHIP_TYPE    | text      \n",
      "BUILDING_ID          | text      \n",
      "FULL_ADDRESS         | text      \n",
      "STREET_NUMBER        | text      \n",
      "IS_RANGE             | text      \n",
      "RANGE_FROM           | text      \n",
      "RANGE_TO             | text      \n",
      "UNIT                 | text      \n",
      "FULL_STREET_NAME     | text      \n",
      "STREET_ID            | text      \n",
      "STREET_PREFIX        | text      \n",
      "STREET_BODY          | text      \n",
      "STREET_SUFFIX_ABBR   | text      \n",
      "STREET_FULL_SUFFIX   | text      \n",
      "STREET_SUFFIX_DIR    | text      \n",
      "STREET_NUMBER_SORT   | text      \n",
      "MAILING_NEIGHBORHOOD | text      \n",
      "ZIP_CODE             | text      \n",
      "X_COORD              | text      \n",
      "Y_COORD              | text      \n",
      "SAM_STREET_ID        | text      \n",
      "WARD                 | text      \n",
      "PRECINCT_WARD        | text      \n",
      "PARCEL               | text      \n"
     ]
    }
   ],
   "source": [
    "id=sdf.get_id_by_name('Live Street Address Management Addresses')\n",
    "print(id)\n",
    "sdf.describe_database(id)"
   ]
  },
  {
   "cell_type": "code",
   "execution_count": 3,
   "metadata": {},
   "outputs": [],
   "source": [
    "import requests"
   ]
  },
  {
   "cell_type": "code",
   "execution_count": 4,
   "metadata": {},
   "outputs": [
    {
     "name": "stdout",
     "output_type": "stream",
     "text": [
      "Failed to fetch data: 409\n"
     ]
    }
   ],
   "source": [
    "url = \"https://data.boston.gov/api/3/action/datastore_search_sql\"\n",
    "# Construct the SQL query to select distinct city names from the table\n",
    "sql_query = f\"SELECT UNIT FROM \\\"6d6cfc99-6f26-4974-bbb3-17b5dbad49a9\\\"\"\n",
    "\n",
    "params = {\"sql\": sql_query}\n",
    "\n",
    "# Send the request\n",
    "response = requests.get(url, params=params)\n",
    "\n",
    "allCitiesName = []\n",
    "\n",
    "if response.status_code == 200:\n",
    "    data = response.json()\n",
    "\n",
    "    # Check if there is data in the response\n",
    "    if data['success'] and 'result' in data and 'records' in data['result']:\n",
    "        records = data['result']['records']\n",
    "        # Loop through each record in the response\n",
    "        for record in records:\n",
    "          # Check if the city value is not None\n",
    "          if record['unit'] is not None:\n",
    "            # Add the city name to the list\n",
    "            allCitiesName.append(record['unit'])\n",
    "    else:\n",
    "        print(\"No data found or error in response.\")\n",
    "else:\n",
    "    print(\"Failed to fetch data:\", response.status_code)"
   ]
  }
 ],
 "metadata": {
  "kernelspec": {
   "display_name": "Python 3",
   "language": "python",
   "name": "python3"
  },
  "language_info": {
   "codemirror_mode": {
    "name": "ipython",
    "version": 3
   },
   "file_extension": ".py",
   "mimetype": "text/x-python",
   "name": "python",
   "nbconvert_exporter": "python",
   "pygments_lexer": "ipython3",
   "version": "3.9.6"
  }
 },
 "nbformat": 4,
 "nbformat_minor": 2
}
