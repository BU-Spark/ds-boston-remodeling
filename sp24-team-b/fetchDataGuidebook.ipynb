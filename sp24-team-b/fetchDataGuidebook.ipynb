{
 "cells": [
  {
   "cell_type": "markdown",
   "metadata": {},
   "source": [
    "# Read Data Demo"
   ]
  },
  {
   "cell_type": "markdown",
   "metadata": {},
   "source": [
    "### Environment"
   ]
  },
  {
   "cell_type": "markdown",
   "metadata": {},
   "source": [
    "If use MacBook and you don't have the requests library installed in your Python environment, run the following command line:"
   ]
  },
  {
   "cell_type": "code",
   "execution_count": null,
   "metadata": {},
   "outputs": [],
   "source": [
    "pip install requests"
   ]
  },
  {
   "cell_type": "markdown",
   "metadata": {},
   "source": [
    "### Demo"
   ]
  },
  {
   "cell_type": "markdown",
   "metadata": {},
   "source": [
    "#### Get Database ID"
   ]
  },
  {
   "cell_type": "markdown",
   "metadata": {},
   "source": [
    "1. import the sqlDataReading depot for data file:"
   ]
  },
  {
   "cell_type": "code",
   "execution_count": 4,
   "metadata": {},
   "outputs": [],
   "source": [
    "import data.sqlDataFetch as sdf"
   ]
  },
  {
   "cell_type": "markdown",
   "metadata": {},
   "source": [
    "2. Get database id by full name or year:"
   ]
  },
  {
   "cell_type": "markdown",
   "metadata": {},
   "source": [
    "(a) By full name"
   ]
  },
  {
   "cell_type": "code",
   "execution_count": 5,
   "metadata": {},
   "outputs": [
    {
     "name": "stdout",
     "output_type": "stream",
     "text": [
      "Database id:  6ddcd912-32a0-43df-9908-63574f8c7e77\n"
     ]
    }
   ],
   "source": [
    "print(\"Database id: \", sdf.get_id_by_name('APPROVED BUILDING PERMITS'))"
   ]
  },
  {
   "cell_type": "markdown",
   "metadata": {},
   "source": [
    "(b) By year number"
   ]
  },
  {
   "cell_type": "code",
   "execution_count": 6,
   "metadata": {},
   "outputs": [
    {
     "name": "stdout",
     "output_type": "stream",
     "text": [
      "Database id:  Invalid year, please provide a year between 2004 and 2024\n"
     ]
    }
   ],
   "source": [
    "print(\"Database id: \", sdf.get_id_by_year(2029))"
   ]
  },
  {
   "cell_type": "code",
   "execution_count": 7,
   "metadata": {},
   "outputs": [
    {
     "name": "stdout",
     "output_type": "stream",
     "text": [
      "Database id:  4b99718b-d064-471b-9b24-517ae5effecc\n"
     ]
    }
   ],
   "source": [
    "database_id = sdf.get_id_by_year(2022)\n",
    "print(\"Database id: \", database_id)"
   ]
  },
  {
   "cell_type": "markdown",
   "metadata": {},
   "source": [
    "#### Describe Database"
   ]
  },
  {
   "cell_type": "markdown",
   "metadata": {},
   "source": [
    "To describe a database and see what keys it contains (e.g., column or field names)"
   ]
  },
  {
   "cell_type": "code",
   "execution_count": 5,
   "metadata": {},
   "outputs": [
    {
     "name": "stdout",
     "output_type": "stream",
     "text": [
      "Column Name          | Type      \n",
      "--------------------------------\n",
      "_id                  | int       \n",
      "PID                  | text      \n",
      "CM_ID                | text      \n",
      "GIS_ID               | text      \n",
      "ST_NUM               | text      \n",
      "ST_NAME              | text      \n",
      "UNIT_NUM             | text      \n",
      "CITY                 | text      \n",
      "ZIPCODE              | text      \n",
      "BLDG_SEQ             | text      \n",
      "NUM_BLDGS            | text      \n",
      "LUC                  | text      \n",
      "LU                   | text      \n",
      "LU_DESC              | text      \n",
      "BLDG_TYPE            | text      \n",
      "OWN_OCC              | text      \n",
      "OWNER                | text      \n",
      "MAIL_ADDRESSEE       | text      \n",
      "MAIL_ADDRESS         | text      \n",
      "MAIL_CITY            | text      \n",
      "MAIL_STATE           | text      \n",
      "MAIL_ZIPCODE         | text      \n",
      "RES_FLOOR            | text      \n",
      "CD_FLOOR             | text      \n",
      "RES_UNITS            | text      \n",
      "COM_UNITS            | text      \n",
      "RC_UNITS             | text      \n",
      "LAND_SF              | text      \n",
      "GROSS_AREA           | text      \n",
      "LIVING_AREA          | text      \n",
      "LAND_VALUE           | text      \n",
      "BLDG_VALUE           | text      \n",
      "TOTAL_VALUE          | text      \n",
      "GROSS_TAX            | text      \n",
      "YR_BUILT             | text      \n",
      "YR_REMODEL           | text      \n",
      "STRUCTURE_CLASS      | text      \n",
      "ROOF_STRUCTURE       | text      \n",
      "ROOF_COVER           | text      \n",
      "INT_WALL             | text      \n",
      "EXT_FINISHED         | text      \n",
      "INT_COND             | text      \n",
      "EXT_COND             | text      \n",
      "OVERALL_COND         | text      \n",
      "BED_RMS              | text      \n",
      "FULL_BTH             | text      \n",
      "HLF_BTH              | text      \n",
      "KITCHEN              | text      \n",
      "TT_RMS               | text      \n",
      "BDRM_COND            | text      \n",
      "BTHRM_STYLE1         | text      \n",
      "BTHRM_STYLE2         | text      \n",
      "BTHRM_STYLE3         | text      \n",
      "KITCHEN_TYPE         | text      \n",
      "KITCHEN_STYLE1       | text      \n",
      "KITCHEN_STYLE2       | text      \n",
      "KITCHEN_STYLE3       | text      \n",
      "HEAT_TYPE            | text      \n",
      "HEAT_FUEL            | text      \n",
      "AC_TYPE              | text      \n",
      "FIRE_PLACE           | text      \n",
      "ORIENTATION          | text      \n",
      "NUM_PARKING          | text      \n",
      "PROP_VIEW            | text      \n",
      "CORNER_UNIT          | text      \n"
     ]
    }
   ],
   "source": [
    "sdf.describe_database(database_id)"
   ]
  },
  {
   "cell_type": "markdown",
   "metadata": {},
   "source": [
    "### Fetch Data"
   ]
  },
  {
   "cell_type": "markdown",
   "metadata": {},
   "source": [
    "#### Fetch DATA Without Condition and parameter"
   ]
  },
  {
   "cell_type": "markdown",
   "metadata": {},
   "source": [
    "1. Using fetch_data method only with database id (note: It will only fetch up to 32000 rows)"
   ]
  },
  {
   "cell_type": "code",
   "execution_count": 6,
   "metadata": {},
   "outputs": [
    {
     "name": "stdout",
     "output_type": "stream",
     "text": [
      "          _id                                         _full_text         PID  \\\n",
      "0           1  '0':33,34,35,65,103 '0100001000':1,2 '02128':1...  0100001000   \n",
      "1           2  '0':31,32,33,64,92,93 '0100002000':1,2 '02128'...  0100002000   \n",
      "2      178594  '0':26,27,28,32,38,39,40,41,42,43,44 '0.00':35...  2205666000   \n",
      "3           3  '0':32,33,34,65,97,98 '0100003000':1,2 '02128'...  0100003000   \n",
      "4           4  '0':32,33,34,65,103,104 '0100004000':1,2 '0212...  0100004000   \n",
      "...       ...                                                ...         ...   \n",
      "31995   32068  '-22':8 '-402':27 '0':31,32,33,36,44,45,46,47,...  0306455422   \n",
      "31996   31951  '-108':8,28 '0':35,36,39,100,103 '02118':10,31...  0306455184   \n",
      "31997   31952  '-109':8,27 '0':34,35,38,97,100 '02118':10,30 ...  0306455186   \n",
      "31998   31953  '-110':8 '0':39,40,43,97,100 '02118':10 '025.9...  0306455188   \n",
      "31999   31954  '-101':29 '-111':7 '0':33,34,35,36,43,44,45,46...  0306455190   \n",
      "\n",
      "            CM_ID      GIS_ID      ST_NUM       ST_NAME UNIT_NUM         CITY  \\\n",
      "0                  0100001000  104 A 104      PUTNAM ST     None  EAST BOSTON   \n",
      "1                  0100002000       197    LEXINGTON ST     None  EAST BOSTON   \n",
      "2                  2205666000                KNOWLES ST     None     BRIGHTON   \n",
      "3                  0100003000       199    LEXINGTON ST     None  EAST BOSTON   \n",
      "4                  0100004000       201    LEXINGTON ST     None  EAST BOSTON   \n",
      "...           ...         ...         ...           ...      ...          ...   \n",
      "31995  0306455010  0306455010        25        SAVOY ST    PS-22       BOSTON   \n",
      "31996  0306455010  0306455010        15        SAVOY ST    D-108       BOSTON   \n",
      "31997  0306455010  0306455010        15        SAVOY ST    D-109       BOSTON   \n",
      "31998  0306455010  0306455010        17        SAVOY ST    D-110       BOSTON   \n",
      "31999              0306455010        17        SAVOY ST    D-111       BOSTON   \n",
      "\n",
      "      ZIPCODE  ...   KITCHEN_STYLE2   KITCHEN_STYLE3           HEAT_TYPE  \\\n",
      "0       02128  ...  S - Semi-Modern  S - Semi-Modern  W - Ht Water/Steam   \n",
      "1       02128  ...       M - Modern       M - Modern  F - Forced Hot Air   \n",
      "2       02135  ...             None             None                None   \n",
      "3       02128  ...  S - Semi-Modern  S - Semi-Modern      S - Space Heat   \n",
      "4       02128  ...  S - Semi-Modern  S - Semi-Modern  W - Ht Water/Steam   \n",
      "...       ...  ...              ...              ...                 ...   \n",
      "31995   02118  ...             None             None                None   \n",
      "31996   02118  ...             None             None  F - Forced Hot Air   \n",
      "31997   02118  ...             None             None  F - Forced Hot Air   \n",
      "31998   02118  ...             None             None  F - Forced Hot Air   \n",
      "31999   02118  ...             None             None                None   \n",
      "\n",
      "              HEAT_FUEL         AC_TYPE FIRE_PLACE       ORIENTATION  \\\n",
      "0                  None        N - None          0              None   \n",
      "1                  None  C - Central AC          0              None   \n",
      "2                  None            None          0              None   \n",
      "3                  None        N - None          0              None   \n",
      "4                  None        N - None          0              None   \n",
      "...                 ...             ...        ...               ...   \n",
      "31995              None            None          0              None   \n",
      "31996  I - Indiv. Cntrl  C - Central AC          0  F - Front/Street   \n",
      "31997  I - Indiv. Cntrl  C - Central AC          0  F - Front/Street   \n",
      "31998  I - Indiv. Cntrl  C - Central AC          0  F - Front/Street   \n",
      "31999              None            None          0              None   \n",
      "\n",
      "      NUM_PARKING    PROP_VIEW CORNER_UNIT  \n",
      "0               3  A - Average        None  \n",
      "1               0  A - Average        None  \n",
      "2               0         None        None  \n",
      "3               0  A - Average        None  \n",
      "4               0  A - Average        None  \n",
      "...           ...          ...         ...  \n",
      "31995           0         None        None  \n",
      "31996           0  A - Average      N - No  \n",
      "31997           0  A - Average      N - No  \n",
      "31998           0  A - Average      N - No  \n",
      "31999           0         None        None  \n",
      "\n",
      "[32000 rows x 66 columns]\n"
     ]
    }
   ],
   "source": [
    "df = sdf.fetch_data(database_id)\n",
    "\n",
    "if df is not None:\n",
    "  print(df)"
   ]
  },
  {
   "cell_type": "markdown",
   "metadata": {},
   "source": [
    "#### Fetch Data Without Condition"
   ]
  },
  {
   "cell_type": "markdown",
   "metadata": {},
   "source": [
    "2. Using fetch_data method only with database id and parameters"
   ]
  },
  {
   "cell_type": "code",
   "execution_count": 9,
   "metadata": {},
   "outputs": [
    {
     "name": "stdout",
     "output_type": "stream",
     "text": [
      "          _id         CITY  GROSS_AREA  GROSS_TAX  ZIPCODE  LIVING_AREA  \\\n",
      "0           1  EAST BOSTON      3353.0    7827.07     2128       2202.0   \n",
      "1           2  EAST BOSTON      3299.0    8103.42     2128       2307.0   \n",
      "2      178594     BRIGHTON         NaN       0.00     2135          NaN   \n",
      "3           3  EAST BOSTON      3392.0    7947.84     2128       2268.0   \n",
      "4           4  EAST BOSTON      3108.0    7266.75     2128       2028.0   \n",
      "...       ...          ...         ...        ...      ...          ...   \n",
      "31995   32068       BOSTON         1.0     435.20     2118          1.0   \n",
      "31996   31951       BOSTON      1686.0   16495.17     2118       1686.0   \n",
      "31997   31952       BOSTON      1678.0    6481.21     2118       1678.0   \n",
      "31998   31953       BOSTON      1678.0   18025.98     2118       1678.0   \n",
      "31999   31954       BOSTON         NaN    2165.36     2118          NaN   \n",
      "\n",
      "       BLDG_VALUE  \n",
      "0        539900.0  \n",
      "1        564500.0  \n",
      "2             0.0  \n",
      "3        549700.0  \n",
      "4        486500.0  \n",
      "...           ...  \n",
      "31995     40000.0  \n",
      "31996   1516100.0  \n",
      "31997    595700.0  \n",
      "31998   1656800.0  \n",
      "31999    199022.0  \n",
      "\n",
      "[32000 rows x 7 columns]\n"
     ]
    }
   ],
   "source": [
    "df = sdf.fetch_data(database_id, _id=int, CITY=str, GROSS_AREA=float, GROSS_TAX='money', ZIPCODE=int, LIVING_AREA=float, BLDG_VALUE='value')\n",
    "if df is not None:\n",
    "  print(df)"
   ]
  },
  {
   "cell_type": "markdown",
   "metadata": {},
   "source": [
    "#### Fetch Data with All You Need"
   ]
  },
  {
   "cell_type": "markdown",
   "metadata": {},
   "source": [
    "3. Using fetch_data method only with database id condition and parameters"
   ]
  },
  {
   "cell_type": "code",
   "execution_count": 8,
   "metadata": {},
   "outputs": [
    {
     "name": "stdout",
     "output_type": "stream",
     "text": [
      "         _id     CITY  GROSS_AREA  GROSS_TAX  ZIPCODE  LIVING_AREA  BLDG_VALUE\n",
      "0     162575  ALLSTON         NaN    5043.46     2134          NaN    201900.0\n",
      "1     162576  ALLSTON         NaN    6324.94     2134          NaN    253200.0\n",
      "2     162577  ALLSTON         NaN    3010.09     2134          NaN    120500.0\n",
      "3     162578  ALLSTON         NaN    4668.76     2134          NaN    186900.0\n",
      "4     165044  ALLSTON         NaN    5890.28     2134          NaN    235800.0\n",
      "...      ...      ...         ...        ...      ...          ...         ...\n",
      "4435  174488  ALLSTON      2847.8   10041.15     2134       1969.8    697600.0\n",
      "4436  175412  ALLSTON       772.0    4222.53     2134        772.0    388100.0\n",
      "4437  175413  ALLSTON       774.0    3794.94     2134        774.0    348800.0\n",
      "4438  175510  ALLSTON      3904.0    9598.34     2134       2928.0    695300.0\n",
      "4439  177868  ALLSTON      3260.6    8733.38     2134       2217.6    604100.0\n",
      "\n",
      "[4440 rows x 7 columns]\n"
     ]
    }
   ],
   "source": [
    "condition= \"WHERE \\\"CITY\\\"::text = 'ALLSTON'\"\n",
    "df = sdf.fetch_data(database_id, condition, _id=int, CITY=str, GROSS_AREA=float, GROSS_TAX='money', ZIPCODE=int, LIVING_AREA=float, BLDG_VALUE='value')\n",
    "if df is not None:\n",
    "  print(df)"
   ]
  },
  {
   "cell_type": "markdown",
   "metadata": {},
   "source": [
    "Here is  the mapping from Python data types to SQL data types and functions:\n",
    "```python\n",
    "type_mapping = {\n",
    "    str: \"TEXT\",\n",
    "    int: \"INT\",\n",
    "    float: \"FLOAT\",\n",
    "    bool: \"BOOLEAN\",\n",
    "    # Additional mappings based on the provided SQL examples\n",
    "    'timestamp': lambda col: f\"TO_CHAR(\\\"{col}\\\"::timestamp, 'YYYY-MM-DD')\",\n",
    "    'value': lambda col: f\"CAST(REPLACE(\\\"{col}\\\", ',', '') AS INT) AS \\\"{col}\\\"\",\n",
    "    'money': lambda col: f\"CAST(REPLACE(REPLACE(\\\"{col}\\\", '$', ''), ',', '') AS FLOAT) AS \\\"{col}\\\"\",\n",
    "}\n"
   ]
  },
  {
   "cell_type": "markdown",
   "metadata": {},
   "source": [
    "This $type\\_mapping$ is not all. If you need other type matchings, you can add them to the $get\\_sql\\_cast$ method."
   ]
  },
  {
   "cell_type": "markdown",
   "metadata": {},
   "source": [
    "### Bones\n",
    "Here are some SQL query examples proved by BOS gov:"
   ]
  },
  {
   "cell_type": "markdown",
   "metadata": {},
   "source": [
    "```SQL\n",
    "SELECT\n",
    "    TO_CHAR(\"issued_date\"::timestamp, 'YYYY') AS YEAR,\n",
    "    COUNT(*) PERMITS,\n",
    "    COUNT(DISTINCT \"parcel_id\") PROPERTIES,\n",
    "    SUM(\"declared_valuation\"::decimal)::money TOTAL_VALUE\n",
    "FROM \"6ddcd912-32a0-43df-9908-63574f8c7e77\" APPROVED_BUILDING_PERMITS\n",
    "WHERE\n",
    "    \"zip\" = '02128'\n",
    "    AND \"address\" NOT ILIKE '%%Harborside%%'\n",
    "    AND \"address\" NOT ILIKE '%%Logan%%'\n",
    "    AND \"address\" NOT ILIKE '%%Terminal%%'\n",
    "    AND \"declared_valuation\"::decimal < 500000\n",
    "GROUP BY TO_CHAR(\"issued_date\"::timestamp, 'YYYY')\n",
    "ORDER BY TO_CHAR(\"issued_date\"::timestamp, 'YYYY') ASC;\n",
    "\n",
    "SELECT\n",
    "    *\n",
    "FROM \"6ddcd912-32a0-43df-9908-63574f8c7e77\" APPROVED_BUILDING_PERMITS\n",
    "LIMIT 1;\n",
    "\n",
    "SELECT\n",
    "    TO_CHAR(\"Date\"::timestamp, 'YYYY') AS YEAR,\n",
    "    SUM(\"Connections\"::decimal) AS TOTAL_CONNECTIONS\n",
    "FROM \"3fe9760f-2e4b-4992-8c26-e2e6df59cf3b\" WICKED_FREE_WIFI_CONNECTIONS\n",
    "WHERE\n",
    "    \"Neighborhood\" = 'East Boston'\n",
    "GROUP BY TO_CHAR(\"Date\"::timestamp, 'YYYY')\n",
    "ORDER BY TO_CHAR(\"Date\"::timestamp, 'YYYY') ASC;\n",
    "\n",
    "SELECT\n",
    " \"YEAR\",\n",
    " count(*) TOTAL,\n",
    " count(*) FILTER (WHERE \"UCR_PART\" = 'Part One') PART_ONE,\n",
    " count(*) FILTER (WHERE \"UCR_PART\" = 'Part Two') PART_TWO,\n",
    " count(*) FILTER (WHERE \"UCR_PART\" = 'Part Three') PART_THREE,\n",
    " count(*) FILTER (WHERE \"UCR_PART\" = 'Other') OTHER\n",
    "FROM \"12cb3883-56f5-47de-afa5-3b1cf61b257b\" CRIME_INCIDENT_REPORTS\n",
    "WHERE\n",
    "    \"DISTRICT\" = 'A7'\n",
    "GROUP BY \"YEAR\"\n",
    "ORDER BY \"YEAR\" asc;\n",
    "\n",
    "SELECT\n",
    "    *\n",
    "FROM \"2968e2c0-d479-49ba-a884-4ef523ada3c0\" REPORTS_311\n",
    "LIMIT 10;\n",
    "\n",
    "SELECT\n",
    "    TO_CHAR(\"open_dt\"::timestamp, 'YYYY') AS YEAR,\n",
    "    COUNT(*) TOTAL_REPORTS,\n",
    "    COUNT(*)/MAX(CASE WHEN EXTRACT(YEAR FROM CURRENT_DATE) = EXTRACT(YEAR FROM \"open_dt\"::timestamp) THEN CURRENT_DATE-(EXTRACT(YEAR FROM CURRENT_DATE)||'-01-01')::date ELSE 365 END) DAILY_AVERAGE\n",
    "FROM \"2968e2c0-d479-49ba-a884-4ef523ada3c0\" REPORTS_311\n",
    "WHERE\n",
    "    \"neighborhood_services_district\" = '1'\n",
    "GROUP BY TO_CHAR(\"open_dt\"::timestamp, 'YYYY')\n",
    "ORDER BY TO_CHAR(\"open_dt\"::timestamp, 'YYYY') ASC;\n",
    "\n",
    "SELECT\n",
    "    point(\"Lat\"::decimal,\"Long\"::decimal) <@ circle '((42.370024,-71.0355957),0.01)' within1km\n",
    "FROM \"12cb3883-56f5-47de-afa5-3b1cf61b257b\" CRIME_INCIDENT_REPORTS\n",
    "WHERE \"DISTRICT\"::text = 'A7' and \"Location\"::text != '(0.00000000, 0.00000000)'\n",
    "LIMIT 100;\n",
    "\n",
    "WITH RANKED AS (SELECT\n",
    "    RANK() OVER (ORDER BY sum(\"declared_valuation\"::decimal) DESC) RANK,\n",
    "    \"property_id\"::text,\n",
    "    MAX(\"declared_valuation\"::decimal) AS \"TOTAL_VALUE\"\n",
    "FROM \"6ddcd912-32a0-43df-9908-63574f8c7e77\" APPROVED_BUILDING_PERMITS\n",
    "WHERE\n",
    "    \"zip\"::text = '02128'\n",
    "    AND \"owner\"::text not in (\n",
    "        'MASSACHUSETTS PORT AUTHORITY',\n",
    "        'CITY OF BOSTON',\n",
    "        'BOSTON HOUSING AUTHORITY',\n",
    "        'ROMAN CATH ARCH OF BOS',\n",
    "        'BROOKE CHARTER SCHOOL',\n",
    "        'BROOKE CHARTER SCHOOL '\n",
    "        'CITY OF BOSTON ',\n",
    "        'MASSACHUSETTS PORT AUTH',\n",
    "        'MASS PORT AUTHORITY',\n",
    "        'CITY  OF  BOSTON',\n",
    "        'BROOKE CHARTER SCHOOL '\n",
    "    )\n",
    "    AND \"occupancytype\"::text != 'Comm'\n",
    "GROUP BY \"property_id\"::text\n",
    "ORDER BY \"TOTAL_VALUE\" desc)\n",
    "SELECT\n",
    "    r.RANK,a.*\n",
    "FROM \"6ddcd912-32a0-43df-9908-63574f8c7e77\" a\n",
    "    LEFT JOIN RANKED r on a.\"property_id\" = r.\"property_id\"\n",
    "WHERE\n",
    "     \"zip\"::text = '02128'\n",
    "    AND \"owner\"::text not in (\n",
    "        'MASSACHUSETTS PORT AUTHORITY',\n",
    "        'CITY OF BOSTON',\n",
    "        'BOSTON HOUSING AUTHORITY',\n",
    "        'ROMAN CATH ARCH OF BOS',\n",
    "        'BROOKE CHARTER SCHOOL',\n",
    "        'BROOKE CHARTER SCHOOL '\n",
    "        'CITY OF BOSTON ',\n",
    "        'MASSACHUSETTS PORT AUTH',\n",
    "        'MASS PORT AUTHORITY',\n",
    "        'CITY  OF  BOSTON',\n",
    "        'BROOKE CHARTER SCHOOL '\n",
    "    )\n",
    "    AND \"occupancytype\"::text != 'Comm'\n",
    "ORDER BY RANK ASC\n",
    "limit 100;\n",
    "\n"
   ]
  },
  {
   "cell_type": "markdown",
   "metadata": {},
   "source": [
    "And the link: https://nattaylor.com/labs/analyzeboston/#"
   ]
  }
 ],
 "metadata": {
  "kernelspec": {
   "display_name": "Python 3",
   "language": "python",
   "name": "python3"
  },
  "language_info": {
   "codemirror_mode": {
    "name": "ipython",
    "version": 3
   },
   "file_extension": ".py",
   "mimetype": "text/x-python",
   "name": "python",
   "nbconvert_exporter": "python",
   "pygments_lexer": "ipython3",
   "version": "3.9.6"
  }
 },
 "nbformat": 4,
 "nbformat_minor": 2
}
