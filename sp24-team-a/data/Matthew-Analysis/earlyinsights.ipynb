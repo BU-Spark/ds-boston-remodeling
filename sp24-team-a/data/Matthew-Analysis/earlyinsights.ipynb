{
 "cells": [
  {
   "cell_type": "code",
   "execution_count": 2,
   "metadata": {},
   "outputs": [],
   "source": [
    "import requests\n",
    "from bs4 import BeautifulSoup\n",
    "import pandas as pd\n",
    "import numpy as np"
   ]
  },
  {
   "cell_type": "code",
   "execution_count": 9,
   "metadata": {},
   "outputs": [],
   "source": [
    "def get_dfs():\n",
    "    url = \"https://data.boston.gov/dataset/property-assessment\"\n",
    "    data = requests.get(url)\n",
    "    dfs = {}\n",
    "    parser = BeautifulSoup(data.text,\"html.parser\")\n",
    "    year = 2024\n",
    "    for link in parser.find_all(\"a\",href = True):\n",
    "        if \".csv\" in link['href'] or \".txt\" in link[\"href\"]:\n",
    "            print(link['href'])\n",
    "            dfs[year] = pd.read_csv(link['href'])\n",
    "            year -= 1\n",
    "    return dfs\n",
    "\n",
    "\n",
    "\n"
   ]
  },
  {
   "cell_type": "code",
   "execution_count": 10,
   "metadata": {},
   "outputs": [
    {
     "name": "stdout",
     "output_type": "stream",
     "text": [
      "https://data.boston.gov/dataset/e02c44d2-3c64-459c-8fe2-e1ce5f38a035/resource/a9eb19ad-da79-4f7b-9e3b-6b13e66f8285/download/fy2024-property-assessment-data_1_5_2024.csv\n"
     ]
    },
    {
     "name": "stderr",
     "output_type": "stream",
     "text": [
      "C:\\Users\\laser\\AppData\\Local\\Temp\\ipykernel_20952\\2873929364.py:10: DtypeWarning: Columns (20) have mixed types. Specify dtype option on import or set low_memory=False.\n",
      "  dfs[year] = pd.read_csv(link['href'])\n"
     ]
    },
    {
     "name": "stdout",
     "output_type": "stream",
     "text": [
      "https://data.boston.gov/dataset/e02c44d2-3c64-459c-8fe2-e1ce5f38a035/resource/1000d81c-5bb5-49e8-a9ab-44cd042f1db2/download/fy2023-property-assessment-data.csv\n",
      "https://data.boston.gov/dataset/e02c44d2-3c64-459c-8fe2-e1ce5f38a035/resource/4b99718b-d064-471b-9b24-517ae5effecc/download/fy2022pa-4.csv\n",
      "https://data.boston.gov/dataset/e02c44d2-3c64-459c-8fe2-e1ce5f38a035/resource/c4b7331e-e213-45a5-adda-052e4dd31d41/download/data2021-full.csv\n",
      "https://data.boston.gov/dataset/e02c44d2-3c64-459c-8fe2-e1ce5f38a035/resource/8de4e3a0-c1d2-47cb-8202-98b9cbe3bd04/download/data2020-full.csv\n"
     ]
    },
    {
     "name": "stderr",
     "output_type": "stream",
     "text": [
      "C:\\Users\\laser\\AppData\\Local\\Temp\\ipykernel_20952\\2873929364.py:10: DtypeWarning: Columns (6,15,27,28,29,34,35,36,37,38,39,40,41,42,44,45,46,47,48,58,59,64,65,66,67,68,69,70,72,73,74) have mixed types. Specify dtype option on import or set low_memory=False.\n",
      "  dfs[year] = pd.read_csv(link['href'])\n"
     ]
    },
    {
     "name": "stdout",
     "output_type": "stream",
     "text": [
      "https://data.boston.gov/dataset/e02c44d2-3c64-459c-8fe2-e1ce5f38a035/resource/695a8596-5458-442b-a017-7cd72471aade/download/fy19fullpropassess.csv\n"
     ]
    },
    {
     "name": "stderr",
     "output_type": "stream",
     "text": [
      "C:\\Users\\laser\\AppData\\Local\\Temp\\ipykernel_20952\\2873929364.py:10: DtypeWarning: Columns (15,60) have mixed types. Specify dtype option on import or set low_memory=False.\n",
      "  dfs[year] = pd.read_csv(link['href'])\n"
     ]
    },
    {
     "name": "stdout",
     "output_type": "stream",
     "text": [
      "https://data.boston.gov/dataset/e02c44d2-3c64-459c-8fe2-e1ce5f38a035/resource/fd351943-c2c6-4630-992d-3f895360febd/download/ast2018full.csv\n"
     ]
    },
    {
     "name": "stderr",
     "output_type": "stream",
     "text": [
      "C:\\Users\\laser\\AppData\\Local\\Temp\\ipykernel_20952\\2873929364.py:10: DtypeWarning: Columns (15,60,63) have mixed types. Specify dtype option on import or set low_memory=False.\n",
      "  dfs[year] = pd.read_csv(link['href'])\n"
     ]
    },
    {
     "name": "stdout",
     "output_type": "stream",
     "text": [
      "https://data.boston.gov/dataset/e02c44d2-3c64-459c-8fe2-e1ce5f38a035/resource/062fc6fa-b5ff-4270-86cf-202225e40858/download/property-assessment-fy2017.csv\n"
     ]
    },
    {
     "name": "stderr",
     "output_type": "stream",
     "text": [
      "C:\\Users\\laser\\AppData\\Local\\Temp\\ipykernel_20952\\2873929364.py:10: DtypeWarning: Columns (60,63) have mixed types. Specify dtype option on import or set low_memory=False.\n",
      "  dfs[year] = pd.read_csv(link['href'])\n"
     ]
    },
    {
     "name": "stdout",
     "output_type": "stream",
     "text": [
      "https://data.boston.gov/dataset/e02c44d2-3c64-459c-8fe2-e1ce5f38a035/resource/cecdf003-9348-4ddb-94e1-673b63940bb8/download/property-assessment-fy2016.csv\n"
     ]
    },
    {
     "name": "stderr",
     "output_type": "stream",
     "text": [
      "C:\\Users\\laser\\AppData\\Local\\Temp\\ipykernel_20952\\2873929364.py:10: DtypeWarning: Columns (60,63) have mixed types. Specify dtype option on import or set low_memory=False.\n",
      "  dfs[year] = pd.read_csv(link['href'])\n"
     ]
    },
    {
     "name": "stdout",
     "output_type": "stream",
     "text": [
      "https://data.boston.gov/dataset/e02c44d2-3c64-459c-8fe2-e1ce5f38a035/resource/bdb17c2b-e9ab-44e4-a070-bf804a0e1a7f/download/property-assessment-fy2015.csv\n",
      "https://data.boston.gov/dataset/e02c44d2-3c64-459c-8fe2-e1ce5f38a035/resource/7190b0a4-30c4-44c5-911d-c34f60b22181/download/property-assessment-fy2014.csv\n"
     ]
    },
    {
     "name": "stderr",
     "output_type": "stream",
     "text": [
      "C:\\Users\\laser\\AppData\\Local\\Temp\\ipykernel_20952\\2873929364.py:10: DtypeWarning: Columns (15,46,53,55) have mixed types. Specify dtype option on import or set low_memory=False.\n",
      "  dfs[year] = pd.read_csv(link['href'])\n"
     ]
    },
    {
     "name": "stdout",
     "output_type": "stream",
     "text": [
      "https://data.boston.gov/dataset/e02c44d2-3c64-459c-8fe2-e1ce5f38a035/resource/425fd527-e26b-49c9-853c-1c4d3d2bdd97/download/property-assessment-fy13.csv\n"
     ]
    },
    {
     "name": "stderr",
     "output_type": "stream",
     "text": [
      "C:\\Users\\laser\\AppData\\Local\\Temp\\ipykernel_20952\\2873929364.py:10: DtypeWarning: Columns (13,46,49) have mixed types. Specify dtype option on import or set low_memory=False.\n",
      "  dfs[year] = pd.read_csv(link['href'])\n"
     ]
    },
    {
     "name": "stdout",
     "output_type": "stream",
     "text": [
      "https://data.boston.gov/dataset/e02c44d2-3c64-459c-8fe2-e1ce5f38a035/resource/4326ca95-09ec-42e0-8cee-f048e00e6728/download/property-assessment-fy12.csv\n"
     ]
    },
    {
     "name": "stderr",
     "output_type": "stream",
     "text": [
      "C:\\Users\\laser\\AppData\\Local\\Temp\\ipykernel_20952\\2873929364.py:10: DtypeWarning: Columns (13,42,46,49) have mixed types. Specify dtype option on import or set low_memory=False.\n",
      "  dfs[year] = pd.read_csv(link['href'])\n"
     ]
    },
    {
     "name": "stdout",
     "output_type": "stream",
     "text": [
      "https://data.boston.gov/dataset/e02c44d2-3c64-459c-8fe2-e1ce5f38a035/resource/110e8ded-d7cd-40d2-a72c-e4f3c7e9c541/download/property-assessment-fy11.csv\n"
     ]
    },
    {
     "name": "stderr",
     "output_type": "stream",
     "text": [
      "C:\\Users\\laser\\AppData\\Local\\Temp\\ipykernel_20952\\2873929364.py:10: DtypeWarning: Columns (13,25,26,27,33,34,37,41,44,45,48,49,50,51,52) have mixed types. Specify dtype option on import or set low_memory=False.\n",
      "  dfs[year] = pd.read_csv(link['href'])\n"
     ]
    },
    {
     "name": "stdout",
     "output_type": "stream",
     "text": [
      "https://data.boston.gov/dataset/e02c44d2-3c64-459c-8fe2-e1ce5f38a035/resource/738ece37-5ae0-4f04-bf69-eca3ae1940b2/download/property-assessment-fy10.csv\n"
     ]
    },
    {
     "name": "stderr",
     "output_type": "stream",
     "text": [
      "C:\\Users\\laser\\AppData\\Local\\Temp\\ipykernel_20952\\2873929364.py:10: DtypeWarning: Columns (13) have mixed types. Specify dtype option on import or set low_memory=False.\n",
      "  dfs[year] = pd.read_csv(link['href'])\n"
     ]
    },
    {
     "name": "stdout",
     "output_type": "stream",
     "text": [
      "https://data.boston.gov/dataset/e02c44d2-3c64-459c-8fe2-e1ce5f38a035/resource/1a374bd0-1ff9-4d1a-8727-ddfc201254fe/download/property-assessment-fy09.csv\n"
     ]
    },
    {
     "name": "stderr",
     "output_type": "stream",
     "text": [
      "C:\\Users\\laser\\AppData\\Local\\Temp\\ipykernel_20952\\2873929364.py:10: DtypeWarning: Columns (13) have mixed types. Specify dtype option on import or set low_memory=False.\n",
      "  dfs[year] = pd.read_csv(link['href'])\n"
     ]
    },
    {
     "name": "stdout",
     "output_type": "stream",
     "text": [
      "https://data.boston.gov/dataset/e02c44d2-3c64-459c-8fe2-e1ce5f38a035/resource/81f34da8-ec6d-45f6-8d6c-65c57e71023e/download/property-assessment-fy08.csv\n"
     ]
    },
    {
     "name": "stderr",
     "output_type": "stream",
     "text": [
      "C:\\Users\\laser\\AppData\\Local\\Temp\\ipykernel_20952\\2873929364.py:10: DtypeWarning: Columns (6,13) have mixed types. Specify dtype option on import or set low_memory=False.\n",
      "  dfs[year] = pd.read_csv(link['href'])\n"
     ]
    },
    {
     "name": "stdout",
     "output_type": "stream",
     "text": [
      "https://data.boston.gov/dataset/e02c44d2-3c64-459c-8fe2-e1ce5f38a035/resource/b3862082-216b-4a24-9f31-f47782079c3c/download/data2007-lite.txt\n"
     ]
    },
    {
     "name": "stderr",
     "output_type": "stream",
     "text": [
      "C:\\Users\\laser\\AppData\\Local\\Temp\\ipykernel_20952\\2873929364.py:10: DtypeWarning: Columns (13) have mixed types. Specify dtype option on import or set low_memory=False.\n",
      "  dfs[year] = pd.read_csv(link['href'])\n"
     ]
    },
    {
     "name": "stdout",
     "output_type": "stream",
     "text": [
      "https://data.boston.gov/dataset/e02c44d2-3c64-459c-8fe2-e1ce5f38a035/resource/327af2fd-e386-4822-8a7f-aaab6d4d2c62/download/data2006lite.txt\n"
     ]
    },
    {
     "name": "stderr",
     "output_type": "stream",
     "text": [
      "C:\\Users\\laser\\AppData\\Local\\Temp\\ipykernel_20952\\2873929364.py:10: DtypeWarning: Columns (13) have mixed types. Specify dtype option on import or set low_memory=False.\n",
      "  dfs[year] = pd.read_csv(link['href'])\n"
     ]
    },
    {
     "name": "stdout",
     "output_type": "stream",
     "text": [
      "https://data.boston.gov/dataset/e02c44d2-3c64-459c-8fe2-e1ce5f38a035/resource/5bfe4ca0-71c0-4751-bdcf-dad4d58445e0/download/data2005-lite.txt\n"
     ]
    },
    {
     "name": "stderr",
     "output_type": "stream",
     "text": [
      "C:\\Users\\laser\\AppData\\Local\\Temp\\ipykernel_20952\\2873929364.py:10: DtypeWarning: Columns (13) have mixed types. Specify dtype option on import or set low_memory=False.\n",
      "  dfs[year] = pd.read_csv(link['href'])\n"
     ]
    },
    {
     "name": "stdout",
     "output_type": "stream",
     "text": [
      "https://data.boston.gov/dataset/e02c44d2-3c64-459c-8fe2-e1ce5f38a035/resource/d3be93ad-7939-4425-8b3b-73b69a747fa4/download/data2004-lite.txt\n"
     ]
    },
    {
     "name": "stderr",
     "output_type": "stream",
     "text": [
      "C:\\Users\\laser\\AppData\\Local\\Temp\\ipykernel_20952\\2873929364.py:10: DtypeWarning: Columns (13) have mixed types. Specify dtype option on import or set low_memory=False.\n",
      "  dfs[year] = pd.read_csv(link['href'])\n"
     ]
    }
   ],
   "source": [
    "dfs = get_dfs()"
   ]
  },
  {
   "cell_type": "code",
   "execution_count": 12,
   "metadata": {},
   "outputs": [],
   "source": [
    "for key in dfs:\n",
    "    dfs[key][\"Year\"] = key"
   ]
  },
  {
   "cell_type": "code",
   "execution_count": 50,
   "metadata": {},
   "outputs": [],
   "source": [
    "df_2004_2024 = pd.DataFrame()\n",
    "for key in dfs:\n",
    "    dfs[key].rename(columns = {'OWNER MAIL ADDRESS' : 'MAIL_STREET_ADDRESS',\"HEAT_FUEL\" : \"HEAT_SYSTEM\", \"KITCHEN\" : \"KITCHENS\",\"EXT_FNISHED\":\"EXT_FINISHED\",\\\n",
    "                     'MAIL_STREET_ADDRESS': 'MAIL_ADDRESS', 'MAIL_ZIP_CODE':'MAIL_ZIPCODE','ZIP_CODE':'ZIPCODE','YR_REMOD':'YR_REMODEL','OWNER_MAIL_ZIPCODE' : 'MAIL_ZIPCODE','OWNER_MAIL_CS' : 'MAIL CS',\\\n",
    "                              'OWNER_MAIL_ADDRESS':'MAIL_ADDRESS','Owner_MAIL_ZIPCODE':'MAIL_ZIPCODE','Owner_MAIL_CS':'MAIL CS','Parcel_ID':'PID','Owner_MAIL_ADDRESS':'MAIL_ADDRESS',\\\n",
    "                              'FY2008_BLDG' : 'BLDG_TYPE', 'FY2008_GROSS_TAX' : 'GROSS_TAX','FY2008_LAND' : 'LAND_VALUE', 'FY2008_TOTAL' : 'TOTAL_VALUE',\\\n",
    "                               'AV_LAND' :'BLDG_VALUE' , 'AV_TOTAL' : 'TOTAL_VALUE'},inplace = True)\n",
    "dfs[2005][\"ZIPCODE\"] = dfs[2005][\"PTYPE\"]\n",
    "df_2004_2024 = pd.concat(dfs)"
   ]
  },
  {
   "cell_type": "code",
   "execution_count": 52,
   "metadata": {},
   "outputs": [],
   "source": [
    "df_2004_2024 = df_2004_2024[[\"Year\",\"ZIPCODE\"]]"
   ]
  },
  {
   "cell_type": "code",
   "execution_count": 11,
   "metadata": {},
   "outputs": [
    {
     "name": "stderr",
     "output_type": "stream",
     "text": [
      "C:\\Users\\laser\\AppData\\Local\\Temp\\ipykernel_11364\\1557352113.py:2: DtypeWarning: Columns (0,1,2,3,5,6,12,13,16,17,18,19,20,26,29,30,32,33,36,37,38,39,40,41,42,43,49,50,51,52,53,54,55,56,57,58,59,61,63,64,66,67,68,69,70,72,73,78,79,80,85,86,87,88,89,90,91,92,93,95,96,97,98,99,101,105,106,107,109,110,111,113,114,115,116,117,118,119,120,123,124,125,126,127,128,129,130,131,132) have mixed types. Specify dtype option on import or set low_memory=False.\n",
      "  df = pd.read_csv(\"property_assessments.csv\")\n"
     ]
    }
   ],
   "source": [
    "df = pd.read_csv(\"property_assessments.csv\")"
   ]
  },
  {
   "cell_type": "code",
   "execution_count": 53,
   "metadata": {},
   "outputs": [],
   "source": [
    "def zipcodefun(x):\n",
    "    x= str(x)\n",
    "    if x in ['_','0NULL_','000D_','00000_', \"3.0\",\"1\",\"9R\",\"1.0\",\"8.0\",'00420_',\"nan\",\"00003\",\"0000D\"\\\n",
    "            \"00405\",\"00403\",\"00105\",\" '098221\",\"0None\"]:\n",
    "        return None\n",
    "    if \".0\" in x:\n",
    "        x = x.replace(\".0\",\"\")\n",
    "        x = \"0\" + x\n",
    "        return x\n",
    "    if x[-1] == \"_\":\n",
    "        x = x[0:-1]\n",
    "        return x\n",
    "    if len(x) == 4:\n",
    "        if x[0] == \"0\":\n",
    "            return x + \"0\"\n",
    "        return \"0\" + x\n",
    "    return x\n",
    "        \n",
    "    \n",
    "df_2004_2024[\"ZIPCODE\"] = df_2004_2024[\"ZIPCODE\"].apply(lambda x : zipcodefun(x))\n",
    "df_2004_2024.to_csv(\"property_assessments.csv\",index = False)"
   ]
  },
  {
   "cell_type": "code",
   "execution_count": null,
   "metadata": {},
   "outputs": [],
   "source": []
  },
  {
   "cell_type": "code",
   "execution_count": 54,
   "metadata": {},
   "outputs": [],
   "source": [
    "zipdict = {'02128' : \"EAST BOSTON\", '02115' : \"KENMORE\", '02130' : \"JAMAICA PLAIN\", '02129' : \"CHARLESTOWN\" ,\\\n",
    " '02114' :\"DOWNTOWN\",  '02113' : \"NORTH END\", '02109' : \"NORTH END\", '02108' : \"BEACON HILL\" , '02110' : \"DOWNTOWN\",\\\n",
    " '02201' : \"DOWNTOWN\", '02210' : \"SOUTH BOSTON\" ,'02116' : \"BACK BAY\" , '02111' : \"CHINATOWN\", '02127' : \"SOUTH BOSTON\",\\\n",
    " '02118' : \"SOUTH END\",'02215' : \"KENMORE\", '02120' : \"JAMAICA PLAIN\",\\\n",
    " '02125' : \"HARBOR ISLANDS\", '02122' : \"DORCHESTER\", '02124' : \"DORCHESTER\", '02131' : \"ROSINDALE\", '02121' : \"ROXBURY\",\\\n",
    " '02126' : \"MATTAPAN\", '02136' : \"HYDE PARK\", '02135' : \"ALLSTON\", '02132' : \"WEST ROXBURY\",\n",
    " '02467' : \"CHESTNUT HILL\", '02134' : \"ALLSTON\", '02167' : \"CHESTNUT HILL\"}\n",
    "df_2004_2024[\"ZIPCODE\"] = df_2004_2024[\"ZIPCODE\"].apply(lambda x : x if x in zipdict else None)\n",
    "df_2004_2024 = df_2004_2024[df_2004_2024[\"ZIPCODE\"].notna()]"
   ]
  },
  {
   "cell_type": "code",
   "execution_count": 55,
   "metadata": {},
   "outputs": [],
   "source": [
    "df_2004_2024[\"NEIGHBORHOOD\"] = df_2004_2024[\"ZIPCODE\"].apply(lambda x : zipdict[x])"
   ]
  },
  {
   "cell_type": "code",
   "execution_count": 82,
   "metadata": {},
   "outputs": [
    {
     "name": "stdout",
     "output_type": "stream",
     "text": [
      "148914\n"
     ]
    }
   ],
   "source": [
    "dfpercent = pd.DataFrame(columns = [\"Year\",\"NEIGHBORHOOD\",\"change\",\"%change\",\"count\"])\n",
    "nums = df_2004_2024.groupby(\"NEIGHBORHOOD\")[\"Year\"].value_counts()\n",
    "for nh in df_2004_2024[\"NEIGHBORHOOD\"].unique():\n",
    "    for year in range(2004,2025):\n",
    "        if year != 2004:\n",
    "            p = nums[nh][year] / nums[nh][year-1]\n",
    "            p = (p-1) *100\n",
    "            c = nums[nh][year] - nums[nh][year-1]\n",
    "            dfpercent.loc[len(dfpercent)+1] = {\"Year\":year,\"NEIGHBORHOOD\":nh,\"change\" : c,\"%change\":p,\"count\":nums[nh][year]}\n",
    "        else:\n",
    "            dfpercent.loc[len(dfpercent)+1] = {\"Year\":year,\"NEIGHBORHOOD\":nh,\"change\" : None, \"%change\": None,\"count\":nums[nh][year]}\n",
    "    \n",
    "            \n",
    "            \n",
    "        "
   ]
  },
  {
   "cell_type": "code",
   "execution_count": 83,
   "metadata": {},
   "outputs": [
    {
     "name": "stdout",
     "output_type": "stream",
     "text": [
      "     Year   NEIGHBORHOOD change   %change  count\n",
      "1    2004    EAST BOSTON   None       NaN   7215\n",
      "2    2005    EAST BOSTON     20  0.277200   7235\n",
      "3    2006    EAST BOSTON     31  0.428473   7266\n",
      "4    2007    EAST BOSTON    335  4.610515   7601\n",
      "5    2008    EAST BOSTON    137  1.802394   7738\n",
      "..    ...            ...    ...       ...    ...\n",
      "416  2020  CHESTNUT HILL     -7 -0.678952   1024\n",
      "417  2021  CHESTNUT HILL     -8 -0.781250   1016\n",
      "418  2022  CHESTNUT HILL      1  0.098425   1017\n",
      "419  2023  CHESTNUT HILL      0  0.000000   1017\n",
      "420  2024  CHESTNUT HILL      0  0.000000   1017\n",
      "\n",
      "[420 rows x 5 columns]\n",
      "Year  ZIPCODE  NEIGHBORHOOD \n",
      "2004  02132    WEST ROXBURY     10418\n",
      "      02124    DORCHESTER        9883\n",
      "      02135    ALLSTON           9635\n",
      "      02130    JAMAICA PLAIN     9116\n",
      "      02127    SOUTH BOSTON      9085\n",
      "                                ...  \n",
      "2024  02210    SOUTH BOSTON      2132\n",
      "      02120    JAMAICA PLAIN     1873\n",
      "      02109    NORTH END         1847\n",
      "      02467    CHESTNUT HILL     1017\n",
      "      02201    DOWNTOWN             3\n",
      "Length: 588, dtype: int64\n",
      "2005\n",
      "2006\n",
      "2007\n",
      "2008\n",
      "2009\n",
      "2010\n",
      "2011\n",
      "2012\n",
      "2013\n",
      "2014\n",
      "2015\n",
      "2016\n",
      "2017\n",
      "2018\n",
      "2019\n",
      "2020\n",
      "2021\n",
      "2022\n",
      "2023\n",
      "2024\n",
      "     Year  NEIGHBORHOOD change   %change   count\n",
      "421  2005  BOSTON TOTAL   1877  1.360480  139843\n",
      "422  2006  BOSTON TOTAL   2655  1.898558  142498\n",
      "423  2007  BOSTON TOTAL   2835  1.989502  145333\n",
      "424  2008  BOSTON TOTAL   3581  2.463996  148914\n",
      "425  2009  BOSTON TOTAL   3295  2.212687  152209\n",
      "426  2010  BOSTON TOTAL   1949  1.280476  154158\n",
      "427  2011  BOSTON TOTAL   1199  0.777773  155357\n",
      "428  2012  BOSTON TOTAL   3391  2.182715  158748\n",
      "429  2013  BOSTON TOTAL    765  0.481896  159513\n",
      "430  2014  BOSTON TOTAL  -1351 -0.846953  158162\n",
      "431  2015  BOSTON TOTAL   3852  2.435478  162014\n",
      "432  2016  BOSTON TOTAL   1088  0.671547  163102\n",
      "433  2017  BOSTON TOTAL   1689  1.035548  164791\n",
      "434  2018  BOSTON TOTAL   1928  1.169967  166719\n",
      "435  2019  BOSTON TOTAL   1785  1.070664  168504\n",
      "436  2020  BOSTON TOTAL    479  0.284266  168983\n",
      "437  2021  BOSTON TOTAL   2053  1.214915  171036\n",
      "438  2022  BOSTON TOTAL   1476  0.862976  172512\n",
      "439  2023  BOSTON TOTAL   1941  1.125139  174453\n",
      "440  2024  BOSTON TOTAL   1642  0.941228  176095\n"
     ]
    }
   ],
   "source": [
    "num_counts = df_2004_2024.groupby(\"Year\")\n",
    "for year in range(2005,2025):\n",
    "    if year != 2004:\n",
    "        count = np.sum(num_counts.value_counts()[year])\n",
    "        prev_count = np.sum(num_counts.value_counts()[year-1])\n",
    "        c = count - prev_count\n",
    "        p = count / prev_count\n",
    "        p = (p-1) *100\n",
    "        dfpercent.loc[len(dfpercent)+1] = {\"Year\":year,\"NEIGHBORHOOD\": \"BOSTON TOTAL\",\"change\" : c,\"%change\":p,\"count\":count}\n",
    "    else:\n",
    "        count = np.sum(num_counts.value_counts()[year])\n",
    "        dfpercent.loc[len(dfpercent)+1] = {\"Year\":year,\"NEIGHBORHOOD\": \"BOSTON TOTAL\",\"change\" : None,\"%change\":None,\"count\":count}\n",
    "        \n",
    "        \n",
    "    "
   ]
  },
  {
   "cell_type": "code",
   "execution_count": 84,
   "metadata": {},
   "outputs": [],
   "source": [
    "dfpercent.to_csv(\"neighborhood_changes_2004_2024.csv\",index = False)"
   ]
  }
 ],
 "metadata": {
  "kernelspec": {
   "display_name": "Python 3 (ipykernel)",
   "language": "python",
   "name": "python3"
  },
  "language_info": {
   "codemirror_mode": {
    "name": "ipython",
    "version": 3
   },
   "file_extension": ".py",
   "mimetype": "text/x-python",
   "name": "python",
   "nbconvert_exporter": "python",
   "pygments_lexer": "ipython3",
   "version": "3.10.9"
  }
 },
 "nbformat": 4,
 "nbformat_minor": 4
}
