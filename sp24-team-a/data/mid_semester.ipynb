{
 "cells": [
  {
   "cell_type": "code",
   "execution_count": 63,
   "id": "e6a31a9f-66cd-44bf-bd9f-151b9e994479",
   "metadata": {},
   "outputs": [],
   "source": [
    "import pandas as pd\n",
    "import numpy as np\n",
    "from tqdm import tqdm\n",
    "from matplotlib import pyplot as plt\n",
    "tqdm.pandas()"
   ]
  },
  {
   "cell_type": "code",
   "execution_count": 21,
   "id": "4f4f68a1-0020-492a-b880-587ba71a5d29",
   "metadata": {},
   "outputs": [],
   "source": [
    "zipdict = {'02128' : \"EAST BOSTON\", '02115' : \"KENMORE\", '02130' : \"JAMAICA PLAIN\", '02129' : \"CHARLESTOWN\" ,\\\n",
    " '02114' :\"DOWNTOWN\",  '02113' : \"NORTH END\", '02109' : \"NORTH END\", '02108' : \"BEACON HILL\" , '02110' : \"DOWNTOWN\",\\\n",
    " '02201' : \"DOWNTOWN\", '02210' : \"SOUTH BOSTON\" ,'02116' : \"BACK BAY\" , '02111' : \"CHINATOWN\", '02127' : \"SOUTH BOSTON\",\\\n",
    " '02118' : \"SOUTH END\",'02215' : \"KENMORE\", '02120' : \"JAMAICA PLAIN\",\\\n",
    " '02125' : \"HARBOR ISLANDS\", '02122' : \"DORCHESTER\", '02124' : \"DORCHESTER\", '02131' : \"ROSINDALE\", '02121' : \"ROXBURY\",\\\n",
    " '02126' : \"MATTAPAN\", '02136' : \"HYDE PARK\", '02135' : \"ALLSTON\", '02132' : \"WEST ROXBURY\",\n",
    " '02467' : \"CHESTNUT HILL\", '02134' : \"ALLSTON\", '02167' : \"CHESTNUT HILL\"}"
   ]
  },
  {
   "cell_type": "code",
   "execution_count": 33,
   "id": "ddf0071d-b424-4a5b-b7b4-d58727297959",
   "metadata": {},
   "outputs": [
    {
     "name": "stderr",
     "output_type": "stream",
     "text": [
      "100%|███████████████████████████████████████████████████████████████████████| 621182/621182 [00:10<00:00, 61100.65it/s]\n"
     ]
    }
   ],
   "source": [
    "data = pd.read_csv(\"data.csv\",dtype = {\"zip\" : str})\n",
    "data[\"city\"] = data.progress_apply((lambda x : zipdict[x[\"zip\"]] if x[\"zip\"]in zipdict else None),axis = 1)"
   ]
  },
  {
   "cell_type": "code",
   "execution_count": 36,
   "id": "9e63a3a7-b694-443d-9438-b83a38dc1088",
   "metadata": {},
   "outputs": [
    {
     "data": {
      "text/plain": [
       "SOUTH BOSTON      1131\n",
       "BACK BAY           861\n",
       "ALLSTON            781\n",
       "DORCHESTER         706\n",
       "SOUTH END          659\n",
       "JAMAICA PLAIN      656\n",
       "EAST BOSTON        622\n",
       "KENMORE            591\n",
       "DOWNTOWN           579\n",
       "HARBOR ISLANDS     439\n",
       "NORTH END          432\n",
       "CHINATOWN          360\n",
       "CHARLESTOWN        306\n",
       "BEACON HILL        302\n",
       "ROSINDALE          295\n",
       "ROXBURY            277\n",
       "HYDE PARK          258\n",
       "MATTAPAN           172\n",
       "WEST ROXBURY       167\n",
       "CHESTNUT HILL       20\n",
       "Name: city, dtype: int64"
      ]
     },
     "execution_count": 36,
     "metadata": {},
     "output_type": "execute_result"
    }
   ],
   "source": [
    "data_multi = data[data[\"occupancytype\"] == \"Multi\"]\n",
    "data[data[\"description\"] == \"Change Occupancy\"][\"city\"].value_counts()"
   ]
  },
  {
   "cell_type": "code",
   "execution_count": 59,
   "id": "c0c44969-c088-4000-94fa-e188531155f4",
   "metadata": {},
   "outputs": [],
   "source": [
    "data[\"Year\"] = data.apply((lambda x : int(x[\"issued_date\"].split(\"-\")[0])),axis=1)"
   ]
  },
  {
   "cell_type": "code",
   "execution_count": 165,
   "id": "c7b68b16-18c4-404e-ae4d-770edc16b563",
   "metadata": {},
   "outputs": [
    {
     "data": {
      "text/plain": [
       "array(['Interior/Exterior Work', 'City of Boston', 'Other',\n",
       "       'Renovations - Exterior', 'Renovations - Interior NSC',\n",
       "       'Application to Correct a Violation', 'Addition',\n",
       "       'Demolition - Exterior', 'Fire Alarm', 'Fire Protection/Sprinkler',\n",
       "       'Signs', 'Cellular Tower', 'New construction', nan, 'Erect',\n",
       "       'Fire Protection Sprinkler >9', 'Excavation  Borings Test Pits',\n",
       "       'Roofing', 'Fast Track Application', 'Plumbing',\n",
       "       'Change Occupancy', 'Solar Panels', 'Special Events',\n",
       "       'Demolition - Interior', 'General', 'Canopy', 'Awning', 'Temp COO',\n",
       "       'Fencing Renovation >6ft', 'Insulation', 'Generators', 'Garage',\n",
       "       'Subdivision  Combining Lot', 'Low Voltage', 'Siding',\n",
       "       'Temporary Signs/Banners', 'Residential Parking', 'Electrical',\n",
       "       'Driveway Installation', 'No Record of Occupancy',\n",
       "       'Annual Maintenance', 'Temporary Trailers', 'Industrial Boiler',\n",
       "       'Summer Program Fast Track', 'Renewal of Signs Permit',\n",
       "       'Commercial Parking', 'Awning Renewal', 'Retractable Awning',\n",
       "       'Canopy Renewal', 'Temporary Service', 'Holiday Vendor',\n",
       "       'Outside Seating', 'Removal of structure',\n",
       "       'Fencing Renovation < 6Ft', 'Temporary Change of Use & Occ',\n",
       "       'Flammable and/or Explosive', 'From TimeMatters-PZ Conversion',\n",
       "       'Repair', 'Service Change', 'Television Truck',\n",
       "       'Installation of Decorative Mat', 'Service', 'Maintenance',\n",
       "       'Trench', 'Gas', 'New', 'Industrial Furnace', 'Tent',\n",
       "       'Installation of Floor Covering', 'Installation of InteriorFinish',\n",
       "       'Temporary Enclosures', 'Fencing', 'Special Event',\n",
       "       'Installation/Evaluation of Mat', 'Dumpsters', 'Staging'],\n",
       "      dtype=object)"
      ]
     },
     "execution_count": 165,
     "metadata": {},
     "output_type": "execute_result"
    }
   ],
   "source": [
    "data[\"description\"].unique()"
   ]
  },
  {
   "cell_type": "code",
   "execution_count": 149,
   "id": "61a750cf-cf87-4f1d-911d-5e1a636125fe",
   "metadata": {},
   "outputs": [
    {
     "data": {
      "text/plain": [
       "array(['Boston', 'West Roxbury', 'Charlestown', 'Roxbury', 'Brighton',\n",
       "       'Allston', 'Jamaica Plain', 'East Boston', 'Dorchester',\n",
       "       'Hyde Park', 'South Boston', 'Roslindale', 'Mission Hill',\n",
       "       'Mattapan', 'BOSTON', 'Jamaica Plain/', 'Chestnut Hill',\n",
       "       'NorthEnd/', 'DORCHESTER', 'South Boston/', 'Mission Hill/',\n",
       "       'Boston/West End', 'West End', 'NorthEnd', 'Dorchester/', 'Fenway',\n",
       "       'Boston/Roxbury', 'South End', 'Roxbury/', 'BOSTON/',\n",
       "       'Charlestown/', 'Back Bay/Boston', nan, 'Boston/Downtown',\n",
       "       \"Boston's Historic North End\", 'Dorchester Center/',\n",
       "       'Financial District', 'Dorchester Center',\n",
       "       'Downtown/Financial District', 'Dorchester (Lower Mills)/',\n",
       "       'BRIGHTON', 'ALLSTON', 'Dorchester//', 'Fenway/',\n",
       "       'Boston/Beacon Hill', 'BOSTON/CHINATOWN', 'Boston/Chinatown',\n",
       "       'Chinatown', 'ROXBURY', 'Hyde Park/', 'South End/', 'BRIGHTON/',\n",
       "       'BOSTON/Waterfront', 'HYDE PARK', 'Boston/Back Bay', 'MATTAPAN',\n",
       "       'Boston/Fenway/Kenmore/Audubo', 'East Boston/', 'East  Boston',\n",
       "       'WEST ROXBURY', 'Boston/', 'West End/', 'Theater District',\n",
       "       'Mattapan/', 'CHARLESTOWN', 'Allston/Boston', 'SOUTH BOSTON',\n",
       "       'ROSLINDALE', 'West Roxbury/', 'Back Bay/', 'dorchester', 'FENWAY',\n",
       "       'Brighton/Allston', 'Brighton/', 'DORCHESTER/',\n",
       "       'Jamaica Plain/Boston', 'JAMAICA PLAIN/Boston', 'ROXBURY CROSSIN',\n",
       "       'Charlestown/Boston', 'BOSTON/Boston', '/', 'Boston/South End',\n",
       "       'Boston/South', 'Charleswtown', 'Brighton#', 'Hyde PArk',\n",
       "       'Financial District/', 'JAMAICA PLAIN', 'Roslindale/', 'Allston/',\n",
       "       'Boston/North End', 'boston', 'ROXBURY CROSSING', 'Chinatown/',\n",
       "       'East BOSTON', 'Boston/Roslindale', 'Kenmore/fenway',\n",
       "       'Boston/Charlestown', 'Beacon Hill/', 'EAST BOSTON',\n",
       "       'Charlestown//', 'Dorchester(Lower Mills)',\n",
       "       'Dorchester (Savin Hill)/', 'Beacon Hill//', \"Mission Hill'\",\n",
       "       'E BOSTON', 'South BostonSG', 'Dorchester (Lower Mills)',\n",
       "       'Boston/Fenway', 'Dorchester Center//', 'CHESTNUT HILL',\n",
       "       'Brighton / Allston', 'North end', 'Allston/Brighton',\n",
       "       'West Roxbry', 'Jamaica Plain.', 'Brighton//',\n",
       "       'Charlestown\\\\=-0=]\\\\[=-', 'Jamaica plain',\n",
       "       'Dorchester (Savin Hill)', 'North End', 'Downtown/Financial',\n",
       "       'Back /', 'Charlestown+', 'West Robury', 'Hyde Park//',\n",
       "       'BOSTON/SOUTH END', 'Charlestown+-+-+-+-+-+', 'South End//',\n",
       "       'East Boston/Boston/'], dtype=object)"
      ]
     },
     "execution_count": 149,
     "metadata": {},
     "output_type": "execute_result"
    }
   ],
   "source": [
    "data[\"city\"].unique()"
   ]
  },
  {
   "cell_type": "code",
   "execution_count": 17,
   "id": "0e941223-f70f-4a32-9bce-ca6105e268ea",
   "metadata": {},
   "outputs": [
    {
     "data": {
      "text/plain": [
       "description         Year\n",
       "Addition            2019    322\n",
       "                    2021    256\n",
       "                    2016    236\n",
       "                    2022    236\n",
       "                    2018    223\n",
       "                           ... \n",
       "Temporary Trailers  2021      2\n",
       "                    2022      1\n",
       "Tent                2012     47\n",
       "Trench              2010      4\n",
       "                    2011      3\n",
       "Name: Year, Length: 789, dtype: int64"
      ]
     },
     "execution_count": 17,
     "metadata": {},
     "output_type": "execute_result"
    }
   ],
   "source": [
    "data.groupby(\"description\")[\"Year\"].value_counts()"
   ]
  },
  {
   "cell_type": "code",
   "execution_count": 30,
   "id": "8b478f87-d566-49d8-87c4-b9ec87a63b4f",
   "metadata": {},
   "outputs": [
    {
     "data": {
      "text/plain": [
       "array(['02109', '02132', '02129', '02118', '02135', '02134', '02114',\n",
       "       '02119', '02130', '02128', '02124', '02108', '02136', '02121',\n",
       "       '02127', '02210', '02111', '02199', '02125', '02122', '02215',\n",
       "       '02116', '02110', '02113', '02115', '02120', '02126', '02131',\n",
       "       '02467', '02163', '01803', '02201', '02117', '02151', '02137',\n",
       "       '02203', '02103', '02133', '02126-1616', '08091', '02222', '02446',\n",
       "       '02123', '02468', '02158', '8', '02104'], dtype=object)"
      ]
     },
     "execution_count": 30,
     "metadata": {},
     "output_type": "execute_result"
    }
   ],
   "source": [
    "data = data.dropna(axis=0,subset=[\"zip\"])\n",
    "data[\"zip\"].unique()"
   ]
  },
  {
   "cell_type": "code",
   "execution_count": 150,
   "id": "2bbecc92-bd6c-4903-a4e0-4b34c692b623",
   "metadata": {},
   "outputs": [],
   "source": [
    "zipdict = {'02128' : \"EAST BOSTON\", '02115' : \"KENMORE\", '02130' : \"JAMAICA PLAIN\", '02129' : \"CHARLESTOWN\" ,\\\n",
    " '02114' :\"DOWNTOWN\",  '02113' : \"NORTH END\", '02109' : \"NORTH END\", '02108' : \"BEACON HILL\" , '02110' : \"DOWNTOWN\",\\\n",
    " '02201' : \"DOWNTOWN\", '02210' : \"SOUTH BOSTON\" ,'02116' : \"BACK BAY\" , '02111' : \"CHINATOWN\", '02127' : \"SOUTH BOSTON\",\\\n",
    " '02118' : \"SOUTH END\",'02215' : \"KENMORE\", '02120' : \"JAMAICA PLAIN\",\\\n",
    " '02125' : \"HARBOR ISLANDS\", '02122' : \"DORCHESTER\", '02124' : \"DORCHESTER\", '02131' : \"ROSINDALE\", '02121' : \"ROXBURY\",\\\n",
    " '02126' : \"MATTAPAN\", '02136' : \"HYDE PARK\", '02135' : \"ALLSTON\", '02132' : \"WEST ROXBURY\",\n",
    " '02467' : \"CHESTNUT HILL\", '02134' : \"ALLSTON\", '02167' : \"CHESTNUT HILL\"}"
   ]
  },
  {
   "cell_type": "code",
   "execution_count": 38,
   "id": "6645d7ff-3f84-45f6-8a06-a49bd79a1085",
   "metadata": {},
   "outputs": [
    {
     "name": "stderr",
     "output_type": "stream",
     "text": [
      "C:\\Users\\laser\\AppData\\Local\\Temp\\ipykernel_40924\\3884422691.py:1: DtypeWarning: Columns (0,1,2,3,5,6,12,13,16,18,19,20,26,29,30,32,33,37,39,41,42) have mixed types. Specify dtype option on import or set low_memory=False.\n",
      "  assessments = pd.read_csv(\"property_assessments.csv\",dtype = {\"ZIPCODE\" : str})\n"
     ]
    }
   ],
   "source": [
    "assessments = pd.read_csv(\"property_assessments.csv\",dtype = {\"ZIPCODE\" : str})"
   ]
  },
  {
   "cell_type": "code",
   "execution_count": 43,
   "id": "18ab4363-9f16-4043-beca-2bbb8b728a1c",
   "metadata": {},
   "outputs": [
    {
     "name": "stderr",
     "output_type": "stream",
     "text": [
      "100%|█████████████████████████████████████████████████████████████████████| 2776868/2776868 [01:03<00:00, 43731.19it/s]\n"
     ]
    }
   ],
   "source": [
    "assessments[\"city\"] = assessments.progress_apply((lambda x : zipdict[x[\"ZIPCODE\"]] if x[\"ZIPCODE\"]in zipdict else None),axis = 1)"
   ]
  },
  {
   "cell_type": "code",
   "execution_count": 47,
   "id": "2c5d54a3-8681-4ee4-bf0b-0183352f1831",
   "metadata": {},
   "outputs": [
    {
     "data": {
      "text/plain": [
       "0          EAST BOSTON\n",
       "1          EAST BOSTON\n",
       "2          EAST BOSTON\n",
       "3          EAST BOSTON\n",
       "4          EAST BOSTON\n",
       "              ...     \n",
       "2776863        ALLSTON\n",
       "2776864        ALLSTON\n",
       "2776865        ALLSTON\n",
       "2776866        ALLSTON\n",
       "2776867       MATTAPAN\n",
       "Name: city, Length: 2776868, dtype: object"
      ]
     },
     "execution_count": 47,
     "metadata": {},
     "output_type": "execute_result"
    }
   ],
   "source": [
    "assessments[\"city\"]"
   ]
  },
  {
   "cell_type": "code",
   "execution_count": 101,
   "id": "281ffaf9-4487-40bc-9635-bb608216fc4d",
   "metadata": {},
   "outputs": [
    {
     "data": {
      "text/plain": [
       "array(['CM', 'CD', 'E', 'EA', 'R4', 'CC', 'CP', 'RC', 'A', 'C', 'R1',\n",
       "       'R3', 'R2', 'RL'], dtype=object)"
      ]
     },
     "execution_count": 101,
     "metadata": {},
     "output_type": "execute_result"
    }
   ],
   "source": [
    "assessments[assessments[\"RES_UNITS\"] > 0 ][\"LU\"].unique()"
   ]
  },
  {
   "cell_type": "code",
   "execution_count": 129,
   "id": "261be76b-0a6a-48ae-b529-2a3318818196",
   "metadata": {},
   "outputs": [],
   "source": [
    "a_city = assessments.groupby([\"city\",\"Year\"])\n",
    "a_city_lu = a_city[\"LU\"].value_counts()\n",
    "counts = assessments.groupby([\"city\"])[\"Year\"].value_counts()\n"
   ]
  },
  {
   "cell_type": "code",
   "execution_count": 133,
   "id": "3cfa7c11-bea8-49dd-870a-57edac1dea47",
   "metadata": {},
   "outputs": [
    {
     "data": {
      "text/html": [
       "<div>\n",
       "<style scoped>\n",
       "    .dataframe tbody tr th:only-of-type {\n",
       "        vertical-align: middle;\n",
       "    }\n",
       "\n",
       "    .dataframe tbody tr th {\n",
       "        vertical-align: top;\n",
       "    }\n",
       "\n",
       "    .dataframe thead th {\n",
       "        text-align: right;\n",
       "    }\n",
       "</style>\n",
       "<table border=\"1\" class=\"dataframe\">\n",
       "  <thead>\n",
       "    <tr style=\"text-align: right;\">\n",
       "      <th></th>\n",
       "      <th>city</th>\n",
       "      <th>year</th>\n",
       "      <th>R1</th>\n",
       "      <th>R2</th>\n",
       "      <th>R3</th>\n",
       "      <th>R4</th>\n",
       "      <th>A</th>\n",
       "      <th>RM</th>\n",
       "      <th>RM/R1</th>\n",
       "      <th>RM-R1</th>\n",
       "    </tr>\n",
       "  </thead>\n",
       "  <tbody>\n",
       "    <tr>\n",
       "      <th>0</th>\n",
       "      <td>EAST BOSTON</td>\n",
       "      <td>2008.0</td>\n",
       "      <td>975.0</td>\n",
       "      <td>1250.0</td>\n",
       "      <td>2183.0</td>\n",
       "      <td>222.0</td>\n",
       "      <td>70.0</td>\n",
       "      <td>3725.0</td>\n",
       "      <td>3.820513</td>\n",
       "      <td>2750.0</td>\n",
       "    </tr>\n",
       "    <tr>\n",
       "      <th>1</th>\n",
       "      <td>EAST BOSTON</td>\n",
       "      <td>2009.0</td>\n",
       "      <td>980.0</td>\n",
       "      <td>1239.0</td>\n",
       "      <td>2162.0</td>\n",
       "      <td>216.0</td>\n",
       "      <td>65.0</td>\n",
       "      <td>3682.0</td>\n",
       "      <td>3.757143</td>\n",
       "      <td>2702.0</td>\n",
       "    </tr>\n",
       "    <tr>\n",
       "      <th>2</th>\n",
       "      <td>EAST BOSTON</td>\n",
       "      <td>2010.0</td>\n",
       "      <td>976.0</td>\n",
       "      <td>1231.0</td>\n",
       "      <td>2160.0</td>\n",
       "      <td>218.0</td>\n",
       "      <td>67.0</td>\n",
       "      <td>3676.0</td>\n",
       "      <td>3.766393</td>\n",
       "      <td>2700.0</td>\n",
       "    </tr>\n",
       "    <tr>\n",
       "      <th>3</th>\n",
       "      <td>EAST BOSTON</td>\n",
       "      <td>2011.0</td>\n",
       "      <td>978.0</td>\n",
       "      <td>1219.0</td>\n",
       "      <td>2170.0</td>\n",
       "      <td>213.0</td>\n",
       "      <td>66.0</td>\n",
       "      <td>3668.0</td>\n",
       "      <td>3.750511</td>\n",
       "      <td>2690.0</td>\n",
       "    </tr>\n",
       "    <tr>\n",
       "      <th>4</th>\n",
       "      <td>EAST BOSTON</td>\n",
       "      <td>2012.0</td>\n",
       "      <td>977.0</td>\n",
       "      <td>1220.0</td>\n",
       "      <td>2183.0</td>\n",
       "      <td>222.0</td>\n",
       "      <td>75.0</td>\n",
       "      <td>3700.0</td>\n",
       "      <td>3.787103</td>\n",
       "      <td>2723.0</td>\n",
       "    </tr>\n",
       "    <tr>\n",
       "      <th>...</th>\n",
       "      <td>...</td>\n",
       "      <td>...</td>\n",
       "      <td>...</td>\n",
       "      <td>...</td>\n",
       "      <td>...</td>\n",
       "      <td>...</td>\n",
       "      <td>...</td>\n",
       "      <td>...</td>\n",
       "      <td>...</td>\n",
       "      <td>...</td>\n",
       "    </tr>\n",
       "    <tr>\n",
       "      <th>315</th>\n",
       "      <td>CHESTNUT HILL</td>\n",
       "      <td>2019.0</td>\n",
       "      <td>123.0</td>\n",
       "      <td>0.0</td>\n",
       "      <td>3.0</td>\n",
       "      <td>0.0</td>\n",
       "      <td>1.0</td>\n",
       "      <td>4.0</td>\n",
       "      <td>0.032520</td>\n",
       "      <td>-119.0</td>\n",
       "    </tr>\n",
       "    <tr>\n",
       "      <th>316</th>\n",
       "      <td>CHESTNUT HILL</td>\n",
       "      <td>2020.0</td>\n",
       "      <td>123.0</td>\n",
       "      <td>0.0</td>\n",
       "      <td>1.0</td>\n",
       "      <td>0.0</td>\n",
       "      <td>1.0</td>\n",
       "      <td>2.0</td>\n",
       "      <td>0.016260</td>\n",
       "      <td>-121.0</td>\n",
       "    </tr>\n",
       "    <tr>\n",
       "      <th>317</th>\n",
       "      <td>CHESTNUT HILL</td>\n",
       "      <td>2021.0</td>\n",
       "      <td>121.0</td>\n",
       "      <td>0.0</td>\n",
       "      <td>0.0</td>\n",
       "      <td>0.0</td>\n",
       "      <td>1.0</td>\n",
       "      <td>1.0</td>\n",
       "      <td>0.008264</td>\n",
       "      <td>-120.0</td>\n",
       "    </tr>\n",
       "    <tr>\n",
       "      <th>318</th>\n",
       "      <td>CHESTNUT HILL</td>\n",
       "      <td>2022.0</td>\n",
       "      <td>122.0</td>\n",
       "      <td>0.0</td>\n",
       "      <td>0.0</td>\n",
       "      <td>0.0</td>\n",
       "      <td>1.0</td>\n",
       "      <td>1.0</td>\n",
       "      <td>0.008197</td>\n",
       "      <td>-121.0</td>\n",
       "    </tr>\n",
       "    <tr>\n",
       "      <th>319</th>\n",
       "      <td>CHESTNUT HILL</td>\n",
       "      <td>2023.0</td>\n",
       "      <td>122.0</td>\n",
       "      <td>0.0</td>\n",
       "      <td>0.0</td>\n",
       "      <td>0.0</td>\n",
       "      <td>1.0</td>\n",
       "      <td>1.0</td>\n",
       "      <td>0.008197</td>\n",
       "      <td>-121.0</td>\n",
       "    </tr>\n",
       "  </tbody>\n",
       "</table>\n",
       "<p>320 rows × 10 columns</p>\n",
       "</div>"
      ],
      "text/plain": [
       "              city    year     R1      R2      R3     R4     A      RM  \\\n",
       "0      EAST BOSTON  2008.0  975.0  1250.0  2183.0  222.0  70.0  3725.0   \n",
       "1      EAST BOSTON  2009.0  980.0  1239.0  2162.0  216.0  65.0  3682.0   \n",
       "2      EAST BOSTON  2010.0  976.0  1231.0  2160.0  218.0  67.0  3676.0   \n",
       "3      EAST BOSTON  2011.0  978.0  1219.0  2170.0  213.0  66.0  3668.0   \n",
       "4      EAST BOSTON  2012.0  977.0  1220.0  2183.0  222.0  75.0  3700.0   \n",
       "..             ...     ...    ...     ...     ...    ...   ...     ...   \n",
       "315  CHESTNUT HILL  2019.0  123.0     0.0     3.0    0.0   1.0     4.0   \n",
       "316  CHESTNUT HILL  2020.0  123.0     0.0     1.0    0.0   1.0     2.0   \n",
       "317  CHESTNUT HILL  2021.0  121.0     0.0     0.0    0.0   1.0     1.0   \n",
       "318  CHESTNUT HILL  2022.0  122.0     0.0     0.0    0.0   1.0     1.0   \n",
       "319  CHESTNUT HILL  2023.0  122.0     0.0     0.0    0.0   1.0     1.0   \n",
       "\n",
       "        RM/R1   RM-R1  \n",
       "0    3.820513  2750.0  \n",
       "1    3.757143  2702.0  \n",
       "2    3.766393  2700.0  \n",
       "3    3.750511  2690.0  \n",
       "4    3.787103  2723.0  \n",
       "..        ...     ...  \n",
       "315  0.032520  -119.0  \n",
       "316  0.016260  -121.0  \n",
       "317  0.008264  -120.0  \n",
       "318  0.008197  -121.0  \n",
       "319  0.008197  -121.0  \n",
       "\n",
       "[320 rows x 10 columns]"
      ]
     },
     "execution_count": 133,
     "metadata": {},
     "output_type": "execute_result"
    }
   ],
   "source": [
    "multi_data"
   ]
  },
  {
   "cell_type": "code",
   "execution_count": 88,
   "id": "810d84b3-4723-4a87-b73c-25dbb24872d2",
   "metadata": {},
   "outputs": [
    {
     "name": "stdout",
     "output_type": "stream",
     "text": [
      "EAST BOSTON\n",
      "KENMORE\n",
      "JAMAICA PLAIN\n",
      "CHARLESTOWN\n",
      "DOWNTOWN\n",
      "NORTH END\n",
      "BEACON HILL\n",
      "SOUTH BOSTON\n",
      "BACK BAY\n",
      "CHINATOWN\n",
      "SOUTH END\n",
      "None\n",
      "HARBOR ISLANDS\n",
      "DORCHESTER\n",
      "ROSINDALE\n",
      "ROXBURY\n",
      "MATTAPAN\n",
      "HYDE PARK\n",
      "ALLSTON\n",
      "WEST ROXBURY\n",
      "CHESTNUT HILL\n"
     ]
    }
   ],
   "source": [
    "multi_data = pd.DataFrame()\n",
    "for city in assessments[\"city\"].unique():\n",
    "    print(city)\n",
    "    if city == None:\n",
    "        continue\n",
    "    for year in range(2008,2024):\n",
    "        i = len(multi_data)\n",
    "        multi_data.at[i,\"city\"]= city\n",
    "        multi_data.at[i,\"year\"]= year\n",
    "        try:\n",
    "            multi_data.at[i,\"R1\"] = a_city_lu[city][year][\"R1\"]\n",
    "        except KeyError:\n",
    "            multi_data.at[i,\"R1\"] = 0\n",
    "        try:\n",
    "            multi_data.at[i,\"R2\"] = a_city_lu[city][year][\"R2\"]\n",
    "        except KeyError:\n",
    "            multi_data.at[i,\"R2\"] = 0\n",
    "        try:\n",
    "            multi_data.at[i,\"R3\"] = a_city_lu[city][year][\"R3\"]\n",
    "        except KeyError:\n",
    "            multi_data.at[i,\"R3\"] = 0\n",
    "\n",
    "        try:\n",
    "            multi_data.at[i,\"R4\"] = a_city_lu[city][year][\"R4\"]\n",
    "        except KeyError:\n",
    "            multi_data.at[i,\"R4\"] = 0\n",
    "\n",
    "        try:\n",
    "            multi_data.at[i,\"A\"] = a_city_lu[city][year][\"A\"]\n",
    "        except KeyError:\n",
    "            multi_data.at[i,\"A\"] = 0\n",
    "            \n",
    "        \n"
   ]
  },
  {
   "cell_type": "code",
   "execution_count": 134,
   "id": "5f68d243-0def-4051-9213-9b8c6f54cbf9",
   "metadata": {},
   "outputs": [
    {
     "name": "stderr",
     "output_type": "stream",
     "text": [
      "100%|█████████████████████████████████████████████████████████████████████████████| 320/320 [00:00<00:00, 29677.77it/s]\n",
      "100%|█████████████████████████████████████████████████████████████████████████████| 320/320 [00:00<00:00, 19034.47it/s]\n",
      "100%|██████████████████████████████████████████████████████████████████████████████| 320/320 [00:00<00:00, 1758.11it/s]\n"
     ]
    }
   ],
   "source": [
    "multi_data[\"RM\"] = multi_data.progress_apply((lambda x : x[\"R2\"] + x[\"R3\"] + x[\"R4\"] + x[\"A\"]),axis = 1)\n",
    "multi_data[\"RM/R1\"] = multi_data.progress_apply((lambda x : x[\"RM\"]/x[\"R1\"]),axis = 1)\n",
    "multi_data[\"RM-R1\"] = multi_data.progress_apply((lambda x :( x[\"RM\"]-x[\"R1\"])/counts[x[\"city\"]][x[\"year\"]]),axis = 1)"
   ]
  },
  {
   "cell_type": "code",
   "execution_count": 184,
   "id": "be521ac8-eaea-4035-be21-d26309ce9738",
   "metadata": {},
   "outputs": [],
   "source": [
    "a_pid = assessments.groupby([\"PID\",\"Year\"])[\"LU\"].value_counts()"
   ]
  },
  {
   "cell_type": "code",
   "execution_count": 196,
   "id": "0c6dd138-d9ac-4ff0-9139-80194f34fd5a",
   "metadata": {},
   "outputs": [
    {
     "data": {
      "text/plain": [
       "2008"
      ]
     },
     "execution_count": 196,
     "metadata": {},
     "output_type": "execute_result"
    }
   ],
   "source": [
    "a_pid[100001000].index[0][0]"
   ]
  },
  {
   "cell_type": "code",
   "execution_count": 239,
   "id": "69a2def8-1c89-4902-9287-719fd12ff7db",
   "metadata": {},
   "outputs": [
    {
     "name": "stderr",
     "output_type": "stream",
     "text": [
      "100%|███████████████████████████████████████████████████████████████████████████| 10072/10072 [01:39<00:00, 101.50it/s]\n"
     ]
    }
   ],
   "source": [
    "data[data[\"description\"] == \"Change Occupancy\"]\n",
    "data.columns\n",
    "def dchnge_fun(row):\n",
    "    issue_year= int(row[\"issued_date\"].split(\"-\")[0])\n",
    "    try:\n",
    "        initial_lu = a_pid[row[\"parcel_id\"]][a_pid[row[\"parcel_id\"]].index[0][0]].index[0]\n",
    "    except:\n",
    "        return row\n",
    "    row[\"init_lu\"] = initial_lu\n",
    "    for y in range(issue_year,2025):\n",
    "        try:\n",
    "            if a_pid[row[\"parcel_id\"]][y].index[0] != initial_lu:\n",
    "                row[\"new_lu\"] = a_pid[row[\"parcel_id\"]][y].index[0]\n",
    "        except:\n",
    "            continue\n",
    "    return row\n",
    "data4 = data[data[\"description\"].isin([\"Change Occupancy\"]) == True].progress_apply(dchnge_fun,axis=1)\n",
    "    "
   ]
  },
  {
   "cell_type": "code",
   "execution_count": 264,
   "id": "b3676703-7900-4122-a026-88c1d017f85c",
   "metadata": {},
   "outputs": [
    {
     "data": {
      "text/html": [
       "<div>\n",
       "<style scoped>\n",
       "    .dataframe tbody tr th:only-of-type {\n",
       "        vertical-align: middle;\n",
       "    }\n",
       "\n",
       "    .dataframe tbody tr th {\n",
       "        vertical-align: top;\n",
       "    }\n",
       "\n",
       "    .dataframe thead th {\n",
       "        text-align: right;\n",
       "    }\n",
       "</style>\n",
       "<table border=\"1\" class=\"dataframe\">\n",
       "  <thead>\n",
       "    <tr style=\"text-align: right;\">\n",
       "      <th></th>\n",
       "      <th>_id</th>\n",
       "      <th>address</th>\n",
       "      <th>applicant</th>\n",
       "      <th>city</th>\n",
       "      <th>comments</th>\n",
       "      <th>declared_valuation</th>\n",
       "      <th>description</th>\n",
       "      <th>expiration_date</th>\n",
       "      <th>geom_point_2249</th>\n",
       "      <th>geom_point_4326</th>\n",
       "      <th>...</th>\n",
       "      <th>parcel_id</th>\n",
       "      <th>permitnumber</th>\n",
       "      <th>permittypedescr</th>\n",
       "      <th>property_id</th>\n",
       "      <th>sq_feet</th>\n",
       "      <th>state</th>\n",
       "      <th>status</th>\n",
       "      <th>total_fees</th>\n",
       "      <th>worktype</th>\n",
       "      <th>zip</th>\n",
       "    </tr>\n",
       "  </thead>\n",
       "  <tbody>\n",
       "    <tr>\n",
       "      <th>727</th>\n",
       "      <td>728</td>\n",
       "      <td>24-28 Denby RD</td>\n",
       "      <td>JOHN HADLEY</td>\n",
       "      <td>ALLSTON</td>\n",
       "      <td>Renovations same as original Application. Amen...</td>\n",
       "      <td>$0.00</td>\n",
       "      <td>Change Occupancy</td>\n",
       "      <td>NaN</td>\n",
       "      <td>0101000020C908000080A8E5F4AC0827415BEDC058EE8A...</td>\n",
       "      <td>0101000020E6100000C96C82D2A6C851C0E83D9CF27A2D...</td>\n",
       "      <td>...</td>\n",
       "      <td>2.201835e+09</td>\n",
       "      <td>A118898</td>\n",
       "      <td>Amendment to a Long Form</td>\n",
       "      <td>164222.0</td>\n",
       "      <td>28000.0</td>\n",
       "      <td>MA</td>\n",
       "      <td>Open</td>\n",
       "      <td>$354.00</td>\n",
       "      <td>CHGOCC</td>\n",
       "      <td>02134</td>\n",
       "    </tr>\n",
       "    <tr>\n",
       "      <th>1885</th>\n",
       "      <td>1886</td>\n",
       "      <td>12 Spring ST</td>\n",
       "      <td>alice boelter</td>\n",
       "      <td>WEST ROXBURY</td>\n",
       "      <td>amend permit #2726 to reflect cost saving chan...</td>\n",
       "      <td>$0.00</td>\n",
       "      <td>Change Occupancy</td>\n",
       "      <td>2014-01-29 05:00:00+00</td>\n",
       "      <td>0101000020C908000082017FC3E0D326413D4F345ABD53...</td>\n",
       "      <td>0101000020E6100000307AD14847CA51C0283BF6939023...</td>\n",
       "      <td>...</td>\n",
       "      <td>2.009468e+09</td>\n",
       "      <td>A16306</td>\n",
       "      <td>Amendment to a Long Form</td>\n",
       "      <td>129535.0</td>\n",
       "      <td>0.0</td>\n",
       "      <td>MA</td>\n",
       "      <td>Open</td>\n",
       "      <td>$69.00</td>\n",
       "      <td>CHGOCC</td>\n",
       "      <td>02132</td>\n",
       "    </tr>\n",
       "    <tr>\n",
       "      <th>1890</th>\n",
       "      <td>1891</td>\n",
       "      <td>NaN</td>\n",
       "      <td>Timothy White</td>\n",
       "      <td>SOUTH BOSTON</td>\n",
       "      <td>Amend Long Form Permit Alt 98379 as per revise...</td>\n",
       "      <td>$30,000.00</td>\n",
       "      <td>Change Occupancy</td>\n",
       "      <td>2013-02-27 05:00:00+00</td>\n",
       "      <td>0101000020C908000080BFD765CFB827419B7CED7E1E80...</td>\n",
       "      <td>0101000020E6100000AFE07A0252C351C0219E91887F2B...</td>\n",
       "      <td>...</td>\n",
       "      <td>6.004260e+08</td>\n",
       "      <td>A164766</td>\n",
       "      <td>Amendment to a Long Form</td>\n",
       "      <td>21404.0</td>\n",
       "      <td>18000.0</td>\n",
       "      <td>MA</td>\n",
       "      <td>Open</td>\n",
       "      <td>$320.00</td>\n",
       "      <td>CHGOCC</td>\n",
       "      <td>02127</td>\n",
       "    </tr>\n",
       "    <tr>\n",
       "      <th>2916</th>\n",
       "      <td>2917</td>\n",
       "      <td>11 Newcomb ST</td>\n",
       "      <td>Charles Haydon</td>\n",
       "      <td>SOUTH END</td>\n",
       "      <td>Amendment to 11 Newcomb Street Permit Number A...</td>\n",
       "      <td>$0.00</td>\n",
       "      <td>Change Occupancy</td>\n",
       "      <td>2015-10-29 04:00:00+00</td>\n",
       "      <td>0101000020C908000000BFE18D838027417C5519C7237C...</td>\n",
       "      <td>0101000020E610000008D6C14C07C551C0F4906AA3CB2A...</td>\n",
       "      <td>...</td>\n",
       "      <td>8.018760e+08</td>\n",
       "      <td>A449765</td>\n",
       "      <td>Amendment to a Long Form</td>\n",
       "      <td>102028.0</td>\n",
       "      <td>0.0</td>\n",
       "      <td>MA</td>\n",
       "      <td>Open</td>\n",
       "      <td>$392.00</td>\n",
       "      <td>CHGOCC</td>\n",
       "      <td>02118</td>\n",
       "    </tr>\n",
       "    <tr>\n",
       "      <th>2999</th>\n",
       "      <td>3000</td>\n",
       "      <td>18 Hanson ST</td>\n",
       "      <td>NaN</td>\n",
       "      <td>SOUTH END</td>\n",
       "      <td>Add 3 windows to side of building as approved ...</td>\n",
       "      <td>$10,000.00</td>\n",
       "      <td>Change Occupancy</td>\n",
       "      <td>2015-12-29 05:00:00+00</td>\n",
       "      <td>0101000020C9080000FF94A142FA9127411F6DB98AB782...</td>\n",
       "      <td>0101000020E61000001B310AD27EC451C0096D656EF92B...</td>\n",
       "      <td>...</td>\n",
       "      <td>3.059100e+08</td>\n",
       "      <td>A470727</td>\n",
       "      <td>Amendment to a Long Form</td>\n",
       "      <td>69254.0</td>\n",
       "      <td>0.0</td>\n",
       "      <td>MA</td>\n",
       "      <td>Closed</td>\n",
       "      <td>$312.00</td>\n",
       "      <td>CHGOCC</td>\n",
       "      <td>02118</td>\n",
       "    </tr>\n",
       "    <tr>\n",
       "      <th>...</th>\n",
       "      <td>...</td>\n",
       "      <td>...</td>\n",
       "      <td>...</td>\n",
       "      <td>...</td>\n",
       "      <td>...</td>\n",
       "      <td>...</td>\n",
       "      <td>...</td>\n",
       "      <td>...</td>\n",
       "      <td>...</td>\n",
       "      <td>...</td>\n",
       "      <td>...</td>\n",
       "      <td>...</td>\n",
       "      <td>...</td>\n",
       "      <td>...</td>\n",
       "      <td>...</td>\n",
       "      <td>...</td>\n",
       "      <td>...</td>\n",
       "      <td>...</td>\n",
       "      <td>...</td>\n",
       "      <td>...</td>\n",
       "      <td>...</td>\n",
       "    </tr>\n",
       "    <tr>\n",
       "      <th>68952</th>\n",
       "      <td>68953</td>\n",
       "      <td>545-547 E Eighth ST</td>\n",
       "      <td>anthony virgilio</td>\n",
       "      <td>SOUTH BOSTON</td>\n",
       "      <td>3 Family Dwelling\\n\\nALT755022 - 4/26/18\\n\\n;\\...</td>\n",
       "      <td>$350,000.00</td>\n",
       "      <td>Change Occupancy</td>\n",
       "      <td>NaN</td>\n",
       "      <td>0101000020C9080000811EBE32BBD22741D7091AC20D7A...</td>\n",
       "      <td>0101000020E61000003C64FDF589C251C0545712B6662A...</td>\n",
       "      <td>...</td>\n",
       "      <td>7.020890e+08</td>\n",
       "      <td>COO959976</td>\n",
       "      <td>Certificate of Occupancy</td>\n",
       "      <td>52263.0</td>\n",
       "      <td>0.0</td>\n",
       "      <td>MA</td>\n",
       "      <td>Closed</td>\n",
       "      <td>$35.00</td>\n",
       "      <td>CHGOCC</td>\n",
       "      <td>02127</td>\n",
       "    </tr>\n",
       "    <tr>\n",
       "      <th>354757</th>\n",
       "      <td>354758</td>\n",
       "      <td>35 Nightingale ST</td>\n",
       "      <td>winsley felix</td>\n",
       "      <td>DORCHESTER</td>\n",
       "      <td>replacing  boiler's  and  water  heater's.</td>\n",
       "      <td>$10,000.00</td>\n",
       "      <td>Change Occupancy</td>\n",
       "      <td>2012-01-18 05:00:00+00</td>\n",
       "      <td>0101000020C90800000451926E0C792741493F6D0B8960...</td>\n",
       "      <td>0101000020E61000007AB7906545C551C084F12839D525...</td>\n",
       "      <td>...</td>\n",
       "      <td>1.402055e+09</td>\n",
       "      <td>G86437</td>\n",
       "      <td>Gas Permit</td>\n",
       "      <td>102666.0</td>\n",
       "      <td>0.0</td>\n",
       "      <td>MA</td>\n",
       "      <td>Closed</td>\n",
       "      <td>$77.00</td>\n",
       "      <td>CHGOCC</td>\n",
       "      <td>02124</td>\n",
       "    </tr>\n",
       "    <tr>\n",
       "      <th>396511</th>\n",
       "      <td>396512</td>\n",
       "      <td>140 Western AV</td>\n",
       "      <td>JOHN CANNISTRARO</td>\n",
       "      <td>ALLSTON</td>\n",
       "      <td>We are installing 2100' of temporary perimeter...</td>\n",
       "      <td>$150,000.00</td>\n",
       "      <td>Change Occupancy</td>\n",
       "      <td>2010-10-22 04:00:00+00</td>\n",
       "      <td>0101000020C90800007E3DE013D21B274128E242617E90...</td>\n",
       "      <td>0101000020E6100000E9C42D8611C851C0D887A9147A2E...</td>\n",
       "      <td>...</td>\n",
       "      <td>2.200264e+09</td>\n",
       "      <td>PL22643</td>\n",
       "      <td>Plumbing Permit</td>\n",
       "      <td>148158.0</td>\n",
       "      <td>270000.0</td>\n",
       "      <td>MA</td>\n",
       "      <td>Open</td>\n",
       "      <td>$35.00</td>\n",
       "      <td>CHGOCC</td>\n",
       "      <td>02134</td>\n",
       "    </tr>\n",
       "    <tr>\n",
       "      <th>546782</th>\n",
       "      <td>546783</td>\n",
       "      <td>NaN</td>\n",
       "      <td>Jack Doherty</td>\n",
       "      <td>SOUTH BOSTON</td>\n",
       "      <td>Selling T-shirts March 14th, 15th 16th and 17t...</td>\n",
       "      <td>$1,000.00</td>\n",
       "      <td>Change Occupancy</td>\n",
       "      <td>2015-07-20 04:00:00+00</td>\n",
       "      <td>0101000020C9080000A91CFD0A86B127415CEEC4AF4881...</td>\n",
       "      <td>0101000020E6100000F8C66D578AC351C0EB7DD198B52B...</td>\n",
       "      <td>...</td>\n",
       "      <td>6.001130e+08</td>\n",
       "      <td>SF442612</td>\n",
       "      <td>Short Form Bldg Permit</td>\n",
       "      <td>21574.0</td>\n",
       "      <td>0.0</td>\n",
       "      <td>MA</td>\n",
       "      <td>Open</td>\n",
       "      <td>$30.00</td>\n",
       "      <td>CHGOCC</td>\n",
       "      <td>02127</td>\n",
       "    </tr>\n",
       "    <tr>\n",
       "      <th>601507</th>\n",
       "      <td>601508</td>\n",
       "      <td>244-246 Bowdoin ST</td>\n",
       "      <td>Natalie Gill-Mensah</td>\n",
       "      <td>HARBOR ISLANDS</td>\n",
       "      <td>Temporary Occupancy for Political Campaign Off...</td>\n",
       "      <td>$0.00</td>\n",
       "      <td>Change Occupancy</td>\n",
       "      <td>2019-01-20 05:00:00+00</td>\n",
       "      <td>0101000020C90800004A0E9BB4CF98274156AE01842D68...</td>\n",
       "      <td>0101000020E610000022F603FD4DC451C030E4AB3D3327...</td>\n",
       "      <td>...</td>\n",
       "      <td>1.502102e+09</td>\n",
       "      <td>SF856773</td>\n",
       "      <td>Short Form Bldg Permit</td>\n",
       "      <td>17692.0</td>\n",
       "      <td>0.0</td>\n",
       "      <td>MA</td>\n",
       "      <td>Open</td>\n",
       "      <td>$20.00</td>\n",
       "      <td>CHGOCC</td>\n",
       "      <td>02125</td>\n",
       "    </tr>\n",
       "  </tbody>\n",
       "</table>\n",
       "<p>1635 rows × 27 columns</p>\n",
       "</div>"
      ],
      "text/plain": [
       "           _id              address            applicant            city  \\\n",
       "727        728       24-28 Denby RD          JOHN HADLEY         ALLSTON   \n",
       "1885      1886         12 Spring ST        alice boelter    WEST ROXBURY   \n",
       "1890      1891                  NaN        Timothy White    SOUTH BOSTON   \n",
       "2916      2917        11 Newcomb ST       Charles Haydon       SOUTH END   \n",
       "2999      3000         18 Hanson ST                  NaN       SOUTH END   \n",
       "...        ...                  ...                  ...             ...   \n",
       "68952    68953  545-547 E Eighth ST     anthony virgilio    SOUTH BOSTON   \n",
       "354757  354758    35 Nightingale ST        winsley felix      DORCHESTER   \n",
       "396511  396512       140 Western AV     JOHN CANNISTRARO         ALLSTON   \n",
       "546782  546783                  NaN         Jack Doherty    SOUTH BOSTON   \n",
       "601507  601508   244-246 Bowdoin ST  Natalie Gill-Mensah  HARBOR ISLANDS   \n",
       "\n",
       "                                                 comments declared_valuation  \\\n",
       "727     Renovations same as original Application. Amen...              $0.00   \n",
       "1885    amend permit #2726 to reflect cost saving chan...              $0.00   \n",
       "1890    Amend Long Form Permit Alt 98379 as per revise...         $30,000.00   \n",
       "2916    Amendment to 11 Newcomb Street Permit Number A...              $0.00   \n",
       "2999    Add 3 windows to side of building as approved ...         $10,000.00   \n",
       "...                                                   ...                ...   \n",
       "68952   3 Family Dwelling\\n\\nALT755022 - 4/26/18\\n\\n;\\...        $350,000.00   \n",
       "354757         replacing  boiler's  and  water  heater's.         $10,000.00   \n",
       "396511  We are installing 2100' of temporary perimeter...        $150,000.00   \n",
       "546782  Selling T-shirts March 14th, 15th 16th and 17t...          $1,000.00   \n",
       "601507  Temporary Occupancy for Political Campaign Off...              $0.00   \n",
       "\n",
       "             description         expiration_date  \\\n",
       "727     Change Occupancy                     NaN   \n",
       "1885    Change Occupancy  2014-01-29 05:00:00+00   \n",
       "1890    Change Occupancy  2013-02-27 05:00:00+00   \n",
       "2916    Change Occupancy  2015-10-29 04:00:00+00   \n",
       "2999    Change Occupancy  2015-12-29 05:00:00+00   \n",
       "...                  ...                     ...   \n",
       "68952   Change Occupancy                     NaN   \n",
       "354757  Change Occupancy  2012-01-18 05:00:00+00   \n",
       "396511  Change Occupancy  2010-10-22 04:00:00+00   \n",
       "546782  Change Occupancy  2015-07-20 04:00:00+00   \n",
       "601507  Change Occupancy  2019-01-20 05:00:00+00   \n",
       "\n",
       "                                          geom_point_2249  \\\n",
       "727     0101000020C908000080A8E5F4AC0827415BEDC058EE8A...   \n",
       "1885    0101000020C908000082017FC3E0D326413D4F345ABD53...   \n",
       "1890    0101000020C908000080BFD765CFB827419B7CED7E1E80...   \n",
       "2916    0101000020C908000000BFE18D838027417C5519C7237C...   \n",
       "2999    0101000020C9080000FF94A142FA9127411F6DB98AB782...   \n",
       "...                                                   ...   \n",
       "68952   0101000020C9080000811EBE32BBD22741D7091AC20D7A...   \n",
       "354757  0101000020C90800000451926E0C792741493F6D0B8960...   \n",
       "396511  0101000020C90800007E3DE013D21B274128E242617E90...   \n",
       "546782  0101000020C9080000A91CFD0A86B127415CEEC4AF4881...   \n",
       "601507  0101000020C90800004A0E9BB4CF98274156AE01842D68...   \n",
       "\n",
       "                                          geom_point_4326  ...     parcel_id  \\\n",
       "727     0101000020E6100000C96C82D2A6C851C0E83D9CF27A2D...  ...  2.201835e+09   \n",
       "1885    0101000020E6100000307AD14847CA51C0283BF6939023...  ...  2.009468e+09   \n",
       "1890    0101000020E6100000AFE07A0252C351C0219E91887F2B...  ...  6.004260e+08   \n",
       "2916    0101000020E610000008D6C14C07C551C0F4906AA3CB2A...  ...  8.018760e+08   \n",
       "2999    0101000020E61000001B310AD27EC451C0096D656EF92B...  ...  3.059100e+08   \n",
       "...                                                   ...  ...           ...   \n",
       "68952   0101000020E61000003C64FDF589C251C0545712B6662A...  ...  7.020890e+08   \n",
       "354757  0101000020E61000007AB7906545C551C084F12839D525...  ...  1.402055e+09   \n",
       "396511  0101000020E6100000E9C42D8611C851C0D887A9147A2E...  ...  2.200264e+09   \n",
       "546782  0101000020E6100000F8C66D578AC351C0EB7DD198B52B...  ...  6.001130e+08   \n",
       "601507  0101000020E610000022F603FD4DC451C030E4AB3D3327...  ...  1.502102e+09   \n",
       "\n",
       "        permitnumber           permittypedescr property_id   sq_feet state  \\\n",
       "727          A118898  Amendment to a Long Form    164222.0   28000.0    MA   \n",
       "1885          A16306  Amendment to a Long Form    129535.0       0.0    MA   \n",
       "1890         A164766  Amendment to a Long Form     21404.0   18000.0    MA   \n",
       "2916         A449765  Amendment to a Long Form    102028.0       0.0    MA   \n",
       "2999         A470727  Amendment to a Long Form     69254.0       0.0    MA   \n",
       "...              ...                       ...         ...       ...   ...   \n",
       "68952      COO959976  Certificate of Occupancy     52263.0       0.0    MA   \n",
       "354757        G86437                Gas Permit    102666.0       0.0    MA   \n",
       "396511       PL22643           Plumbing Permit    148158.0  270000.0    MA   \n",
       "546782      SF442612    Short Form Bldg Permit     21574.0       0.0    MA   \n",
       "601507      SF856773    Short Form Bldg Permit     17692.0       0.0    MA   \n",
       "\n",
       "        status  total_fees worktype    zip  \n",
       "727       Open     $354.00   CHGOCC  02134  \n",
       "1885      Open      $69.00   CHGOCC  02132  \n",
       "1890      Open     $320.00   CHGOCC  02127  \n",
       "2916      Open     $392.00   CHGOCC  02118  \n",
       "2999    Closed     $312.00   CHGOCC  02118  \n",
       "...        ...         ...      ...    ...  \n",
       "68952   Closed      $35.00   CHGOCC  02127  \n",
       "354757  Closed      $77.00   CHGOCC  02124  \n",
       "396511    Open      $35.00   CHGOCC  02134  \n",
       "546782    Open      $30.00   CHGOCC  02127  \n",
       "601507    Open      $20.00   CHGOCC  02125  \n",
       "\n",
       "[1635 rows x 27 columns]"
      ]
     },
     "execution_count": 264,
     "metadata": {},
     "output_type": "execute_result"
    }
   ],
   "source": [
    "data5"
   ]
  },
  {
   "cell_type": "code",
   "execution_count": 301,
   "id": "1419ebd8-ffb0-4cb3-9b42-22c3615e2976",
   "metadata": {},
   "outputs": [
    {
     "data": {
      "image/png": "[encoded data removed]",
      "text/plain": [
       "<Figure size 1400x600 with 1 Axes>"
      ]
     },
     "metadata": {},
     "output_type": "display_data"
    }
   ],
   "source": [
    "data5 = data2[data2[\"new_lu\"].isna()==False].drop_duplicates(\"parcel_id\")\n",
    "data5 = data5[data5[\"city\"].isna() == False]\n",
    "data5[data5[\"new_lu\"] == \"CM\"][\"comments\"].iloc[8]\n",
    "x = data5[\"city\"].unique()\n",
    "\n",
    "h = []\n",
    "A = data5.loc[(data5[\"init_lu\"]==\"A\") & (data5[\"new_lu\"].isin([\"R4\",\"R3\",\"R2\",\"R1\"])) & (data5[\"city\"] == c)]\n",
    "R4 = data5.loc[(data5[\"init_lu\"]==\"R4\") & (data5[\"new_lu\"].isin([\"R3\",\"R2\",\"R1\"])) & (data5[\"city\"] == c)]\n",
    "R3 = data5.loc[(data5[\"init_lu\"]==\"R3\") & (data5[\"new_lu\"].isin([\"R2\",\"R1\"])) & (data5[\"city\"] == c)]\n",
    "R2 = data5.loc[(data5[\"init_lu\"]==\"R2\") & (data5[\"new_lu\"].isin([\"R1\"])) & (data5[\"city\"] == c)]\n",
    "for c in x:\n",
    "    A = data5.loc[(data5[\"init_lu\"]==\"A\") & (data5[\"new_lu\"].isin([\"R4\",\"R3\",\"R2\",\"R1\"])) & (data5[\"city\"] == c)]\n",
    "    R4 = data5.loc[(data5[\"init_lu\"]==\"R4\") & (data5[\"new_lu\"].isin([\"R3\",\"R2\",\"R1\"])) & (data5[\"city\"] == c)]\n",
    "    R3 = data5.loc[(data5[\"init_lu\"]==\"R3\") & (data5[\"new_lu\"].isin([\"R2\",\"R1\"])) & (data5[\"city\"] == c)]\n",
    "    R2 = data5.loc[(data5[\"init_lu\"]==\"R2\") & (data5[\"new_lu\"].isin([\"R1\"])) & (data5[\"city\"] == c)]\n",
    "    count = (len(A) + len(R4) + len(R3) + len(R2))/16\n",
    "    h.append(count)\n",
    "s = sorted(zip(h,x))\n",
    "x = [a[1] for a in s]\n",
    "h = [a[0] for a in s]\n",
    "fig = plt.figure(figsize = (14,6))\n",
    "plt.barh(x,h)\n",
    "plt.title(\"Buildings that changed to smaller occupancy by neighborhood yearly average\")\n",
    "fig.savefig(\"all_permits_city_avg.png\")\n",
    "plt.show()\n"
   ]
  },
  {
   "cell_type": "code",
   "execution_count": 233,
   "id": "cdf2fbe6-cd16-4f0b-b013-2bc08336f785",
   "metadata": {},
   "outputs": [
    {
     "data": {
      "text/plain": [
       "Electrical                            9090\n",
       "Gas                                   3967\n",
       "Interior/Exterior Work                2233\n",
       "Roofing                               1890\n",
       "Renovations - Exterior                1792\n",
       "Solar Panels                          1141\n",
       "Renovations - Interior NSC            1097\n",
       "Insulation                            1002\n",
       "Other                                  913\n",
       "Low Voltage                            818\n",
       "Change Occupancy                       751\n",
       "No Record of Occupancy                 736\n",
       "Plumbing                               546\n",
       "Service Change                         507\n",
       "Fire Alarm                             482\n",
       "Siding                                 414\n",
       "Addition                               357\n",
       "Fire Protection/Sprinkler              146\n",
       "Subdivision  Combining Lot             126\n",
       "Erect                                  116\n",
       "Application to Correct a Violation      92\n",
       "Demolition - Interior                   54\n",
       "Demolition - Exterior                   50\n",
       "Fencing Renovation < 6Ft                49\n",
       "From TimeMatters-PZ Conversion          43\n",
       "Cellular Tower                          31\n",
       "Annual Maintenance                      26\n",
       "Excavation  Borings Test Pits           25\n",
       "Signs                                   24\n",
       "Temporary Service                       24\n",
       "Residential Parking                     22\n",
       "New construction                        19\n",
       "City of Boston                          18\n",
       "Generators                              15\n",
       "Removal of structure                    15\n",
       "Summer Program Fast Track               14\n",
       "Driveway Installation                    9\n",
       "Fast Track Application                   9\n",
       "Garage                                   8\n",
       "Fire Protection Sprinkler >9             7\n",
       "Fencing Renovation >6ft                  6\n",
       "Canopy                                   4\n",
       "Awning                                   4\n",
       "Holiday Vendor                           3\n",
       "Industrial Boiler                        3\n",
       "Special Events                           2\n",
       "Temp COO                                 1\n",
       "Service                                  1\n",
       "Awning Renewal                           1\n",
       "Retractable Awning                       1\n",
       "General                                  1\n",
       "Commercial Parking                       1\n",
       "Name: description, dtype: int64"
      ]
     },
     "execution_count": 233,
     "metadata": {},
     "output_type": "execute_result"
    }
   ],
   "source": [
    "data3 = data2.drop_duplicates(\"parcel_id\")\n",
    "#data2[data2[\"new_lu\"].isna() == False][\"description\"].unique()\n",
    "data3.loc[(data3[\"init_lu\"].isin([\"R2\",\"R3\",\"R4\",\"A\"]) == True)][\"description\"].value_counts()\n",
    "#data2[data2[\"new_lu\"] == \"R1\"][\"init_lu\"].value_counts()"
   ]
  },
  {
   "cell_type": "code",
   "execution_count": 136,
   "id": "70bcfc00-6c27-40cf-8826-a8a7932c8551",
   "metadata": {},
   "outputs": [],
   "source": [
    "multi_data.to_csv(\"multi_unit_data.csv\",index = False)"
   ]
  },
  {
   "cell_type": "code",
   "execution_count": 137,
   "id": "724ed933-4b05-4b7d-a6c4-5715ca4c70b6",
   "metadata": {},
   "outputs": [
    {
     "data": {
      "image/png": "[encoded data removed]",
      "text/plain": [
       "<Figure size 640x480 with 1 Axes>"
      ]
     },
     "metadata": {},
     "output_type": "display_data"
    },
    {
     "data": {
      "image/png": "[encoded data removed]",
      "text/plain": [
       "<Figure size 640x480 with 1 Axes>"
      ]
     },
     "metadata": {},
     "output_type": "display_data"
    },
    {
     "data": {
      "image/png": "[encoded data removed]",
      "text/plain": [
       "<Figure size 640x480 with 1 Axes>"
      ]
     },
     "metadata": {},
     "output_type": "display_data"
    },
    {
     "data": {
      "image/png": "[encoded data removed]",
      "text/plain": [
       "<Figure size 640x480 with 1 Axes>"
      ]
     },
     "metadata": {},
     "output_type": "display_data"
    },
    {
     "data": {
      "image/png": "[encoded data removed]",
      "text/plain": [
       "<Figure size 640x480 with 1 Axes>"
      ]
     },
     "metadata": {},
     "output_type": "display_data"
    },
    {
     "data": {
      "image/png": "[encoded data removed]",
      "text/plain": [
       "<Figure size 640x480 with 1 Axes>"
      ]
     },
     "metadata": {},
     "output_type": "display_data"
    },
    {
     "data": {
      "image/png": "[encoded data removed]",
      "text/plain": [
       "<Figure size 640x480 with 1 Axes>"
      ]
     },
     "metadata": {},
     "output_type": "display_data"
    }
   ],
   "source": [
    "for city in [\"EAST BOSTON\",\"JAMAICA PLAIN\",\"CHARLESTOWN\",\"DOWNTOWN\",\"BEACON HILL\",\"BACK BAY\",\"SOUTH END\"]:\n",
    "    df= multi_data[multi_data[\"city\"] == city]\n",
    "    plt.title(city)\n",
    "    plt.plot(\"year\",\"R1\",data = df)\n",
    "    plt.plot(\"year\",\"R2\",data = df)\n",
    "    plt.plot(\"year\",\"R3\",data = df)\n",
    "    plt.legend(loc='upper left')\n",
    "    plt.show()"
   ]
  },
  {
   "cell_type": "code",
   "execution_count": 38,
   "id": "9d2aa1bd-8181-4557-9f24-4cf49638b02a",
   "metadata": {},
   "outputs": [
    {
     "name": "stdout",
     "output_type": "stream",
     "text": [
      "597941\n",
      "2775883\n",
      "597941\n"
     ]
    }
   ],
   "source": [
    "d1 = np.setdiff1d(assessments[\"ZIPCODE\"].unique(),data[\"zip\"].unique())\n",
    "d2 = np.setdiff1d(data[\"zip\"].unique(),assessments[\"ZIPCODE\"].unique())\n",
    "print(len(data))\n",
    "print(len(assessments))\n",
    "data = data[data[\"zip\"].isin(d2) == False]\n",
    "assessments = assessments[assessments[\"ZIPCODE\"].isin(d1) == False]\n",
    "print(len(data))\n",
    "print(len(assessments))"
   ]
  },
  {
   "cell_type": "code",
   "execution_count": 155,
   "id": "4bf39c07-d3e5-4a1f-8fea-4efbe4da4901",
   "metadata": {},
   "outputs": [],
   "source": [
    "assessments = assessments[assessments[\"ZIPCODE\"].isin([\"02199\",\"02446\"]) == False]"
   ]
  },
  {
   "cell_type": "code",
   "execution_count": 156,
   "id": "badb989f-1d9d-4407-a8af-6e424fbd4b6d",
   "metadata": {},
   "outputs": [],
   "source": [
    "zipgroup = assessments.groupby(\"ZIPCODE\")"
   ]
  },
  {
   "cell_type": "code",
   "execution_count": 157,
   "id": "6b797934-c00c-4716-8983-eb0c88f1e938",
   "metadata": {},
   "outputs": [],
   "source": [
    "a = zipgroup[\"Year\"].value_counts()\n",
    "counts = pd.DataFrame(columns = [\"Year\",\"Zip\",\"Count\",\"City\"])\n",
    "for i,year in enumerate(range(2010,2024)):\n",
    "    for cat in assessments[\"ZIPCODE\"].unique():\n",
    "        counts.loc[len(counts)+1] = {\"Year\":year,\"Zip\":cat, \"Count\" : a[cat][year],\"City\" : zipdict[cat]}\n",
    "       \n",
    "    "
   ]
  },
  {
   "cell_type": "code",
   "execution_count": 158,
   "id": "764f702b-6762-45d8-8b0b-364bc6ce3a03",
   "metadata": {},
   "outputs": [
    {
     "data": {
      "text/html": [
       "<div>\n",
       "<style scoped>\n",
       "    .dataframe tbody tr th:only-of-type {\n",
       "        vertical-align: middle;\n",
       "    }\n",
       "\n",
       "    .dataframe tbody tr th {\n",
       "        vertical-align: top;\n",
       "    }\n",
       "\n",
       "    .dataframe thead th {\n",
       "        text-align: right;\n",
       "    }\n",
       "</style>\n",
       "<table border=\"1\" class=\"dataframe\">\n",
       "  <thead>\n",
       "    <tr style=\"text-align: right;\">\n",
       "      <th></th>\n",
       "      <th>Year</th>\n",
       "      <th>Zip</th>\n",
       "      <th>Count</th>\n",
       "      <th>City</th>\n",
       "    </tr>\n",
       "  </thead>\n",
       "  <tbody>\n",
       "    <tr>\n",
       "      <th>1</th>\n",
       "      <td>2010</td>\n",
       "      <td>02128</td>\n",
       "      <td>7936</td>\n",
       "      <td>EAST BOSTON</td>\n",
       "    </tr>\n",
       "    <tr>\n",
       "      <th>2</th>\n",
       "      <td>2010</td>\n",
       "      <td>02115</td>\n",
       "      <td>4722</td>\n",
       "      <td>KENMORE</td>\n",
       "    </tr>\n",
       "    <tr>\n",
       "      <th>3</th>\n",
       "      <td>2010</td>\n",
       "      <td>02130</td>\n",
       "      <td>10671</td>\n",
       "      <td>JAMAICA PLAIN</td>\n",
       "    </tr>\n",
       "    <tr>\n",
       "      <th>4</th>\n",
       "      <td>2010</td>\n",
       "      <td>02129</td>\n",
       "      <td>6437</td>\n",
       "      <td>CHARLESTOWN</td>\n",
       "    </tr>\n",
       "    <tr>\n",
       "      <th>5</th>\n",
       "      <td>2010</td>\n",
       "      <td>02114</td>\n",
       "      <td>4460</td>\n",
       "      <td>DOWNTOWN</td>\n",
       "    </tr>\n",
       "    <tr>\n",
       "      <th>...</th>\n",
       "      <td>...</td>\n",
       "      <td>...</td>\n",
       "      <td>...</td>\n",
       "      <td>...</td>\n",
       "    </tr>\n",
       "    <tr>\n",
       "      <th>374</th>\n",
       "      <td>2023</td>\n",
       "      <td>02136</td>\n",
       "      <td>9208</td>\n",
       "      <td>HYDE PARK</td>\n",
       "    </tr>\n",
       "    <tr>\n",
       "      <th>375</th>\n",
       "      <td>2023</td>\n",
       "      <td>02135</td>\n",
       "      <td>11870</td>\n",
       "      <td>ALLSTON</td>\n",
       "    </tr>\n",
       "    <tr>\n",
       "      <th>376</th>\n",
       "      <td>2023</td>\n",
       "      <td>02132</td>\n",
       "      <td>10973</td>\n",
       "      <td>WEST ROXBURY</td>\n",
       "    </tr>\n",
       "    <tr>\n",
       "      <th>377</th>\n",
       "      <td>2023</td>\n",
       "      <td>02467</td>\n",
       "      <td>1017</td>\n",
       "      <td>CHESTNUT HILL</td>\n",
       "    </tr>\n",
       "    <tr>\n",
       "      <th>378</th>\n",
       "      <td>2023</td>\n",
       "      <td>02134</td>\n",
       "      <td>4426</td>\n",
       "      <td>ALLSTON</td>\n",
       "    </tr>\n",
       "  </tbody>\n",
       "</table>\n",
       "<p>378 rows × 4 columns</p>\n",
       "</div>"
      ],
      "text/plain": [
       "     Year    Zip  Count           City\n",
       "1    2010  02128   7936    EAST BOSTON\n",
       "2    2010  02115   4722        KENMORE\n",
       "3    2010  02130  10671  JAMAICA PLAIN\n",
       "4    2010  02129   6437    CHARLESTOWN\n",
       "5    2010  02114   4460       DOWNTOWN\n",
       "..    ...    ...    ...            ...\n",
       "374  2023  02136   9208      HYDE PARK\n",
       "375  2023  02135  11870        ALLSTON\n",
       "376  2023  02132  10973   WEST ROXBURY\n",
       "377  2023  02467   1017  CHESTNUT HILL\n",
       "378  2023  02134   4426        ALLSTON\n",
       "\n",
       "[378 rows x 4 columns]"
      ]
     },
     "execution_count": 158,
     "metadata": {},
     "output_type": "execute_result"
    }
   ],
   "source": [
    "counts"
   ]
  },
  {
   "cell_type": "code",
   "execution_count": 56,
   "id": "ce15d50e-2b3d-41ce-a70c-a4590a72bb24",
   "metadata": {},
   "outputs": [],
   "source": [
    "def sort_fun(x):\n",
    "    r_val = [False,False]\n",
    "    if x[\"description\"] in ['Renovations - Exterior', 'Renovations - Interior NSC']:\n",
    "        return [True,False]\n",
    "    if x[\"description\"] in ['Demolition - Exterior','Demolition - Interior']:\n",
    "        return[False,True]\n",
    "    return [False,False]\n",
    "data[[\"Renovation\",\"Demolition\"]] = data.apply((lambda x: sort_fun(x)),axis=1,result_type=\"expand\")"
   ]
  },
  {
   "cell_type": "code",
   "execution_count": 159,
   "id": "086fee4b-b059-4b96-afbe-df1cb8e19ca9",
   "metadata": {},
   "outputs": [],
   "source": [
    "rens = data[data[\"Renovation\"] == True]\n",
    "rens_zipcounts = rens.groupby(\"zip\")\n",
    "rens_a = rens_zipcounts[\"Year\"].value_counts()\n",
    "rens_counts = pd.DataFrame(columns = [\"Year\",\"Zip\",\"Count\",\"City\"])\n",
    "for i,year in enumerate(range(2010,2024)):\n",
    "    #rens_counts.at[i,\"Year\"] = year\n",
    "    for cat in assessments[\"ZIPCODE\"].unique():\n",
    "        try:\n",
    "            rens_counts.loc[len(rens_counts) + 1] = {\"Year\":year,\"Zip\":cat, \"Count\" : rens_a[cat][year],\"City\" : zipdict[cat]}\n",
    "        except KeyError:\n",
    "            rens_counts.loc[len(rens_counts) + 1]  = {\"Year\":year,\"Zip\":cat, \"Count\" : 0}"
   ]
  },
  {
   "cell_type": "code",
   "execution_count": 160,
   "id": "96e27413-a073-4bcf-80cf-1bc8679f2546",
   "metadata": {},
   "outputs": [],
   "source": [
    "dems = data[data[\"Demolition\"] == True]\n",
    "dems_zipcounts = dems.groupby(\"zip\")\n",
    "dems_a = dems_zipcounts[\"Year\"].value_counts()\n",
    "dems_counts = pd.DataFrame(columns = [\"Year\",\"Zip\",\"Count\",\"City\"])\n",
    "for i,year in enumerate(range(2010,2024)):\n",
    "    #rens_counts.at[i,\"Year\"] = year\n",
    "    for cat in assessments[\"ZIPCODE\"].unique():\n",
    "        try:\n",
    "            dems_counts.loc[len(dems_counts) + 1] = {\"Year\":year,\"Zip\":cat, \"Count\" : dems_a[cat][year],\"City\" : zipdict[cat]}\n",
    "        except KeyError:\n",
    "            dems_counts.loc[len(dems_counts) + 1]  = {\"Year\":year,\"Zip\":cat, \"Count\" : 0}"
   ]
  },
  {
   "cell_type": "code",
   "execution_count": 161,
   "id": "b4d6fa9e-cb25-4134-b9e7-9d4e9ce14e47",
   "metadata": {},
   "outputs": [],
   "source": [
    "rens_counts_stan = rens_counts\n",
    "dems_counts_stan = dems_counts\n",
    "dems_counts_stan[\"Count\"] = dems_counts_stan[\"Count\"]/counts[\"Count\"] * 1000\n",
    "rens_counts_stan[\"Count\"] = rens_counts_stan[\"Count\"]/counts[\"Count\"] * 1000"
   ]
  },
  {
   "cell_type": "code",
   "execution_count": 162,
   "id": "ac8f8579-3d45-432b-8027-c0099db6add9",
   "metadata": {},
   "outputs": [
    {
     "data": {
      "text/html": [
       "<div>\n",
       "<style scoped>\n",
       "    .dataframe tbody tr th:only-of-type {\n",
       "        vertical-align: middle;\n",
       "    }\n",
       "\n",
       "    .dataframe tbody tr th {\n",
       "        vertical-align: top;\n",
       "    }\n",
       "\n",
       "    .dataframe thead th {\n",
       "        text-align: right;\n",
       "    }\n",
       "</style>\n",
       "<table border=\"1\" class=\"dataframe\">\n",
       "  <thead>\n",
       "    <tr style=\"text-align: right;\">\n",
       "      <th></th>\n",
       "      <th>Year</th>\n",
       "      <th>Zip</th>\n",
       "      <th>Count</th>\n",
       "      <th>City</th>\n",
       "    </tr>\n",
       "  </thead>\n",
       "  <tbody>\n",
       "    <tr>\n",
       "      <th>1</th>\n",
       "      <td>2010</td>\n",
       "      <td>02128</td>\n",
       "      <td>3.654234</td>\n",
       "      <td>EAST BOSTON</td>\n",
       "    </tr>\n",
       "    <tr>\n",
       "      <th>2</th>\n",
       "      <td>2010</td>\n",
       "      <td>02115</td>\n",
       "      <td>11.435832</td>\n",
       "      <td>KENMORE</td>\n",
       "    </tr>\n",
       "    <tr>\n",
       "      <th>3</th>\n",
       "      <td>2010</td>\n",
       "      <td>02130</td>\n",
       "      <td>2.155374</td>\n",
       "      <td>JAMAICA PLAIN</td>\n",
       "    </tr>\n",
       "    <tr>\n",
       "      <th>4</th>\n",
       "      <td>2010</td>\n",
       "      <td>02129</td>\n",
       "      <td>2.951686</td>\n",
       "      <td>CHARLESTOWN</td>\n",
       "    </tr>\n",
       "    <tr>\n",
       "      <th>5</th>\n",
       "      <td>2010</td>\n",
       "      <td>02114</td>\n",
       "      <td>2.914798</td>\n",
       "      <td>DOWNTOWN</td>\n",
       "    </tr>\n",
       "    <tr>\n",
       "      <th>...</th>\n",
       "      <td>...</td>\n",
       "      <td>...</td>\n",
       "      <td>...</td>\n",
       "      <td>...</td>\n",
       "    </tr>\n",
       "    <tr>\n",
       "      <th>374</th>\n",
       "      <td>2023</td>\n",
       "      <td>02136</td>\n",
       "      <td>1.194613</td>\n",
       "      <td>HYDE PARK</td>\n",
       "    </tr>\n",
       "    <tr>\n",
       "      <th>375</th>\n",
       "      <td>2023</td>\n",
       "      <td>02135</td>\n",
       "      <td>0.758214</td>\n",
       "      <td>ALLSTON</td>\n",
       "    </tr>\n",
       "    <tr>\n",
       "      <th>376</th>\n",
       "      <td>2023</td>\n",
       "      <td>02132</td>\n",
       "      <td>1.366992</td>\n",
       "      <td>WEST ROXBURY</td>\n",
       "    </tr>\n",
       "    <tr>\n",
       "      <th>377</th>\n",
       "      <td>2023</td>\n",
       "      <td>02467</td>\n",
       "      <td>0.000000</td>\n",
       "      <td>NaN</td>\n",
       "    </tr>\n",
       "    <tr>\n",
       "      <th>378</th>\n",
       "      <td>2023</td>\n",
       "      <td>02134</td>\n",
       "      <td>0.903751</td>\n",
       "      <td>ALLSTON</td>\n",
       "    </tr>\n",
       "  </tbody>\n",
       "</table>\n",
       "<p>378 rows × 4 columns</p>\n",
       "</div>"
      ],
      "text/plain": [
       "     Year    Zip      Count           City\n",
       "1    2010  02128   3.654234    EAST BOSTON\n",
       "2    2010  02115  11.435832        KENMORE\n",
       "3    2010  02130   2.155374  JAMAICA PLAIN\n",
       "4    2010  02129   2.951686    CHARLESTOWN\n",
       "5    2010  02114   2.914798       DOWNTOWN\n",
       "..    ...    ...        ...            ...\n",
       "374  2023  02136   1.194613      HYDE PARK\n",
       "375  2023  02135   0.758214        ALLSTON\n",
       "376  2023  02132   1.366992   WEST ROXBURY\n",
       "377  2023  02467   0.000000            NaN\n",
       "378  2023  02134   0.903751        ALLSTON\n",
       "\n",
       "[378 rows x 4 columns]"
      ]
     },
     "execution_count": 162,
     "metadata": {},
     "output_type": "execute_result"
    }
   ],
   "source": [
    "dems_counts_stan"
   ]
  },
  {
   "cell_type": "code",
   "execution_count": 163,
   "id": "b1f7094f-3ff3-4544-9393-fbc580d0807f",
   "metadata": {},
   "outputs": [
    {
     "data": {
      "text/plain": [
       "array(['02128', '02115', '02130', '02129', '02114', '02113', '02109',\n",
       "       '02108', '02110', '02210', '02116', '02111', '02127', '02118',\n",
       "       '02215', '02120', '02125', '02122', '02124', '02131', '02121',\n",
       "       '02126', '02136', '02135', '02132', '02467', '02134'], dtype=object)"
      ]
     },
     "execution_count": 163,
     "metadata": {},
     "output_type": "execute_result"
    }
   ],
   "source": [
    "rens_counts_stan[\"Zip\"].unique()"
   ]
  },
  {
   "cell_type": "code",
   "execution_count": 164,
   "id": "0e3f98b4-e71d-4a93-a285-e24068fff192",
   "metadata": {},
   "outputs": [],
   "source": [
    "rens_counts_stan[\"Zip\"] = rens_counts_stan.apply((lambda x : \"Zip_\" + x[\"Zip\"]),axis = 1)\n",
    "dems_counts_stan[\"Zip\"] = dems_counts_stan.apply((lambda x : \"Zip_\" + x[\"Zip\"]),axis = 1)\n",
    "rens_counts_stan.to_csv(\"renovations.csv\",index = False)\n",
    "dems_counts_stan.to_csv(\"demolitions.csv\",index = False)"
   ]
  }
 ],
 "metadata": {
  "kernelspec": {
   "display_name": "Python 3 (ipykernel)",
   "language": "python",
   "name": "python3"
  },
  "language_info": {
   "codemirror_mode": {
    "name": "ipython",
    "version": 3
   },
   "file_extension": ".py",
   "mimetype": "text/x-python",
   "name": "python",
   "nbconvert_exporter": "python",
   "pygments_lexer": "ipython3",
   "version": "3.10.9"
  }
 },
 "nbformat": 4,
 "nbformat_minor": 5
}
