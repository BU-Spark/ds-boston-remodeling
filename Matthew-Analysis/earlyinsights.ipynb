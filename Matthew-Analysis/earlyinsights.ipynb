{
 "cells": [
  {
   "cell_type": "code",
   "execution_count": 1,
   "metadata": {},
   "outputs": [],
   "source": [
    "import requests\n",
    "from bs4 import BeautifulSoup\n",
    "import pandas as pd\n",
    "import numpy as np"
   ]
  },
  {
   "cell_type": "code",
   "execution_count": 2,
   "metadata": {},
   "outputs": [
    {
     "name": "stderr",
     "output_type": "stream",
     "text": [
      "C:\\Users\\laser\\AppData\\Local\\Temp\\ipykernel_96388\\3964560085.py:10: DtypeWarning: Columns (20) have mixed types. Specify dtype option on import or set low_memory=False.\n",
      "  dfs[year] = pd.read_csv(link['href'])\n",
      "C:\\Users\\laser\\AppData\\Local\\Temp\\ipykernel_96388\\3964560085.py:10: DtypeWarning: Columns (6,15,27,28,29,34,35,36,37,38,39,40,41,42,44,45,46,47,48,58,59,64,65,66,67,68,69,70,72,73,74) have mixed types. Specify dtype option on import or set low_memory=False.\n",
      "  dfs[year] = pd.read_csv(link['href'])\n",
      "C:\\Users\\laser\\AppData\\Local\\Temp\\ipykernel_96388\\3964560085.py:10: DtypeWarning: Columns (15,60) have mixed types. Specify dtype option on import or set low_memory=False.\n",
      "  dfs[year] = pd.read_csv(link['href'])\n",
      "C:\\Users\\laser\\AppData\\Local\\Temp\\ipykernel_96388\\3964560085.py:10: DtypeWarning: Columns (15,60,63) have mixed types. Specify dtype option on import or set low_memory=False.\n",
      "  dfs[year] = pd.read_csv(link['href'])\n",
      "C:\\Users\\laser\\AppData\\Local\\Temp\\ipykernel_96388\\3964560085.py:10: DtypeWarning: Columns (60,63) have mixed types. Specify dtype option on import or set low_memory=False.\n",
      "  dfs[year] = pd.read_csv(link['href'])\n",
      "C:\\Users\\laser\\AppData\\Local\\Temp\\ipykernel_96388\\3964560085.py:10: DtypeWarning: Columns (60,63) have mixed types. Specify dtype option on import or set low_memory=False.\n",
      "  dfs[year] = pd.read_csv(link['href'])\n",
      "C:\\Users\\laser\\AppData\\Local\\Temp\\ipykernel_96388\\3964560085.py:10: DtypeWarning: Columns (15,46,53,55) have mixed types. Specify dtype option on import or set low_memory=False.\n",
      "  dfs[year] = pd.read_csv(link['href'])\n",
      "C:\\Users\\laser\\AppData\\Local\\Temp\\ipykernel_96388\\3964560085.py:10: DtypeWarning: Columns (13,46,49) have mixed types. Specify dtype option on import or set low_memory=False.\n",
      "  dfs[year] = pd.read_csv(link['href'])\n",
      "C:\\Users\\laser\\AppData\\Local\\Temp\\ipykernel_96388\\3964560085.py:10: DtypeWarning: Columns (13,42,46,49) have mixed types. Specify dtype option on import or set low_memory=False.\n",
      "  dfs[year] = pd.read_csv(link['href'])\n",
      "C:\\Users\\laser\\AppData\\Local\\Temp\\ipykernel_96388\\3964560085.py:10: DtypeWarning: Columns (13,25,26,27,33,34,37,41,44,45,48,49,50,51,52) have mixed types. Specify dtype option on import or set low_memory=False.\n",
      "  dfs[year] = pd.read_csv(link['href'])\n",
      "C:\\Users\\laser\\AppData\\Local\\Temp\\ipykernel_96388\\3964560085.py:10: DtypeWarning: Columns (13) have mixed types. Specify dtype option on import or set low_memory=False.\n",
      "  dfs[year] = pd.read_csv(link['href'])\n",
      "C:\\Users\\laser\\AppData\\Local\\Temp\\ipykernel_96388\\3964560085.py:10: DtypeWarning: Columns (13) have mixed types. Specify dtype option on import or set low_memory=False.\n",
      "  dfs[year] = pd.read_csv(link['href'])\n",
      "C:\\Users\\laser\\AppData\\Local\\Temp\\ipykernel_96388\\3964560085.py:10: DtypeWarning: Columns (6,13) have mixed types. Specify dtype option on import or set low_memory=False.\n",
      "  dfs[year] = pd.read_csv(link['href'])\n",
      "C:\\Users\\laser\\AppData\\Local\\Temp\\ipykernel_96388\\3964560085.py:10: DtypeWarning: Columns (13) have mixed types. Specify dtype option on import or set low_memory=False.\n",
      "  dfs[year] = pd.read_csv(link['href'])\n",
      "C:\\Users\\laser\\AppData\\Local\\Temp\\ipykernel_96388\\3964560085.py:10: DtypeWarning: Columns (13) have mixed types. Specify dtype option on import or set low_memory=False.\n",
      "  dfs[year] = pd.read_csv(link['href'])\n",
      "C:\\Users\\laser\\AppData\\Local\\Temp\\ipykernel_96388\\3964560085.py:10: DtypeWarning: Columns (13) have mixed types. Specify dtype option on import or set low_memory=False.\n",
      "  dfs[year] = pd.read_csv(link['href'])\n",
      "C:\\Users\\laser\\AppData\\Local\\Temp\\ipykernel_96388\\3964560085.py:10: DtypeWarning: Columns (13) have mixed types. Specify dtype option on import or set low_memory=False.\n",
      "  dfs[year] = pd.read_csv(link['href'])\n"
     ]
    }
   ],
   "source": [
    "#Pull the data from the website\n",
    "def get_dfs():\n",
    "    url = \"https://data.boston.gov/dataset/property-assessment\"\n",
    "    data = requests.get(url)\n",
    "    dfs = {}\n",
    "    parser = BeautifulSoup(data.text,\"html.parser\")\n",
    "    year = 2024\n",
    "    for link in parser.find_all(\"a\",href = True):\n",
    "        if \".csv\" in link['href'] or \".txt\" in link[\"href\"]:\n",
    "            dfs[year] = pd.read_csv(link['href'])\n",
    "            year -= 1\n",
    "    return dfs\n",
    "dfs = get_dfs()\n",
    "\n",
    "\n"
   ]
  },
  {
   "cell_type": "code",
   "execution_count": 3,
   "metadata": {},
   "outputs": [],
   "source": [
    "#Organize Data\n",
    "for key in dfs:\n",
    "    dfs[key][\"Year\"] = key\n",
    "df_2004_2024 = pd.DataFrame()\n",
    "for key in dfs:\n",
    "    dfs[key].rename(columns = {'OWNER MAIL ADDRESS' : 'MAIL_STREET_ADDRESS',\"HEAT_FUEL\" : \"HEAT_SYSTEM\", \"KITCHEN\" : \"KITCHENS\",\"EXT_FNISHED\":\"EXT_FINISHED\",\\\n",
    "                     'MAIL_STREET_ADDRESS': 'MAIL_ADDRESS', 'MAIL_ZIP_CODE':'MAIL_ZIPCODE','ZIP_CODE':'ZIPCODE','YR_REMOD':'YR_REMODEL','OWNER_MAIL_ZIPCODE' : 'MAIL_ZIPCODE','OWNER_MAIL_CS' : 'MAIL CS',\\\n",
    "                              'OWNER_MAIL_ADDRESS':'MAIL_ADDRESS','Owner_MAIL_ZIPCODE':'MAIL_ZIPCODE','Owner_MAIL_CS':'MAIL CS','Parcel_ID':'PID','Owner_MAIL_ADDRESS':'MAIL_ADDRESS',\\\n",
    "                              'FY2008_BLDG' : 'BLDG_TYPE', 'FY2008_GROSS_TAX' : 'GROSS_TAX','FY2008_LAND' : 'LAND_VALUE', 'FY2008_TOTAL' : 'TOTAL_VALUE',\\\n",
    "                               'AV_LAND' :'BLDG_VALUE' , 'AV_TOTAL' : 'TOTAL_VALUE'},inplace = True)\n",
    "dfs[2005][\"ZIPCODE\"] = dfs[2005][\"PTYPE\"]\n",
    "df_2004_2024 = pd.concat(dfs)\n",
    "df_2004_2024 = df_2004_2024[[\"Year\",\"ZIPCODE\"]]"
   ]
  },
  {
   "cell_type": "code",
   "execution_count": 4,
   "metadata": {},
   "outputs": [],
   "source": [
    "#Clean Zipcodes\n",
    "def zipcodefun(x):\n",
    "    x= str(x)\n",
    "    if x in ['_','0NULL_','000D_','00000_', \"3.0\",\"1\",\"9R\",\"1.0\",\"8.0\",'00420_',\"nan\",\"00003\",\"0000D\"\\\n",
    "            \"00405\",\"00403\",\"00105\",\" '098221\",\"0None\"]:\n",
    "        return None\n",
    "    if \".0\" in x:\n",
    "        x = x.replace(\".0\",\"\")\n",
    "        x = \"0\" + x\n",
    "        return x\n",
    "    if x[-1] == \"_\":\n",
    "        x = x[0:-1]\n",
    "        return x\n",
    "    if len(x) == 4:\n",
    "        if x[0] == \"0\":\n",
    "            return x + \"0\"\n",
    "        return \"0\" + x\n",
    "    return x\n",
    "        \n",
    "    \n",
    "df_2004_2024[\"ZIPCODE\"] = df_2004_2024[\"ZIPCODE\"].apply(lambda x : zipcodefun(x))\n",
    "df_2004_2024.to_csv(\"property_assessments.csv\",index = False)"
   ]
  },
  {
   "cell_type": "code",
   "execution_count": 5,
   "metadata": {},
   "outputs": [],
   "source": [
    "zipdict = {'02128' : \"EAST BOSTON\", '02115' : \"KENMORE\", '02130' : \"JAMAICA PLAIN\", '02129' : \"CHARLESTOWN\" ,\\\n",
    " '02114' :\"DOWNTOWN\",  '02113' : \"NORTH END\", '02109' : \"NORTH END\", '02108' : \"BEACON HILL\" , '02110' : \"DOWNTOWN\",\\\n",
    " '02201' : \"DOWNTOWN\", '02210' : \"SOUTH BOSTON\" ,'02116' : \"BACK BAY\" , '02111' : \"CHINATOWN\", '02127' : \"SOUTH BOSTON\",\\\n",
    " '02118' : \"SOUTH END\",'02215' : \"KENMORE\", '02120' : \"JAMAICA PLAIN\",\\\n",
    " '02125' : \"HARBOR ISLANDS\", '02122' : \"DORCHESTER\", '02124' : \"DORCHESTER\", '02131' : \"ROSINDALE\", '02121' : \"ROXBURY\",\\\n",
    " '02126' : \"MATTAPAN\", '02136' : \"HYDE PARK\", '02135' : \"ALLSTON\", '02132' : \"WEST ROXBURY\",\n",
    " '02467' : \"CHESTNUT HILL\", '02134' : \"ALLSTON\", '02167' : \"CHESTNUT HILL\"}\n",
    "df_2004_2024[\"ZIPCODE\"] = df_2004_2024[\"ZIPCODE\"].apply(lambda x : x if x in zipdict else None)\n",
    "df_2004_2024 = df_2004_2024[df_2004_2024[\"ZIPCODE\"].notna()]\n",
    "df_2004_2024[\"NEIGHBORHOOD\"] = df_2004_2024[\"ZIPCODE\"].apply(lambda x : zipdict[x])"
   ]
  },
  {
   "cell_type": "code",
   "execution_count": 7,
   "metadata": {},
   "outputs": [],
   "source": [
    "dfpercent = pd.DataFrame(columns = [\"Year\",\"NEIGHBORHOOD\",\"change\",\"%change\",\"count\"])\n",
    "nums = df_2004_2024.groupby(\"NEIGHBORHOOD\")[\"Year\"].value_counts()\n",
    "for nh in df_2004_2024[\"NEIGHBORHOOD\"].unique():\n",
    "    for year in range(2004,2025):\n",
    "        if year != 2004:\n",
    "            p = nums[nh][year] / nums[nh][year-1]\n",
    "            p = (p-1) *100\n",
    "            c = nums[nh][year] - nums[nh][year-1]\n",
    "            dfpercent.loc[len(dfpercent)+1] = {\"Year\":year,\"NEIGHBORHOOD\":nh,\"change\" : c,\"%change\":p,\"count\":nums[nh][year]}\n",
    "        else:\n",
    "            dfpercent.loc[len(dfpercent)+1] = {\"Year\":year,\"NEIGHBORHOOD\":nh,\"change\" : None, \"%change\": None,\"count\":nums[nh][year]}\n",
    "    \n",
    "            \n",
    "            \n",
    "        "
   ]
  },
  {
   "cell_type": "code",
   "execution_count": 8,
   "metadata": {},
   "outputs": [],
   "source": [
    "num_counts = df_2004_2024.groupby(\"Year\")\n",
    "for year in range(2005,2025):\n",
    "    if year != 2004:\n",
    "        count = np.sum(num_counts.value_counts()[year])\n",
    "        prev_count = np.sum(num_counts.value_counts()[year-1])\n",
    "        c = count - prev_count\n",
    "        p = count / prev_count\n",
    "        p = (p-1) *100\n",
    "        dfpercent.loc[len(dfpercent)+1] = {\"Year\":year,\"NEIGHBORHOOD\": \"BOSTON TOTAL\",\"change\" : c,\"%change\":p,\"count\":count}\n",
    "    else:\n",
    "        count = np.sum(num_counts.value_counts()[year])\n",
    "        dfpercent.loc[len(dfpercent)+1] = {\"Year\":year,\"NEIGHBORHOOD\": \"BOSTON TOTAL\",\"change\" : None,\"%change\":None,\"count\":count}\n",
    "        \n",
    "        \n",
    "    "
   ]
  },
  {
   "cell_type": "code",
   "execution_count": 84,
   "metadata": {},
   "outputs": [],
   "source": [
    "dfpercent.to_csv(\"neighborhood_changes_2004_2024.csv\",index = False)"
   ]
  }
 ],
 "metadata": {
  "kernelspec": {
   "display_name": "Python 3 (ipykernel)",
   "language": "python",
   "name": "python3"
  },
  "language_info": {
   "codemirror_mode": {
    "name": "ipython",
    "version": 3
   },
   "file_extension": ".py",
   "mimetype": "text/x-python",
   "name": "python",
   "nbconvert_exporter": "python",
   "pygments_lexer": "ipython3",
   "version": "3.10.9"
  }
 },
 "nbformat": 4,
 "nbformat_minor": 4
}
