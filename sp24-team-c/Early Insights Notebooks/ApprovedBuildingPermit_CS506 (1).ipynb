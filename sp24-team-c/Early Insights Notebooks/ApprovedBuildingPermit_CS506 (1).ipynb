{
  "cells": [
    {
      "cell_type": "code",
      "execution_count": 31,
      "metadata": {
        "id": "SrWKTl6G94Me"
      },
      "outputs": [],
      "source": [
        "import pandas as pd\n",
        "from google.colab import drive\n",
        "from sklearn.linear_model import LinearRegression\n",
        "from sklearn.model_selection import train_test_split\n",
        "from sklearn import datasets\n",
        "from sklearn.metrics import mean_squared_error\n",
        "import statsmodels.api as sns\n",
        "import seaborn as sns\n",
        "import matplotlib.pyplot as plt"
      ]
    },
    {
      "cell_type": "markdown",
      "source": [
        "## Instruction\n",
        "1. download data csv from https://data.boston.gov/dataset/approved-building-permits\n",
        "2. changed the file name into \"building_permits.csv\"\n",
        "3. create a folder in your drive and name is \"CS506Proj\"\n",
        "4. put in the csv file in there and run the code bellow"
      ],
      "metadata": {
        "id": "Y6Vu_5GdtvDi"
      }
    },
    {
      "cell_type": "markdown",
      "source": [
        "# Code processing"
      ],
      "metadata": {
        "id": "dHw96o3MuBaP"
      }
    },
    {
      "cell_type": "code",
      "execution_count": 32,
      "metadata": {
        "colab": {
          "base_uri": "https://localhost:8080/"
        },
        "id": "8OAoEeCu98n3",
        "outputId": "0d9fe426-5345-4980-88a4-a9176f8030c6"
      },
      "outputs": [
        {
          "output_type": "stream",
          "name": "stdout",
          "text": [
            "Drive already mounted at /content/drive/; to attempt to forcibly remount, call drive.mount(\"/content/drive/\", force_remount=True).\n"
          ]
        }
      ],
      "source": [
        "drive.mount('/content/drive/')"
      ]
    },
    {
      "cell_type": "code",
      "execution_count": 33,
      "metadata": {
        "colab": {
          "base_uri": "https://localhost:8080/"
        },
        "id": "yuR_a-PO9-78",
        "outputId": "95f3ff5d-1bf5-4a31-ebb7-54e6a3f3df32"
      },
      "outputs": [
        {
          "output_type": "stream",
          "name": "stderr",
          "text": [
            "<ipython-input-33-a787f16ad86d>:1: DtypeWarning: Columns (17) have mixed types. Specify dtype option on import or set low_memory=False.\n",
            "  df = pd.read_csv('/content/drive/My Drive/CS506Proj/building_permits.csv')\n"
          ]
        }
      ],
      "source": [
        "df = pd.read_csv('/content/drive/My Drive/CS506Proj/building_permits.csv')\n",
        "# Reading the data from github\n",
        "# df = pd.read_csv('../data/building_permits.csv')"
      ]
    },
    {
      "cell_type": "code",
      "execution_count": 34,
      "metadata": {
        "colab": {
          "base_uri": "https://localhost:8080/"
        },
        "id": "8UJTgDSy-b38",
        "outputId": "f20b3908-c848-4fce-ff8e-1ce040272031"
      },
      "outputs": [
        {
          "output_type": "stream",
          "name": "stdout",
          "text": [
            "  permitnumber worktype           permittypedescr             description  \\\n",
            "0     A1000569   INTEXT  Amendment to a Long Form  Interior/Exterior Work   \n",
            "1      A100071      COB  Amendment to a Long Form          City of Boston   \n",
            "2     A1001012    OTHER  Amendment to a Long Form                   Other   \n",
            "3     A1001201   INTEXT  Amendment to a Long Form  Interior/Exterior Work   \n",
            "4      A100137   EXTREN  Amendment to a Long Form  Renovations - Exterior   \n",
            "\n",
            "                                            comments          applicant  \\\n",
            "0  This work is to Amend Permit ALT347244. Elimin...    Patrick Sharkey   \n",
            "1  Change connector link layout from attached enc...  Renee Santeusanio   \n",
            "2  Amend Alt943748 to erect a roof deck as per pl...   Jusimar Oliveria   \n",
            "3  Build steel balcony over garden level with sta...      Andreas Hwang   \n",
            "4  Landscaping/stonework - amending permit #2801/...                NaN   \n",
            "\n",
            "  declared_valuation total_fees             issued_date  \\\n",
            "0         $36,500.00    $390.00  2021-01-28 16:29:26+00   \n",
            "1         $40,000.00     $29.00  2011-11-04 15:04:58+00   \n",
            "2          $5,000.00     $70.00  2020-06-01 18:08:47+00   \n",
            "3         $74,295.75    $803.00  2019-11-13 18:38:56+00   \n",
            "4         $15,000.00    $182.00  2013-01-03 19:13:09+00   \n",
            "\n",
            "          expiration_date  ...                 address          city state  \\\n",
            "0  2021-07-28 04:00:00+00  ...        181-183 State ST        Boston    MA   \n",
            "1  2012-05-04 04:00:00+00  ...       175 W Boundary RD  West Roxbury    MA   \n",
            "2                     NaN  ...          15 Prospect ST   Charlestown    MA   \n",
            "3  2020-05-13 04:00:00+00  ...    211 W Springfield ST       Roxbury    MA   \n",
            "4  2013-07-03 04:00:00+00  ...  14 William Jackson AVE      Brighton    MA   \n",
            "\n",
            "      zip property_id     parcel_id          gpsy           gpsx  \\\n",
            "0  2109.0    130392.0  3.038070e+08  2.956235e+06  777000.467775   \n",
            "1  2132.0     17268.0  2.012032e+09  2.920239e+06  751016.119559   \n",
            "2  2129.0    113443.0  2.028370e+08  2.962078e+06  775710.380542   \n",
            "3  2118.0    129994.0  4.025580e+08  2.949423e+06  769648.312793   \n",
            "4  2135.0    149852.0  2.204944e+09  2.950791e+06  749690.298790   \n",
            "\n",
            "                                     geom_point_2249  \\\n",
            "0  0101000020C9080000014080EF50B6274128B89653E58D...   \n",
            "1  0101000020C908000081DB363D50EB264164AA649F9747...   \n",
            "2  0101000020C90800007E6BD6C23CAC2741422F500F4F99...   \n",
            "3  0101000020C9080000025726A0E07C274183505E499780...   \n",
            "4  0101000020C9080000FCFDFA98F4E02641F6694F594383...   \n",
            "\n",
            "                                     geom_point_4326  \n",
            "0  0101000020E6100000A703291D63C351C074AD05ECF92D...  \n",
            "1  0101000020E61000005F23793993C951C071ECAA3E6021...  \n",
            "2  0101000020E6100000F053B47AAFC351C0A6BB62F20730...  \n",
            "3  0101000020E6100000D72A24D322C551C044521DC4982B...  \n",
            "4  0101000020E61000009DED6FF7DBC951C0929A5BD71B2C...  \n",
            "\n",
            "[5 rows x 24 columns] \n",
            "\n",
            "rows + collumn \n",
            " (617698, 24)\n"
          ]
        }
      ],
      "source": [
        "df.head()\n",
        "print(df.head(), \"\\n\")\n",
        "print(\"rows + collumn\", \"\\n\", df.shape)"
      ]
    },
    {
      "cell_type": "markdown",
      "source": [
        "Checking for null values"
      ],
      "metadata": {
        "id": "g4Vx03J3uGT9"
      }
    },
    {
      "cell_type": "code",
      "source": [
        "null_counts = df.isnull().sum()\n",
        "print(\"Number of null values in each column:\\n\", null_counts)\n",
        "\n",
        "# Drop rows with missing values\n",
        "df.dropna(inplace=True)\n",
        "\n",
        "# Check again for null values\n",
        "null_counts = df.isnull().sum()\n",
        "print(\"\\nNumber of null values in each column after cleaning:\\n\", null_counts)"
      ],
      "metadata": {
        "colab": {
          "base_uri": "https://localhost:8080/"
        },
        "id": "beseX_EnrwJB",
        "outputId": "c7340d45-922f-453f-824c-35256d6299bb"
      },
      "execution_count": 35,
      "outputs": [
        {
          "output_type": "stream",
          "name": "stdout",
          "text": [
            "Number of null values in each column:\n",
            " permitnumber              0\n",
            "worktype               4541\n",
            "permittypedescr           0\n",
            "description            4541\n",
            "comments                207\n",
            "applicant              8824\n",
            "declared_valuation        0\n",
            "total_fees                0\n",
            "issued_date               0\n",
            "expiration_date       25590\n",
            "status                    0\n",
            "owner                 14593\n",
            "occupancytype          1929\n",
            "sq_feet                   0\n",
            "address                6957\n",
            "city                    185\n",
            "state                     0\n",
            "zip                     418\n",
            "property_id           10625\n",
            "parcel_id             14593\n",
            "gpsy                  14463\n",
            "gpsx                  14463\n",
            "geom_point_2249       14463\n",
            "geom_point_4326       14463\n",
            "dtype: int64\n",
            "\n",
            "Number of null values in each column after cleaning:\n",
            " permitnumber          0\n",
            "worktype              0\n",
            "permittypedescr       0\n",
            "description           0\n",
            "comments              0\n",
            "applicant             0\n",
            "declared_valuation    0\n",
            "total_fees            0\n",
            "issued_date           0\n",
            "expiration_date       0\n",
            "status                0\n",
            "owner                 0\n",
            "occupancytype         0\n",
            "sq_feet               0\n",
            "address               0\n",
            "city                  0\n",
            "state                 0\n",
            "zip                   0\n",
            "property_id           0\n",
            "parcel_id             0\n",
            "gpsy                  0\n",
            "gpsx                  0\n",
            "geom_point_2249       0\n",
            "geom_point_4326       0\n",
            "dtype: int64\n"
          ]
        }
      ]
    },
    {
      "cell_type": "markdown",
      "source": [
        "  Reformating value"
      ],
      "metadata": {
        "id": "jusy0NenuPYG"
      }
    },
    {
      "cell_type": "code",
      "execution_count": 36,
      "metadata": {
        "id": "Vy5dApt6Ad9l"
      },
      "outputs": [],
      "source": [
        "df['declared_valuation'] = df['declared_valuation'].str.replace('$', '', regex=False).str.replace(',', '', regex=False).astype(float)\n",
        "df['total_fees'] = df['total_fees'].str.replace('$', '', regex=False).str.replace(',', '', regex=False).astype(float)\n"
      ]
    },
    {
      "cell_type": "code",
      "source": [
        "unique_zip_codes = df['zip'].unique()\n",
        "zip_total = df.groupby('zip').size().sort_values(ascending=False)\n",
        "\n",
        "zip_total_max = df.groupby('zip').size().max()\n",
        "zip_total"
      ],
      "metadata": {
        "id": "z1WfSYQS_PT4",
        "colab": {
          "base_uri": "https://localhost:8080/"
        },
        "outputId": "b61d0673-a7ce-4e8d-ff07-f2ee711d4a03"
      },
      "execution_count": 37,
      "outputs": [
        {
          "output_type": "execute_result",
          "data": {
            "text/plain": [
              "zip\n",
              "2116.0    36184\n",
              "2130.0    28131\n",
              "2124.0    27558\n",
              "2131.0    24035\n",
              "2132.0    22858\n",
              "          ...  \n",
              "2158.0        2\n",
              "02103         1\n",
              "01803         1\n",
              "08091         1\n",
              "8             1\n",
              "Length: 75, dtype: int64"
            ]
          },
          "metadata": {},
          "execution_count": 37
        }
      ]
    },
    {
      "cell_type": "markdown",
      "source": [
        "Total Fees"
      ],
      "metadata": {
        "id": "-81rTjwGz334"
      }
    },
    {
      "cell_type": "code",
      "source": [
        "# Print  import matplotlib.pyplot as plt print(df['total_fees'].describe()) in 3 significant figures\n",
        "\n",
        "import matplotlib.pyplot as plt\n",
        "print(df['total_fees'].describe().round(3))\n"
      ],
      "metadata": {
        "id": "5yeyaTcDIej5",
        "colab": {
          "base_uri": "https://localhost:8080/"
        },
        "outputId": "6c8a5df7-1907-46ba-c53a-2466b1cf3c44"
      },
      "execution_count": 38,
      "outputs": [
        {
          "output_type": "stream",
          "name": "stdout",
          "text": [
            "count    5.558150e+05\n",
            "mean     9.165020e+02\n",
            "std      2.602297e+04\n",
            "min      0.000000e+00\n",
            "25%      3.220000e+01\n",
            "50%      7.000000e+01\n",
            "75%      1.900000e+02\n",
            "max      1.308042e+07\n",
            "Name: total_fees, dtype: float64\n"
          ]
        }
      ]
    },
    {
      "cell_type": "code",
      "source": [
        "import pandas as pd\n",
        "import matplotlib.pyplot as plt\n",
        "import seaborn as sns\n",
        "\n",
        "# Assuming df is your DataFrame and 'total_fees' is a column in it\n",
        "\n",
        "# Generate the distribution graph for 'total_fees'\n",
        "plt.figure(figsize=(10, 6))\n",
        "sns.histplot(df['total_fees'], kde=True, bins=10, color='skyblue')\n",
        "plt.title('Distribution of Total Fees')\n",
        "plt.xlabel('Total Fees')\n",
        "plt.ylabel('Frequency')\n",
        "plt.grid(True)\n",
        "plt.show()\n"
      ],
      "metadata": {
        "id": "xuvDKUHfwlFy",
        "colab": {
          "base_uri": "https://localhost:8080/",
          "height": 556
        },
        "outputId": "168c9440-dbcf-4cc8-fbc0-1581bad0cc64"
      },
      "execution_count": 39,
      "outputs": [
        {
          "output_type": "display_data",
          "data": {
            "text/plain": [
              "<Figure size 1000x600 with 1 Axes>"
            ],
            "image/png": "[encoded data removed]"
          },
          "metadata": {}
        }
      ]
    },
    {
      "cell_type": "markdown",
      "source": [
        "Declared Valuation"
      ],
      "metadata": {
        "id": "xuXiYqYWzz9A"
      }
    },
    {
      "cell_type": "code",
      "source": [
        "\n",
        "import matplotlib.pyplot as plt\n",
        "print(df['declared_valuation'].describe().round(3))"
      ],
      "metadata": {
        "id": "Ha_5_sPMz8qp",
        "colab": {
          "base_uri": "https://localhost:8080/"
        },
        "outputId": "b046a195-145c-457c-9b23-1604408afd18"
      },
      "execution_count": 40,
      "outputs": [
        {
          "output_type": "stream",
          "name": "stdout",
          "text": [
            "count    5.558150e+05\n",
            "mean     1.166506e+05\n",
            "std      4.040626e+06\n",
            "min     -1.000000e+06\n",
            "25%      1.500000e+03\n",
            "50%      5.500000e+03\n",
            "75%      2.000000e+04\n",
            "max      2.100000e+09\n",
            "Name: declared_valuation, dtype: float64\n"
          ]
        }
      ]
    },
    {
      "cell_type": "code",
      "source": [
        "import pandas as pd\n",
        "import matplotlib.pyplot as plt\n",
        "import seaborn as sns\n",
        "\n",
        "# Generate the distribution graph for 'total_fees'\n",
        "plt.figure(figsize=(10, 6))\n",
        "sns.histplot(df['declared_valuation'], kde=True, bins=10, color='skyblue')\n",
        "plt.title('Distribution of declared valuation')\n",
        "plt.xlabel('Total Fees')\n",
        "plt.ylabel('Frequency')\n",
        "plt.grid(True)\n",
        "plt.show()"
      ],
      "metadata": {
        "id": "z3A9Oe6K7_5j",
        "colab": {
          "base_uri": "https://localhost:8080/",
          "height": 538
        },
        "outputId": "1a1148ff-0b04-4406-80e9-b7618dc1721f"
      },
      "execution_count": 41,
      "outputs": [
        {
          "output_type": "display_data",
          "data": {
            "text/plain": [
              "<Figure size 1000x600 with 1 Axes>"
            ],
            "image/png": "[encoded data removed]"
          },
          "metadata": {}
        }
      ]
    },
    {
      "cell_type": "code",
      "source": [
        "# Check how many zip are there and check the total of zip for each different zip\n",
        ", '', regex=False).str.replace(',', '', regex=False).astype(float)\n",
        "\n",
        "# Count the number of unique zip codes\n",
        "unique_zip_codes = df['zip'].unique()\n",
        "num_unique_zip_codes = len(unique_zip_codes)\n",
        "print(f\"Number of unique zip codes: {num_unique_zip_codes}\")\n",
        "\n",
        "# Calculate the total fees for each zip code\n",
        "zip_totals = df.groupby('zip')['total_fees'].sum()\n",
        "\n",
        "# Print the total fees for each zip code\n",
        "print(f\"Total fees for each zip code:\\n{zip_totals}\")\n",
        "print(f\"Max zip code:\\n{zip_totals.max()}\")"
      ],
      "metadata": {
        "id": "v7eyzeOd6zMS",
        "colab": {
          "base_uri": "https://localhost:8080/"
        },
        "outputId": "1cb3034b-0f93-4c7d-ab2a-0c915787f37d"
      },
      "execution_count": 42,
      "outputs": [
        {
          "output_type": "stream",
          "name": "stdout",
          "text": [
            "Number of unique zip codes: 75\n",
            "Total fees for each zip code:\n",
            "zip\n",
            "1803.0       11484.80\n",
            "2103.0         176.75\n",
            "2104.0         307.00\n",
            "2108.0     9361733.57\n",
            "2109.0    14252386.35\n",
            "             ...     \n",
            "02210     25391819.00\n",
            "02215     26756877.50\n",
            "02467      1568767.00\n",
            "08091           75.00\n",
            "8               90.00\n",
            "Name: total_fees, Length: 75, dtype: float64\n",
            "Max zip code:\n",
            "37602136.76\n"
          ]
        }
      ]
    },
    {
      "cell_type": "code",
      "source": [
        "# Bar graph based on the number of zip and total of the each total zip\n",
        "\n",
        "import matplotlib.pyplot as plt\n",
        "# Create a bar chart of the number of zip codes vs. the total fees\n",
        "plt.figure(figsize=(40, 15))\n",
        "sns.barplot(x=unique_zip_codes, y=zip_totals)\n",
        "plt.xlabel('Zip Code')\n",
        "plt.ylabel('Total Fees')\n",
        "plt.title('Number of Zip Codes vs. Total Fees')\n",
        "plt.show()\n"
      ],
      "metadata": {
        "id": "v7XC50OL-Z_R",
        "colab": {
          "base_uri": "https://localhost:8080/",
          "height": 343
        },
        "outputId": "ec4aa882-9d84-4d75-dea7-2777cde19f22"
      },
      "execution_count": 43,
      "outputs": [
        {
          "output_type": "display_data",
          "data": {
            "text/plain": [
              "<Figure size 4000x1500 with 1 Axes>"
            ],
            "image/png": "[encoded data removed]"
          },
          "metadata": {}
        }
      ]
    },
    {
      "cell_type": "code",
      "source": [
        "# Graph to find a relationship between zip and total_fees\n",
        "\n",
        "import matplotlib.pyplot as plt\n",
        "# Convert 'zip' to a categorical type if it's not already\n",
        "df['zip'] = df['zip']\n",
        "# Ensure 'total_fees' is a numeric type\n",
        "df['total_fees'] = pd.to_numeric(df['total_fees'], errors='coerce')\n",
        "\n",
        "# Create a scatter plot of zip code vs. total fees\n",
        "# With categorical data, it might be better to use a boxplot\n",
        "plt.figure(figsize=(20, 7))\n",
        "plt.scatter(df['zip'].cat.codes, df['total_fees'])  # Use .cat.codes to assign a numeric code to each unique category\n",
        "plt.xlabel('Zip Code')\n",
        "plt.ylabel('Total Fees')\n",
        "plt.title('Scatter Plot of Zip Code vs. Total Fees')\n",
        "plt.show()\n"
      ],
      "metadata": {
        "id": "1tMPriXABSKq",
        "colab": {
          "base_uri": "https://localhost:8080/",
          "height": 391
        },
        "outputId": "b3766d91-91de-44e7-a3f1-5eff58a8bfc5"
      },
      "execution_count": 44,
      "outputs": [
        {
          "output_type": "error",
          "ename": "AttributeError",
          "evalue": "Can only use .cat accessor with a 'category' dtype",
          "traceback": [
            "\u001b[0;31m---------------------------------------------------------------------------\u001b[0m",
            "\u001b[0;31mAttributeError\u001b[0m                            Traceback (most recent call last)",
            "\u001b[0;32m<ipython-input-44-55d33951c66f>\u001b[0m in \u001b[0;36m<cell line: 12>\u001b[0;34m()\u001b[0m\n\u001b[1;32m     10\u001b[0m \u001b[0;31m# With categorical data, it might be better to use a boxplot\u001b[0m\u001b[0;34m\u001b[0m\u001b[0;34m\u001b[0m\u001b[0m\n\u001b[1;32m     11\u001b[0m \u001b[0mplt\u001b[0m\u001b[0;34m.\u001b[0m\u001b[0mfigure\u001b[0m\u001b[0;34m(\u001b[0m\u001b[0mfigsize\u001b[0m\u001b[0;34m=\u001b[0m\u001b[0;34m(\u001b[0m\u001b[0;36m20\u001b[0m\u001b[0;34m,\u001b[0m \u001b[0;36m7\u001b[0m\u001b[0;34m)\u001b[0m\u001b[0;34m)\u001b[0m\u001b[0;34m\u001b[0m\u001b[0;34m\u001b[0m\u001b[0m\n\u001b[0;32m---> 12\u001b[0;31m \u001b[0mplt\u001b[0m\u001b[0;34m.\u001b[0m\u001b[0mscatter\u001b[0m\u001b[0;34m(\u001b[0m\u001b[0mdf\u001b[0m\u001b[0;34m[\u001b[0m\u001b[0;34m'zip'\u001b[0m\u001b[0;34m]\u001b[0m\u001b[0;34m.\u001b[0m\u001b[0mcat\u001b[0m\u001b[0;34m.\u001b[0m\u001b[0mcodes\u001b[0m\u001b[0;34m,\u001b[0m \u001b[0mdf\u001b[0m\u001b[0;34m[\u001b[0m\u001b[0;34m'total_fees'\u001b[0m\u001b[0;34m]\u001b[0m\u001b[0;34m)\u001b[0m  \u001b[0;31m# Use .cat.codes to assign a numeric code to each unique category\u001b[0m\u001b[0;34m\u001b[0m\u001b[0;34m\u001b[0m\u001b[0m\n\u001b[0m\u001b[1;32m     13\u001b[0m \u001b[0mplt\u001b[0m\u001b[0;34m.\u001b[0m\u001b[0mxlabel\u001b[0m\u001b[0;34m(\u001b[0m\u001b[0;34m'Zip Code'\u001b[0m\u001b[0;34m)\u001b[0m\u001b[0;34m\u001b[0m\u001b[0;34m\u001b[0m\u001b[0m\n\u001b[1;32m     14\u001b[0m \u001b[0mplt\u001b[0m\u001b[0;34m.\u001b[0m\u001b[0mylabel\u001b[0m\u001b[0;34m(\u001b[0m\u001b[0;34m'Total Fees'\u001b[0m\u001b[0;34m)\u001b[0m\u001b[0;34m\u001b[0m\u001b[0;34m\u001b[0m\u001b[0m\n",
            "\u001b[0;32m/usr/local/lib/python3.10/dist-packages/pandas/core/generic.py\u001b[0m in \u001b[0;36m__getattr__\u001b[0;34m(self, name)\u001b[0m\n\u001b[1;32m   5900\u001b[0m         ):\n\u001b[1;32m   5901\u001b[0m             \u001b[0;32mreturn\u001b[0m \u001b[0mself\u001b[0m\u001b[0;34m[\u001b[0m\u001b[0mname\u001b[0m\u001b[0;34m]\u001b[0m\u001b[0;34m\u001b[0m\u001b[0;34m\u001b[0m\u001b[0m\n\u001b[0;32m-> 5902\u001b[0;31m         \u001b[0;32mreturn\u001b[0m \u001b[0mobject\u001b[0m\u001b[0;34m.\u001b[0m\u001b[0m__getattribute__\u001b[0m\u001b[0;34m(\u001b[0m\u001b[0mself\u001b[0m\u001b[0;34m,\u001b[0m \u001b[0mname\u001b[0m\u001b[0;34m)\u001b[0m\u001b[0;34m\u001b[0m\u001b[0;34m\u001b[0m\u001b[0m\n\u001b[0m\u001b[1;32m   5903\u001b[0m \u001b[0;34m\u001b[0m\u001b[0m\n\u001b[1;32m   5904\u001b[0m     \u001b[0;32mdef\u001b[0m \u001b[0m__setattr__\u001b[0m\u001b[0;34m(\u001b[0m\u001b[0mself\u001b[0m\u001b[0;34m,\u001b[0m \u001b[0mname\u001b[0m\u001b[0;34m:\u001b[0m \u001b[0mstr\u001b[0m\u001b[0;34m,\u001b[0m \u001b[0mvalue\u001b[0m\u001b[0;34m)\u001b[0m \u001b[0;34m->\u001b[0m \u001b[0;32mNone\u001b[0m\u001b[0;34m:\u001b[0m\u001b[0;34m\u001b[0m\u001b[0;34m\u001b[0m\u001b[0m\n",
            "\u001b[0;32m/usr/local/lib/python3.10/dist-packages/pandas/core/accessor.py\u001b[0m in \u001b[0;36m__get__\u001b[0;34m(self, obj, cls)\u001b[0m\n\u001b[1;32m    180\u001b[0m             \u001b[0;31m# we're accessing the attribute of the class, i.e., Dataset.geo\u001b[0m\u001b[0;34m\u001b[0m\u001b[0;34m\u001b[0m\u001b[0m\n\u001b[1;32m    181\u001b[0m             \u001b[0;32mreturn\u001b[0m \u001b[0mself\u001b[0m\u001b[0;34m.\u001b[0m\u001b[0m_accessor\u001b[0m\u001b[0;34m\u001b[0m\u001b[0;34m\u001b[0m\u001b[0m\n\u001b[0;32m--> 182\u001b[0;31m         \u001b[0maccessor_obj\u001b[0m \u001b[0;34m=\u001b[0m \u001b[0mself\u001b[0m\u001b[0;34m.\u001b[0m\u001b[0m_accessor\u001b[0m\u001b[0;34m(\u001b[0m\u001b[0mobj\u001b[0m\u001b[0;34m)\u001b[0m\u001b[0;34m\u001b[0m\u001b[0;34m\u001b[0m\u001b[0m\n\u001b[0m\u001b[1;32m    183\u001b[0m         \u001b[0;31m# Replace the property with the accessor object. Inspired by:\u001b[0m\u001b[0;34m\u001b[0m\u001b[0;34m\u001b[0m\u001b[0m\n\u001b[1;32m    184\u001b[0m         \u001b[0;31m# https://www.pydanny.com/cached-property.html\u001b[0m\u001b[0;34m\u001b[0m\u001b[0;34m\u001b[0m\u001b[0m\n",
            "\u001b[0;32m/usr/local/lib/python3.10/dist-packages/pandas/core/arrays/categorical.py\u001b[0m in \u001b[0;36m__init__\u001b[0;34m(self, data)\u001b[0m\n\u001b[1;32m   2847\u001b[0m \u001b[0;34m\u001b[0m\u001b[0m\n\u001b[1;32m   2848\u001b[0m     \u001b[0;32mdef\u001b[0m \u001b[0m__init__\u001b[0m\u001b[0;34m(\u001b[0m\u001b[0mself\u001b[0m\u001b[0;34m,\u001b[0m \u001b[0mdata\u001b[0m\u001b[0;34m)\u001b[0m \u001b[0;34m->\u001b[0m \u001b[0;32mNone\u001b[0m\u001b[0;34m:\u001b[0m\u001b[0;34m\u001b[0m\u001b[0;34m\u001b[0m\u001b[0m\n\u001b[0;32m-> 2849\u001b[0;31m         \u001b[0mself\u001b[0m\u001b[0;34m.\u001b[0m\u001b[0m_validate\u001b[0m\u001b[0;34m(\u001b[0m\u001b[0mdata\u001b[0m\u001b[0;34m)\u001b[0m\u001b[0;34m\u001b[0m\u001b[0;34m\u001b[0m\u001b[0m\n\u001b[0m\u001b[1;32m   2850\u001b[0m         \u001b[0mself\u001b[0m\u001b[0;34m.\u001b[0m\u001b[0m_parent\u001b[0m \u001b[0;34m=\u001b[0m \u001b[0mdata\u001b[0m\u001b[0;34m.\u001b[0m\u001b[0mvalues\u001b[0m\u001b[0;34m\u001b[0m\u001b[0;34m\u001b[0m\u001b[0m\n\u001b[1;32m   2851\u001b[0m         \u001b[0mself\u001b[0m\u001b[0;34m.\u001b[0m\u001b[0m_index\u001b[0m \u001b[0;34m=\u001b[0m \u001b[0mdata\u001b[0m\u001b[0;34m.\u001b[0m\u001b[0mindex\u001b[0m\u001b[0;34m\u001b[0m\u001b[0;34m\u001b[0m\u001b[0m\n",
            "\u001b[0;32m/usr/local/lib/python3.10/dist-packages/pandas/core/arrays/categorical.py\u001b[0m in \u001b[0;36m_validate\u001b[0;34m(data)\u001b[0m\n\u001b[1;32m   2856\u001b[0m     \u001b[0;32mdef\u001b[0m \u001b[0m_validate\u001b[0m\u001b[0;34m(\u001b[0m\u001b[0mdata\u001b[0m\u001b[0;34m)\u001b[0m\u001b[0;34m:\u001b[0m\u001b[0;34m\u001b[0m\u001b[0;34m\u001b[0m\u001b[0m\n\u001b[1;32m   2857\u001b[0m         \u001b[0;32mif\u001b[0m \u001b[0;32mnot\u001b[0m \u001b[0mis_categorical_dtype\u001b[0m\u001b[0;34m(\u001b[0m\u001b[0mdata\u001b[0m\u001b[0;34m.\u001b[0m\u001b[0mdtype\u001b[0m\u001b[0;34m)\u001b[0m\u001b[0;34m:\u001b[0m\u001b[0;34m\u001b[0m\u001b[0;34m\u001b[0m\u001b[0m\n\u001b[0;32m-> 2858\u001b[0;31m             \u001b[0;32mraise\u001b[0m \u001b[0mAttributeError\u001b[0m\u001b[0;34m(\u001b[0m\u001b[0;34m\"Can only use .cat accessor with a 'category' dtype\"\u001b[0m\u001b[0;34m)\u001b[0m\u001b[0;34m\u001b[0m\u001b[0;34m\u001b[0m\u001b[0m\n\u001b[0m\u001b[1;32m   2859\u001b[0m \u001b[0;34m\u001b[0m\u001b[0m\n\u001b[1;32m   2860\u001b[0m     \u001b[0;32mdef\u001b[0m \u001b[0m_delegate_property_get\u001b[0m\u001b[0;34m(\u001b[0m\u001b[0mself\u001b[0m\u001b[0;34m,\u001b[0m \u001b[0mname\u001b[0m\u001b[0;34m)\u001b[0m\u001b[0;34m:\u001b[0m\u001b[0;34m\u001b[0m\u001b[0;34m\u001b[0m\u001b[0m\n",
            "\u001b[0;31mAttributeError\u001b[0m: Can only use .cat accessor with a 'category' dtype"
          ]
        },
        {
          "output_type": "display_data",
          "data": {
            "text/plain": [
              "<Figure size 2000x700 with 0 Axes>"
            ]
          },
          "metadata": {}
        }
      ]
    },
    {
      "cell_type": "code",
      "execution_count": null,
      "metadata": {
        "id": "yF4q1bvxB9-p"
      },
      "outputs": [],
      "source": [
        "#check based on a certain zip how many \"permitnumber\" is avaiblable\n",
        "df['zip'].value_counts()"
      ]
    },
    {
      "cell_type": "code",
      "source": [
        "# prompt: Give me a density graph for the zip to see where are the zip located\n",
        "\n",
        "import matplotlib.pyplot as plt\n",
        "# Calculate the number of permits for each zip code\n",
        "permits_by_zip = df.groupby('zip')['permitnumber'].count()\n",
        "\n",
        "# Find the zip code with the most permits\n",
        "most_permits_zip = permits_by_zip.sort_values(ascending=False).index[0]\n",
        "\n",
        "# Print the zip code with the most permits and the number of permits\n",
        "print(f\"Zip code with the most permits: {most_permits_zip}\")\n",
        "print(f\"Number of permits: {permits_by_zip[most_permits_zip]}\")\n",
        "\n",
        "# Create a bar chart of the number of permits for each zip code\n",
        "plt.figure(figsize=(40, 15))\n",
        "sns.barplot(x=permits_by_zip.index, y=permits_by_zip.values)\n",
        "plt.xlabel('Zip Code')\n",
        "plt.ylabel('Number of Permits')\n",
        "plt.title('Number of Permits for Each Zip Code')\n",
        "plt.show()\n",
        "\n",
        "# Create a pie chart of the number of permits for each zip code\n",
        "plt.figure(figsize=(10, 7))\n",
        "plt.pie(permits_by_zip.values, labels=permits_by_zip.index, autopct='%1.1f%%')\n",
        "plt.title('Percentage of Permits for Each Zip Code')\n",
        "plt.show()\n"
      ],
      "metadata": {
        "id": "NjAeuR0m2MRP"
      },
      "execution_count": null,
      "outputs": []
    },
    {
      "cell_type": "code",
      "source": [
        "\n",
        "import matplotlib.pyplot as plt\n",
        "# Create a scatter plot of declared valuation vs. total fees\n",
        "plt.figure(figsize=(10, 6))\n",
        "sns.scatterplot(x='declared_valuation', y='total_fees', data=df[df['zip'] == 2116])\n",
        "plt.xlabel('Declared Valuation')\n",
        "plt.ylabel('Total Fees')\n",
        "plt.title('Scatter Plot of Declared Valuation vs. Total Fees for Zip Code 2116')\n",
        "plt.show()\n",
        "\n",
        "# Calculate the correlation coefficient between declared valuation and total fees for zip code 2116\n",
        "correlation = df[df['zip'] == 2116]['declared_valuation'].corr(df[df['zip'] == 2116]['total_fees'])\n",
        "print(f\"Correlation coefficient between declared valuation and total fees for zip code 2116: {correlation}\")\n",
        "\n",
        "# Fit a linear regression model to predict total fees based on declared valuation for zip code 2116\n",
        "model = LinearRegression()\n",
        "X = df[df['zip'] == 2116]['declared_valuation'].values.reshape(-1, 1)\n",
        "y = df[df['zip'] == 2116]['total_fees'].values\n",
        "model.fit(X, y)\n",
        "\n",
        "# Make predictions using the linear regression model\n",
        "y_pred = model.predict(X)\n",
        "\n",
        "# Plot the data and the linear regression line\n",
        "plt.figure(figsize=(10, 6))\n",
        "plt.scatter(X, y, color='skyblue')\n",
        "plt.plot(X, y_pred, color='red', linestyle='--')\n",
        "plt.xlabel('Declared Valuation')\n",
        "plt.ylabel('Total Fees')\n",
        "plt.title('Linear Regression of Declared Valuation vs. Total Fees for Zip Code 2116')\n",
        "plt.show()\n"
      ],
      "metadata": {
        "id": "i5Mm6Psf3qqO"
      },
      "execution_count": null,
      "outputs": []
    },
    {
      "cell_type": "code",
      "source": [
        "import pandas as pd\n",
        "from sklearn.linear_model import LinearRegression\n",
        "from sklearn.metrics import mean_squared_error\n",
        "import matplotlib.pyplot as plt\n",
        "\n",
        "# Assuming df is your DataFrame\n",
        "# Convert 'zip' to numeric (float or int), use errors='coerce' to set invalid parsing as NaN\n",
        "df['zip'] = pd.to_numeric(df['zip'], errors='coerce')\n",
        "\n",
        "# Ensure 'total_fees' is numeric as well (this step might be unnecessary if it's already numeric)\n",
        "df['total_fees'] = pd.to_numeric(df['total_fees'], errors='coerce')\n",
        "\n",
        "# Drop rows with NaN values in 'zip' or 'total_fees' after conversion\n",
        "df = df.dropna(subset=['zip', 'total_fees'])\n",
        "\n",
        "# Now, calculate the correlation coefficient between zip code and total fees\n",
        "correlation = df['zip'].corr(df['total_fees'])\n",
        "print(f\"Correlation between zip code and total fees: {correlation}\")\n",
        "\n",
        "# Linear regression model can be trained as both 'zip' and 'total_fees' are numeric\n",
        "model = LinearRegression()\n",
        "model.fit(df[['zip']], df['total_fees'])  # 'zip' needs to be in a 2D array format\n",
        "predicted_fees = model.predict(df[['zip']])\n",
        "\n",
        "# Evaluate the model\n",
        "mse = mean_squared_error(df['total_fees'], predicted_fees)\n",
        "print(f\"Mean squared error: {mse}\")\n",
        "\n",
        "# Visualize the results\n",
        "plt.figure(figsize=(20, 7))\n",
        "plt.scatter(df['zip'], df['total_fees'], alpha=0.5)\n",
        "plt.plot(df['zip'], predicted_fees, color='red', linewidth=2)\n",
        "plt.xlabel('Zip Code')\n",
        "plt.ylabel('Total Fees')\n",
        "plt.title('Linear Regression of Total Fees by Zip Code')\n",
        "plt.show()\n"
      ],
      "metadata": {
        "id": "V7WxYTktyWcK"
      },
      "execution_count": null,
      "outputs": []
    },
    {
      "cell_type": "code",
      "source": [
        "df['permitnumber'].value_counts()"
      ],
      "metadata": {
        "id": "OVdS3jscO7Nv"
      },
      "execution_count": null,
      "outputs": []
    },
    {
      "cell_type": "code",
      "source": [
        "# Check the number of unique occupancytype\n",
        "\n",
        ", '', regex=False).str.replace(',', '', regex=False).astype(float)\n",
        "\n",
        "# Check the number of unique occupancy types\n",
        "unique_occupancy_types = df['occupancytype'].unique()\n",
        "num_unique_occupancy_types = len(unique_occupancy_types)\n",
        "\n",
        "# print(f\"Number of unique occupancy types: {num_unique_occupancy_types}\")\n",
        "unique_occupancy_types"
      ],
      "metadata": {
        "id": "LoSTES1uHwV8"
      },
      "execution_count": null,
      "outputs": []
    },
    {
      "cell_type": "code",
      "source": [
        "\n",
        "import matplotlib.pyplot as plt\n",
        ", '', regex=False).str.replace(',', '', regex=False).astype(float)\n",
        "\n",
        "# Count the number of permits for each occupancy type\n",
        "occupancy_type_counts = df['occupancytype'].value_counts()\n",
        "\n",
        "# Get the top 6 occupancy types by count\n",
        "top_6_occupancy_types = occupancy_type_counts.head(7)\n",
        "\n",
        "# Create a bar chart of the top 6 occupancy types\n",
        "plt.figure(figsize=(15, 8))\n",
        "sns.barplot(x=top_6_occupancy_types.index, y=top_6_occupancy_types.values)\n",
        "plt.xlabel('Occupancy Type')\n",
        "plt.ylabel('Number of Permits')\n",
        "plt.title('Number of Permits for Top 6 Occupancy Types')\n",
        "plt.xticks(rotation=45)\n",
        "plt.show()"
      ],
      "metadata": {
        "id": "CJVQiMoDf7yO"
      },
      "execution_count": null,
      "outputs": []
    },
    {
      "cell_type": "code",
      "source": [
        "# The relation between \"declared_valuation\" and \"zip\" check if a certain zip have a high declared valuation above 75th percent\n",
        "\n",
        "import matplotlib.pyplot as plt\n",
        "# Count the number of permits for each occupancy type\n",
        "occupancy_type_counts = df.groupby('occupancytype').size().sort_values(ascending=False)\n",
        "\n",
        "# Print the number of permits for each occupancy type\n",
        "print(f\"Number of permits for each occupancy type:\\n{occupancy_type_counts}\")\n",
        "\n",
        "# Create a bar chart of the number of permits for each occupancy type\n",
        "plt.figure(figsize=(50, 20))\n",
        "sns.barplot(occupancy_type_counts)\n",
        "plt.xlabel('Occupancy Type')\n",
        "plt.ylabel('Number of Permits')\n",
        "plt.title('Number of Permits for Each Occupancy Type')\n",
        "plt.show()\n",
        "\n",
        "# # Check if a certain zip have a high declared valuation above 75th percent\n",
        "# df['declared_valuation'].describe()\n",
        "# df['declared_valuation'].quantile(0.75)\n",
        "# df[df['declared_valuation'] > df['declared_valuation'].quantile(0.75)]['zip'].value_counts()\n"
      ],
      "metadata": {
        "id": "WBshBPFwNrSg"
      },
      "execution_count": null,
      "outputs": []
    },
    {
      "cell_type": "code",
      "source": [
        "df['total_fees'].describe()"
      ],
      "metadata": {
        "id": "Q6sthQHbNg-3"
      },
      "execution_count": null,
      "outputs": []
    },
    {
      "cell_type": "code",
      "source": [
        "# Generate a normal distribution based on the given data\n",
        "np.random.seed(0)  # For reproducibility\n",
        "data = np.random.normal(mean, std, int(count))\n",
        "\n",
        "# Plotting\n",
        "plt.figure(figsize=(10, 6))\n",
        "sns.histplot(data, bins=100, kde=True)\n",
        "plt.title('Normal Distribution of total_fees')\n",
        "plt.xlabel('Total Fees')\n",
        "plt.ylabel('Frequency')\n",
        "plt.grid(True)\n",
        "plt.show()"
      ],
      "metadata": {
        "id": "ARRt8bmgu-TM"
      },
      "execution_count": null,
      "outputs": []
    },
    {
      "cell_type": "code",
      "source": [
        "# The relation between \"total_fees\" and \"zip\" check if a certain zip have a high declared valuation above 75th percent\n",
        "\n",
        "df['total_fees'].quantile(0.50)\n",
        "df[df['total_fees'] > df['total_fees'].quantile(0.75)]['zip'].value_counts()\n",
        "\n",
        "# Plot the correlation between declared_valuation and zip\n",
        "plt.figure(figsize=(15, 9))\n",
        "sns.scatterplot(data=df, x='zip', y='declared_valuation')\n",
        "plt.ylabel('Declared Valuation')\n",
        "plt.xlabel('Zip Code')\n",
        "plt.title('Scatter Plot of Declared Valuation vs. Zip Code')\n",
        "plt.show()\n",
        "\n",
        "# Calculate the correlation coefficient between declared_valuation and zip\n",
        "correlation = df['declared_valuation'].corr(df['zip'])\n",
        "print(f\"Correlation between declared_valuation and zip: {correlation}\")\n",
        "\n",
        "# Check if there is a significant difference in declared_valuation for different zip codes\n",
        "anova_results = sns.anova(data=df, dv='declared_valuation', between='zip')\n",
        "print(anova_results)\n"
      ],
      "metadata": {
        "id": "_DcfV_sXM_g5"
      },
      "execution_count": null,
      "outputs": []
    },
    {
      "cell_type": "code",
      "source": [],
      "metadata": {
        "id": "qoCTTCMhwdpJ"
      },
      "execution_count": null,
      "outputs": []
    }
  ],
  "metadata": {
    "colab": {
      "provenance": [],
      "machine_shape": "hm",
      "gpuType": "V100"
    },
    "kernelspec": {
      "display_name": "Python 3",
      "name": "python3"
    },
    "language_info": {
      "name": "python"
    }
  },
  "nbformat": 4,
  "nbformat_minor": 0
}