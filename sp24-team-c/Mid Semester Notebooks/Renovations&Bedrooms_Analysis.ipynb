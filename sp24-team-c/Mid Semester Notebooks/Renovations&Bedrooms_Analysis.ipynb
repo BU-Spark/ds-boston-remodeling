{
 "cells": [
  {
   "cell_type": "markdown",
   "metadata": {},
   "source": [
    "# Analysis on Whether Renovations are Causing Bedrooms to Decrease"
   ]
  },
  {
   "cell_type": "markdown",
   "metadata": {},
   "source": [
    "Hypothesis: The assumption I have is that renovations could lead to a decrease in the number of bedrooms, possibly due to homeowners combining smaller rooms to create larger spaces or repurposing bedrooms for other uses.\n",
    "\n",
    "Data Requirements: For this analysis, I'll need:\n",
    "\n",
    "- Data on the number of bedrooms before and after renovations, we have data on bedrooms starting from 2008.\n",
    "\n",
    "- Renovation dates or periods to compare changes over time.\n",
    "Any additional information on the type of renovation could be very useful.\n",
    "\n",
    "To start i want to check the data for 2014, and 2021, 2022, 2023 and possibly 2024 to see what the data error I was getting in my notebook (Variables_in_Property_Assesment-Yearly_Analysis.ipynb) when analzing the bedroom data."
   ]
  },
  {
   "cell_type": "code",
   "execution_count": 1,
   "metadata": {},
   "outputs": [],
   "source": [
    "import pandas as pd\n",
    "import numpy as np\n",
    "import matplotlib.pyplot as plt\n",
    "import matplotlib.ticker as ticker\n"
   ]
  },
  {
   "cell_type": "markdown",
   "metadata": {},
   "source": [
    "While pulling the data I thought I should also pull columns relating to the renovations.\n",
    "\n",
    "Relevant Columns for Analysis:\n",
    "\n",
    "**YR_REMODEL**: Year the property was last remodeled. This column is critical for identifying properties that have undergone renovations.\n",
    "\n",
    "**RES_UNITS**: Number of residential units in a condominium building, which might also be useful if renovations affected the division of units.\n",
    "\n",
    "// For later\n",
    "\n",
    "**Location**: Might help with creating a heatmap/location hot spots of where renovations are affecting bedrooms - further analysis on this where we map areas to neighbhood demographics may correlate with areas that are being gentrified."
   ]
  },
  {
   "cell_type": "code",
   "execution_count": 2,
   "metadata": {},
   "outputs": [
    {
     "name": "stderr",
     "output_type": "stream",
     "text": [
      "/var/folders/d0/35z98j6s1_s8v_lhkt9b2wcw0000gn/T/ipykernel_28411/2948151279.py:1: DtypeWarning: Columns (7,14) have mixed types. Specify dtype option on import or set low_memory=False.\n",
      "  pa_2008 = pd.read_csv('../data/property_assessment_2008.csv')[['PID','LU', 'FY2008_TOTAL', 'GROSS_AREA', 'LIVING_AREA', 'R_BDRMS', 'YR_REMOD', 'S_UNIT_RES']]\n",
      "/var/folders/d0/35z98j6s1_s8v_lhkt9b2wcw0000gn/T/ipykernel_28411/2948151279.py:4: DtypeWarning: Columns (14) have mixed types. Specify dtype option on import or set low_memory=False.\n",
      "  pa_2009 = pd.read_csv('../data/property_assessment_2009.csv')[['PID','LU', 'AV_TOTAL', 'GROSS_AREA', 'LIVING_AREA', 'R_BDRMS', 'YR_REMOD', 'S_UNIT_RES']]\n",
      "/var/folders/d0/35z98j6s1_s8v_lhkt9b2wcw0000gn/T/ipykernel_28411/2948151279.py:7: DtypeWarning: Columns (14) have mixed types. Specify dtype option on import or set low_memory=False.\n",
      "  pa_2010 = pd.read_csv('../data/property_assessment_2010.csv')[['PID','LU', 'AV_TOTAL', 'GROSS_AREA', 'LIVING_AREA', 'R_BDRMS', 'YR_REMOD', 'S_UNIT_RES']]\n",
      "/var/folders/d0/35z98j6s1_s8v_lhkt9b2wcw0000gn/T/ipykernel_28411/2948151279.py:8: DtypeWarning: Columns (14,26,27,28,34,35,38,42,45,46,49,50,51,52,53) have mixed types. Specify dtype option on import or set low_memory=False.\n",
      "  pa_2011 = pd.read_csv('../data/property_assessment_2011.csv')[['PID','LU', 'AV_TOTAL', 'GROSS_AREA', 'LIVING_AREA', 'R_BDRMS', 'YR_REMOD', 'S_UNIT_RES']]\n",
      "/var/folders/d0/35z98j6s1_s8v_lhkt9b2wcw0000gn/T/ipykernel_28411/2948151279.py:9: DtypeWarning: Columns (14,43,47,50) have mixed types. Specify dtype option on import or set low_memory=False.\n",
      "  pa_2012 = pd.read_csv('../data/property_assessment_2012.csv')[['PID','LU', 'AV_TOTAL', 'GROSS_AREA', 'LIVING_AREA', 'R_BDRMS', 'YR_REMOD', 'S_UNIT_RES']]\n",
      "/var/folders/d0/35z98j6s1_s8v_lhkt9b2wcw0000gn/T/ipykernel_28411/2948151279.py:10: DtypeWarning: Columns (14,47,50) have mixed types. Specify dtype option on import or set low_memory=False.\n",
      "  pa_2013 = pd.read_csv('../data/property_assessment_2013.csv')[['PID','LU', 'AV_TOTAL', 'GROSS_AREA', 'LIVING_AREA', 'R_BDRMS', 'YR_REMOD', 'S_UNIT_RES']]\n",
      "/var/folders/d0/35z98j6s1_s8v_lhkt9b2wcw0000gn/T/ipykernel_28411/2948151279.py:12: DtypeWarning: Columns (15,46,53,55) have mixed types. Specify dtype option on import or set low_memory=False.\n",
      "  pa_2014 = pd.read_csv('../data/property-assessment-fy2014.csv')[['Parcel_ID','LU', 'AV_TOTAL', 'GROSS_AREA', 'LIVING_AREA', 'R_BDRMS', 'YR_REMOD', 'S_UNIT_RES']]\n",
      "/var/folders/d0/35z98j6s1_s8v_lhkt9b2wcw0000gn/T/ipykernel_28411/2948151279.py:16: DtypeWarning: Columns (61,64) have mixed types. Specify dtype option on import or set low_memory=False.\n",
      "  pa_2016 = pd.read_csv('../data/property_assessment_2016.csv')[['PID','LU', 'AV_TOTAL', 'GROSS_AREA', 'LIVING_AREA', 'R_BDRMS', 'YR_REMOD', 'S_UNIT_RES']]\n",
      "/var/folders/d0/35z98j6s1_s8v_lhkt9b2wcw0000gn/T/ipykernel_28411/2948151279.py:17: DtypeWarning: Columns (61,64) have mixed types. Specify dtype option on import or set low_memory=False.\n",
      "  pa_2017 = pd.read_csv('../data/property_assessment_2017.csv')[['PID','LU', 'AV_TOTAL', 'GROSS_AREA', 'LIVING_AREA', 'R_BDRMS', 'YR_REMOD', 'S_UNIT_RES']]\n",
      "/var/folders/d0/35z98j6s1_s8v_lhkt9b2wcw0000gn/T/ipykernel_28411/2948151279.py:18: DtypeWarning: Columns (16,61,64) have mixed types. Specify dtype option on import or set low_memory=False.\n",
      "  pa_2018 = pd.read_csv('../data/property_assessment_2018.csv')[['PID','LU', 'AV_TOTAL', 'GROSS_AREA', 'LIVING_AREA', 'R_BDRMS', 'YR_REMOD', 'S_UNIT_RES']]\n",
      "/var/folders/d0/35z98j6s1_s8v_lhkt9b2wcw0000gn/T/ipykernel_28411/2948151279.py:19: DtypeWarning: Columns (16,61) have mixed types. Specify dtype option on import or set low_memory=False.\n",
      "  pa_2019 = pd.read_csv('../data/property_assessment_2019.csv')[['PID','LU', 'AV_TOTAL', 'GROSS_AREA', 'LIVING_AREA', 'R_BDRMS', 'YR_REMOD', 'S_UNIT_RES']]\n",
      "/var/folders/d0/35z98j6s1_s8v_lhkt9b2wcw0000gn/T/ipykernel_28411/2948151279.py:20: DtypeWarning: Columns (7,16,28,29,30,35,36,37,38,39,40,41,42,43,45,46,47,48,49,59,60,65,66,67,68,69,70,71,73,74,75) have mixed types. Specify dtype option on import or set low_memory=False.\n",
      "  pa_2020 = pd.read_csv('../data/property_assessment_2020.csv')[['PID','LU', 'AV_TOTAL', 'GROSS_AREA', 'LIVING_AREA', 'R_BDRMS', 'YR_REMOD', 'S_UNIT_RES']]\n",
      "/var/folders/d0/35z98j6s1_s8v_lhkt9b2wcw0000gn/T/ipykernel_28411/2948151279.py:27: DtypeWarning: Columns (21) have mixed types. Specify dtype option on import or set low_memory=False.\n",
      "  pa_2024 = pd.read_csv('../data/property_assessment_2024.csv')[['PID','LU', 'TOTAL_VALUE', 'GROSS_AREA', 'LIVING_AREA', 'BED_RMS', 'YR_REMODEL', 'RES_UNITS']]\n"
     ]
    }
   ],
   "source": [
    "pa_2008 = pd.read_csv('../data/property_assessment_2008.csv')[['PID','LU', 'FY2008_TOTAL', 'GROSS_AREA', 'LIVING_AREA', 'R_BDRMS', 'YR_REMOD', 'S_UNIT_RES']] \n",
    "# R_BDRMS = bedrooms, S_UNIT_RES' = residential units\n",
    "\n",
    "pa_2009 = pd.read_csv('../data/property_assessment_2009.csv')[['PID','LU', 'AV_TOTAL', 'GROSS_AREA', 'LIVING_AREA', 'R_BDRMS', 'YR_REMOD', 'S_UNIT_RES']] \n",
    "# AV_TOTAL is now the total value of property\n",
    "\n",
    "pa_2010 = pd.read_csv('../data/property_assessment_2010.csv')[['PID','LU', 'AV_TOTAL', 'GROSS_AREA', 'LIVING_AREA', 'R_BDRMS', 'YR_REMOD', 'S_UNIT_RES']] \n",
    "pa_2011 = pd.read_csv('../data/property_assessment_2011.csv')[['PID','LU', 'AV_TOTAL', 'GROSS_AREA', 'LIVING_AREA', 'R_BDRMS', 'YR_REMOD', 'S_UNIT_RES']] \n",
    "pa_2012 = pd.read_csv('../data/property_assessment_2012.csv')[['PID','LU', 'AV_TOTAL', 'GROSS_AREA', 'LIVING_AREA', 'R_BDRMS', 'YR_REMOD', 'S_UNIT_RES']] \n",
    "pa_2013 = pd.read_csv('../data/property_assessment_2013.csv')[['PID','LU', 'AV_TOTAL', 'GROSS_AREA', 'LIVING_AREA', 'R_BDRMS', 'YR_REMOD', 'S_UNIT_RES']] \n",
    "\n",
    "pa_2014 = pd.read_csv('../data/property-assessment-fy2014.csv')[['Parcel_ID','LU', 'AV_TOTAL', 'GROSS_AREA', 'LIVING_AREA', 'R_BDRMS', 'YR_REMOD', 'S_UNIT_RES']] \n",
    "\n",
    "\n",
    "pa_2015 = pd.read_csv('../data/property_assessment_2015.csv')[['PID','LU', 'AV_TOTAL', 'GROSS_AREA', 'LIVING_AREA', 'R_BDRMS', 'YR_REMOD', 'S_UNIT_RES']] \n",
    "pa_2016 = pd.read_csv('../data/property_assessment_2016.csv')[['PID','LU', 'AV_TOTAL', 'GROSS_AREA', 'LIVING_AREA', 'R_BDRMS', 'YR_REMOD', 'S_UNIT_RES']] \n",
    "pa_2017 = pd.read_csv('../data/property_assessment_2017.csv')[['PID','LU', 'AV_TOTAL', 'GROSS_AREA', 'LIVING_AREA', 'R_BDRMS', 'YR_REMOD', 'S_UNIT_RES']] \n",
    "pa_2018 = pd.read_csv('../data/property_assessment_2018.csv')[['PID','LU', 'AV_TOTAL', 'GROSS_AREA', 'LIVING_AREA', 'R_BDRMS', 'YR_REMOD', 'S_UNIT_RES']] \n",
    "pa_2019 = pd.read_csv('../data/property_assessment_2019.csv')[['PID','LU', 'AV_TOTAL', 'GROSS_AREA', 'LIVING_AREA', 'R_BDRMS', 'YR_REMOD', 'S_UNIT_RES']] \n",
    "pa_2020 = pd.read_csv('../data/property_assessment_2020.csv')[['PID','LU', 'AV_TOTAL', 'GROSS_AREA', 'LIVING_AREA', 'R_BDRMS', 'YR_REMOD', 'S_UNIT_RES']] \n",
    "\n",
    "pa_2021 = pd.read_csv('../data/property_assessment_2021.csv')[['PID','LU', 'TOTAL_VALUE', 'GROSS_AREA', 'LIVING_AREA', 'BED_RMS', 'YR_REMODEL', 'RES_UNITS']] \n",
    "# AV_Total is now TOTAL_VALUE, R_BDRMS is now BED_RMS\n",
    "\n",
    "pa_2022 = pd.read_csv('../data/property_assessment_2022.csv')[['PID','LU', 'TOTAL_VALUE', 'GROSS_AREA', 'LIVING_AREA', 'BED_RMS', 'YR_REMODEL', 'RES_UNITS']]\n",
    "pa_2023 = pd.read_csv('../data/property_assessment_2023.csv')[['PID','LU', 'TOTAL_VALUE', 'GROSS_AREA', 'LIVING_AREA', 'BED_RMS', 'YR_REMODEL', 'RES_UNITS']]\n",
    "pa_2024 = pd.read_csv('../data/property_assessment_2024.csv')[['PID','LU', 'TOTAL_VALUE', 'GROSS_AREA', 'LIVING_AREA', 'BED_RMS', 'YR_REMODEL', 'RES_UNITS']]"
   ]
  },
  {
   "cell_type": "code",
   "execution_count": 3,
   "metadata": {},
   "outputs": [
    {
     "name": "stdout",
     "output_type": "stream",
     "text": [
      "           PID  LU  AV_TOTAL  GROSS_AREA  LIVING_AREA  R_BDRMS  YR_REMOD  \\\n",
      "0  0100001000_  R3    419900      3353.0       2202.0      6.0       NaN   \n",
      "1  0100002000_  R3    462500      3299.0       2307.0      3.0    2000.0   \n",
      "2  0100003000_  R3    421000      3392.0       2268.0      5.0    1985.0   \n",
      "3  0100004000_  R3    402200      3108.0       2028.0      5.0    1991.0   \n",
      "4  0100005000_  R2    421200      3700.0       2546.0      6.0    1978.0   \n",
      "5  0100006000_  R3    493900      6278.0       4362.0      9.0       0.0   \n",
      "6  0100007000_  R3    531600      6432.0       4296.0      8.0    2009.0   \n",
      "7  0100008000_  R3    546000      6048.0       4080.0     11.0       0.0   \n",
      "8  0100009000_  R3    418600      4357.0       2937.0      5.0    1998.0   \n",
      "9  0401750010_  CD    331300       529.0        529.0      NaN    1984.0   \n",
      "\n",
      "   S_UNIT_RES  \n",
      "0         NaN  \n",
      "1         NaN  \n",
      "2         NaN  \n",
      "3         NaN  \n",
      "4         NaN  \n",
      "5         NaN  \n",
      "6         NaN  \n",
      "7         NaN  \n",
      "8         NaN  \n",
      "9         NaN  \n"
     ]
    }
   ],
   "source": [
    "print(pa_2017.head(10))"
   ]
  },
  {
   "cell_type": "markdown",
   "metadata": {},
   "source": [
    "To start lets filter the data based on land usage codes and check the bedroom plot again to see if we get similar results."
   ]
  },
  {
   "cell_type": "markdown",
   "metadata": {},
   "source": [
    "### Land Usage Code Key\n",
    "\n",
    "| Code | Type |\n",
    "|------|-----------|\n",
    "| A    | Residental (7 or more Units) |\n",
    "| AH   | Agricultural/Horticultural |\n",
    "| C    | Commercial |\n",
    "| CC   | Commercial Condominium |\n",
    "| CD   | Residental Condominium Unit | \n",
    "| CL   | Commercial Land | \n",
    "| CM   | Condomonium Building (excluding units) |\n",
    "| CP   | Condomonium Parking | \n",
    "| E    | Tax Exempt |\n",
    "| EA   | Tax Exempt (121A) |\n",
    "| I    | Industrial |\n",
    "| R1   | Residental One-Family Home |\n",
    "| R2   | Residental Two-Family Home |\n",
    "| R3   | Residental Three-Family Home |\n",
    "| R4   | Residental Four-Family Home |\n",
    "| RC   | Mixed Use (Residental and Commercial) |"
   ]
  },
  {
   "cell_type": "code",
   "execution_count": 4,
   "metadata": {},
   "outputs": [],
   "source": [
    "# Store the DataFrames in a dictionary for easier access\n",
    "pa_data = {\n",
    "    2008: pa_2008,\n",
    "    2009: pa_2009,\n",
    "    2010: pa_2010,\n",
    "    2011: pa_2011,\n",
    "    2012: pa_2012,\n",
    "    2013: pa_2013,\n",
    "    2014: pa_2014,\n",
    "    2015: pa_2015,\n",
    "    2016: pa_2016,\n",
    "    2017: pa_2017,\n",
    "    2018: pa_2018,\n",
    "    2019: pa_2019,\n",
    "    2020: pa_2020,\n",
    "    2021: pa_2021,\n",
    "    2022: pa_2022,\n",
    "    2023: pa_2023,\n",
    "    2024: pa_2024,\n",
    "}\n",
    "\n",
    "LU_filtered_pa_data = {}\n",
    "\n",
    "residential_codes = ['R1', 'R2', 'R3', 'RC', 'R4', 'A', 'CD']\n",
    "\n",
    "# Loop through each year's DataFrame and filter it\n",
    "for year, df in pa_data.items():\n",
    "    LU_filtered_pa_data[year] = df[df['LU'].isin(residential_codes)]"
   ]
  },
  {
   "cell_type": "markdown",
   "metadata": {},
   "source": [
    "Lets check for null values."
   ]
  },
  {
   "cell_type": "code",
   "execution_count": 5,
   "metadata": {},
   "outputs": [
    {
     "name": "stdout",
     "output_type": "stream",
     "text": [
      "\n",
      "Dataset:2008\n",
      "\n",
      "Number of null values in each column:\n",
      " PID                  0\n",
      "LU                   0\n",
      "FY2008_TOTAL         0\n",
      "GROSS_AREA         148\n",
      "LIVING_AREA        148\n",
      "R_BDRMS          60004\n",
      "YR_REMOD          8722\n",
      "S_UNIT_RES      122877\n",
      "dtype: int64\n",
      "\n",
      "Dataset:2009\n",
      "\n",
      "Number of null values in each column:\n",
      " PID                 0\n",
      "LU                  0\n",
      "AV_TOTAL            0\n",
      "GROSS_AREA        150\n",
      "LIVING_AREA       150\n",
      "R_BDRMS         62256\n",
      "YR_REMOD        10181\n",
      "S_UNIT_RES     123688\n",
      "dtype: int64\n",
      "\n",
      "Dataset:2010\n",
      "\n",
      "Number of null values in each column:\n",
      " PID                 0\n",
      "LU                  0\n",
      "AV_TOTAL            0\n",
      "GROSS_AREA        143\n",
      "LIVING_AREA       143\n",
      "R_BDRMS         63868\n",
      "YR_REMOD        10859\n",
      "S_UNIT_RES     125120\n",
      "dtype: int64\n",
      "\n",
      "Dataset:2011\n",
      "\n",
      "Number of null values in each column:\n",
      " PID                 0\n",
      "LU                  0\n",
      "AV_TOTAL            0\n",
      "GROSS_AREA        139\n",
      "LIVING_AREA       139\n",
      "R_BDRMS         64834\n",
      "YR_REMOD        11449\n",
      "S_UNIT_RES     127170\n",
      "dtype: int64\n",
      "\n",
      "Dataset:2012\n",
      "\n",
      "Number of null values in each column:\n",
      " PID                 0\n",
      "LU                  0\n",
      "AV_TOTAL            0\n",
      "GROSS_AREA        181\n",
      "LIVING_AREA       181\n",
      "R_BDRMS         65986\n",
      "YR_REMOD        12094\n",
      "S_UNIT_RES     128421\n",
      "dtype: int64\n",
      "\n",
      "Dataset:2013\n",
      "\n",
      "Number of null values in each column:\n",
      " PID                 0\n",
      "LU                  0\n",
      "AV_TOTAL            0\n",
      "GROSS_AREA        197\n",
      "LIVING_AREA       197\n",
      "R_BDRMS         66471\n",
      "YR_REMOD        12419\n",
      "S_UNIT_RES     128882\n",
      "dtype: int64\n",
      "\n",
      "Dataset:2014\n",
      "\n",
      "Number of null values in each column:\n",
      " Parcel_ID        0\n",
      "LU               0\n",
      "AV_TOTAL         0\n",
      "GROSS_AREA     194\n",
      "LIVING_AREA    194\n",
      "R_BDRMS          0\n",
      "YR_REMOD         0\n",
      "S_UNIT_RES       2\n",
      "dtype: int64\n",
      "\n",
      "Dataset:2015\n",
      "\n",
      "Number of null values in each column:\n",
      " PID                 0\n",
      "LU                  0\n",
      "AV_TOTAL            0\n",
      "GROSS_AREA        190\n",
      "LIVING_AREA       189\n",
      "R_BDRMS         67802\n",
      "YR_REMOD        12969\n",
      "S_UNIT_RES     130344\n",
      "dtype: int64\n",
      "\n",
      "Dataset:2016\n",
      "\n",
      "Number of null values in each column:\n",
      " PID                 0\n",
      "LU                  0\n",
      "AV_TOTAL            0\n",
      "GROSS_AREA        145\n",
      "LIVING_AREA       145\n",
      "R_BDRMS         68353\n",
      "YR_REMOD        13105\n",
      "S_UNIT_RES     130693\n",
      "dtype: int64\n",
      "\n",
      "Dataset:2017\n",
      "\n",
      "Number of null values in each column:\n",
      " PID                 0\n",
      "LU                  0\n",
      "AV_TOTAL            0\n",
      "GROSS_AREA        147\n",
      "LIVING_AREA       147\n",
      "R_BDRMS         69360\n",
      "YR_REMOD        13940\n",
      "S_UNIT_RES     131628\n",
      "dtype: int64\n",
      "\n",
      "Dataset:2018\n",
      "\n",
      "Number of null values in each column:\n",
      " PID                 0\n",
      "LU                  0\n",
      "AV_TOTAL            0\n",
      "GROSS_AREA        145\n",
      "LIVING_AREA       145\n",
      "R_BDRMS         70814\n",
      "YR_REMOD        15258\n",
      "S_UNIT_RES     132946\n",
      "dtype: int64\n",
      "\n",
      "Dataset:2019\n",
      "\n",
      "Number of null values in each column:\n",
      " PID                 0\n",
      "LU                  0\n",
      "AV_TOTAL            0\n",
      "GROSS_AREA        141\n",
      "LIVING_AREA       141\n",
      "R_BDRMS         72268\n",
      "YR_REMOD        15387\n",
      "S_UNIT_RES     134243\n",
      "dtype: int64\n",
      "\n",
      "Dataset:2020\n",
      "\n",
      "Number of null values in each column:\n",
      " PID                 0\n",
      "LU                  0\n",
      "AV_TOTAL            0\n",
      "GROSS_AREA        441\n",
      "LIVING_AREA       441\n",
      "R_BDRMS         73935\n",
      "YR_REMOD        59703\n",
      "S_UNIT_RES     135275\n",
      "dtype: int64\n",
      "\n",
      "Dataset:2021\n",
      "\n",
      "Number of null values in each column:\n",
      " PID                0\n",
      "LU                 0\n",
      "TOTAL_VALUE      176\n",
      "GROSS_AREA       449\n",
      "LIVING_AREA      454\n",
      "BED_RMS        10916\n",
      "YR_REMODEL     62491\n",
      "RES_UNITS      71080\n",
      "dtype: int64\n",
      "\n",
      "Dataset:2022\n",
      "\n",
      "Number of null values in each column:\n",
      " PID                0\n",
      "LU                 0\n",
      "TOTAL_VALUE      176\n",
      "GROSS_AREA       460\n",
      "LIVING_AREA      460\n",
      "BED_RMS            0\n",
      "YR_REMODEL     59674\n",
      "RES_UNITS          0\n",
      "dtype: int64\n",
      "\n",
      "Dataset:2023\n",
      "\n",
      "Number of null values in each column:\n",
      " PID                 0\n",
      "LU                  0\n",
      "TOTAL_VALUE         0\n",
      "GROSS_AREA        862\n",
      "LIVING_AREA       870\n",
      "BED_RMS          8107\n",
      "YR_REMODEL      59748\n",
      "RES_UNITS      139988\n",
      "dtype: int64\n",
      "\n",
      "Dataset:2024\n",
      "\n",
      "Number of null values in each column:\n",
      " PID                 0\n",
      "LU                  0\n",
      "TOTAL_VALUE         0\n",
      "GROSS_AREA        866\n",
      "LIVING_AREA       871\n",
      "BED_RMS          8102\n",
      "YR_REMODEL      59648\n",
      "RES_UNITS      141106\n",
      "dtype: int64\n"
     ]
    }
   ],
   "source": [
    "for year, dataset in LU_filtered_pa_data.items():\n",
    "    \n",
    "    print(\"\")\n",
    "    print(\"Dataset:\"+str(year))\n",
    "    print(\"\")\n",
    "    null_counts = dataset.isnull().sum()\n",
    "    print(\"Number of null values in each column:\\n\", null_counts)"
   ]
  },
  {
   "cell_type": "markdown",
   "metadata": {},
   "source": [
    "Given the substantial number of null values in several columns across the datasets, particularly in columns like R_BDRMS, YR_REMOD, and S_UNIT_RES, dropping all rows with nulls might lead to significant data loss, which could affect the analysis."
   ]
  },
  {
   "cell_type": "markdown",
   "metadata": {},
   "source": [
    "## Bedroom Analysis - pt.2"
   ]
  },
  {
   "cell_type": "markdown",
   "metadata": {},
   "source": [
    "However for starters i want to see how the average bedrooms have changed over the years so for this case lets drop the rows without bedrooms as they wont contribute anyway."
   ]
  },
  {
   "cell_type": "code",
   "execution_count": 6,
   "metadata": {},
   "outputs": [
    {
     "name": "stdout",
     "output_type": "stream",
     "text": [
      "Year 2008: Average Bedrooms = 4.60\n",
      "Year 2009: Average Bedrooms = 4.60\n",
      "Year 2010: Average Bedrooms = 4.61\n",
      "Year 2011: Average Bedrooms = 4.60\n",
      "Year 2012: Average Bedrooms = 4.60\n",
      "Year 2013: Average Bedrooms = 4.61\n",
      "Year 2014: Average Bedrooms = 1.77\n",
      "Year 2015: Average Bedrooms = 4.63\n",
      "Year 2016: Average Bedrooms = 4.64\n",
      "Year 2017: Average Bedrooms = 4.65\n",
      "Year 2018: Average Bedrooms = 4.66\n",
      "Year 2019: Average Bedrooms = 4.68\n",
      "Year 2020: Average Bedrooms = 4.67\n",
      "Year 2021: Average Bedrooms = 3.25\n",
      "Year 2022: Average Bedrooms = 2.34\n",
      "Year 2023: Average Bedrooms = 3.16\n",
      "Year 2024: Average Bedrooms = 3.15\n"
     ]
    }
   ],
   "source": [
    "\n",
    "average_bedrooms_per_year = {}\n",
    "filtered_bedroom_dfs = {}\n",
    "years_where_bedrooms_name_changed = [2021, 2022, 2023, 2024]\n",
    "\n",
    "for year, df in pa_data.items():\n",
    "    if year in years_where_bedrooms_name_changed:\n",
    "\n",
    "        # Drop rows where 'R_BDRMS' is NaN\n",
    "        df_filtered = df.dropna(subset=['BED_RMS'])\n",
    "        filtered_bedroom_dfs[year] = df_filtered\n",
    "        # Calculate the mean of 'R_BDRMS'\n",
    "        average_bedrooms = df_filtered['BED_RMS'].mean()\n",
    "        # Store the average in the dictionary\n",
    "        average_bedrooms_per_year[year] = average_bedrooms\n",
    "    else:\n",
    "        # Drop rows where 'R_BDRMS' is NaN\n",
    "        df_filtered = df.dropna(subset=['R_BDRMS'])\n",
    "        filtered_bedroom_dfs[year] = df_filtered\n",
    "        # Calculate the mean of 'R_BDRMS'\n",
    "        average_bedrooms = df_filtered['R_BDRMS'].mean()\n",
    "        # Store the average in the dictionary\n",
    "        average_bedrooms_per_year[year] = average_bedrooms\n",
    "\n",
    "# Print the results\n",
    "for year, avg in average_bedrooms_per_year.items():\n",
    "    print(f\"Year {year}: Average Bedrooms = {avg:.2f}\")"
   ]
  },
  {
   "cell_type": "code",
   "execution_count": 7,
   "metadata": {},
   "outputs": [
    {
     "data": {
      "image/png": "[encoded data removed]",
      "text/plain": [
       "<Figure size 1000x600 with 1 Axes>"
      ]
     },
     "metadata": {},
     "output_type": "display_data"
    }
   ],
   "source": [
    "years = list(average_bedrooms_per_year.keys())\n",
    "average_bedrooms = list(average_bedrooms_per_year.values())\n",
    "\n",
    "plt.figure(figsize=(10, 6))\n",
    "plt.plot(years, average_bedrooms, marker='o')\n",
    "plt.title('Average Number of Bedrooms Per Year')\n",
    "plt.xlabel('Year')\n",
    "plt.ylabel('Average Bedrooms')\n",
    "plt.grid(True)\n",
    "plt.xticks(years, rotation=45)  # Rotate years for better readability\n",
    "plt.tight_layout()\n",
    "plt.show()"
   ]
  },
  {
   "cell_type": "markdown",
   "metadata": {},
   "source": [
    "Took a look at the 2014 and 2022 data and saw that instead of rows being filled with null values they have been filled with zeroes, so lets modify that to drop rows with zero."
   ]
  },
  {
   "cell_type": "code",
   "execution_count": 8,
   "metadata": {},
   "outputs": [],
   "source": [
    "data_2014 = pa_data[2014]\n",
    "data_2022 = pa_data[2022]\n",
    "\n",
    "# Drop rows where 'R_BDRMS' is NaN\n",
    "data_2014_filtered = data_2014.dropna(subset=['R_BDRMS'])\n",
    "data_2022_filtered = data_2022.dropna(subset=['BED_RMS'])\n",
    "\n",
    "# Drop rows where 'R_BDRMS' is 0\n",
    "data_2014_filtered_no_zeroes = data_2014_filtered[data_2014_filtered['R_BDRMS'] != 0]\n",
    "data_2022_filtered_no_zeroes = data_2022_filtered[data_2022_filtered['BED_RMS'] != 0]\n",
    "\n",
    "# Calculate the mean of 'R_BDRMS'\n",
    "average_bedrooms = data_2014_filtered_no_zeroes['R_BDRMS'].mean()\n",
    "average_bedrooms2 = data_2022_filtered_no_zeroes['BED_RMS'].mean()\n",
    "\n",
    "# Store the average in the dictionary\n",
    "average_bedrooms_per_year[2014] = average_bedrooms\n",
    "average_bedrooms_per_year[2022] = average_bedrooms2\n",
    "\n",
    "# Store DF in dictionary\n",
    "filtered_bedroom_dfs[2014] = data_2014_filtered_no_zeroes\n",
    "filtered_bedroom_dfs[2022] = data_2022_filtered_no_zeroes"
   ]
  },
  {
   "cell_type": "code",
   "execution_count": 9,
   "metadata": {},
   "outputs": [
    {
     "data": {
      "image/png": "[encoded data removed]",
      "text/plain": [
       "<Figure size 1000x600 with 1 Axes>"
      ]
     },
     "metadata": {},
     "output_type": "display_data"
    }
   ],
   "source": [
    "years = list(average_bedrooms_per_year.keys())\n",
    "average_bedrooms = list(average_bedrooms_per_year.values())\n",
    "\n",
    "plt.figure(figsize=(10, 6))\n",
    "plt.plot(years, average_bedrooms, marker='o')\n",
    "plt.title('Average Number of Bedrooms Per Year')\n",
    "plt.xlabel('Year')\n",
    "plt.ylabel('Average Bedrooms')\n",
    "plt.grid(True)\n",
    "plt.xticks(years, rotation=45)  # Rotate years for better readability\n",
    "plt.tight_layout()\n",
    "plt.show()"
   ]
  },
  {
   "cell_type": "markdown",
   "metadata": {},
   "source": [
    "From this we can see a clear decrease in the average number of bedrooms across boston. Now i want to collate all pids that we can so we can see if this decrease is due to renovations."
   ]
  },
  {
   "cell_type": "markdown",
   "metadata": {},
   "source": [
    "## Renovations Analysis"
   ]
  },
  {
   "cell_type": "markdown",
   "metadata": {},
   "source": [
    "Heres the game plan: \n",
    "\n",
    "\n",
    "1. First lets group properties by pid across the years in the dataset.\n",
    "\n",
    "2. Once done, check if a property has been remodeled in the range of the years we have, so from 2008 to 2024. If it has, then in a separate dataset, store the year before it was renovated, and the year after it was renovated or 2024 if its the last year.\n",
    "\n",
    "3. Then I want to create a visualization showing how many units lost bedrooms/area if they were renovated and how many didnt. Can also calculate averages.\n",
    "\n"
   ]
  },
  {
   "cell_type": "markdown",
   "metadata": {},
   "source": [
    "### Step 1 - Group the data"
   ]
  },
  {
   "cell_type": "markdown",
   "metadata": {},
   "source": [
    "Lets start by collating all the data."
   ]
  },
  {
   "cell_type": "code",
   "execution_count": 10,
   "metadata": {},
   "outputs": [],
   "source": [
    "# Create a list to store the modified DataFrames for each year\n",
    "bedroom_data_with_years = []\n",
    "\n",
    "# Iterate over each year and add a 'DATA_YEAR' column to the corresponding DataFrame\n",
    "for year in range(2008, 2025):\n",
    "    df = filtered_bedroom_dfs[year].copy()\n",
    "    df['DATA_YEAR'] = year\n",
    "    bedroom_data_with_years.append(df)\n",
    "\n",
    "# Concatenate the modified DataFrames\n",
    "all_years_filtered_bedroom_data = pd.concat(bedroom_data_with_years, ignore_index=True)\n"
   ]
  },
  {
   "cell_type": "code",
   "execution_count": 11,
   "metadata": {},
   "outputs": [
    {
     "name": "stdout",
     "output_type": "stream",
     "text": [
      "         PID  LU  FY2008_TOTAL  GROSS_AREA  LIVING_AREA  R_BDRMS  YR_REMOD  \\\n",
      "0  100001000  R3      365200.0      3353.0       2202.0      6.0       NaN   \n",
      "1  100002000  R3      432100.0      3323.0       2307.0      3.0    2000.0   \n",
      "2  100003000  R3      394200.0      3392.0       2268.0      5.0    1985.0   \n",
      "3  100004000  R3      407000.0      3108.0       2028.0      5.0    1991.0   \n",
      "4  100005000  R2      352800.0      3700.0       2546.0      6.0    1978.0   \n",
      "\n",
      "   S_UNIT_RES  DATA_YEAR  AV_TOTAL Parcel_ID TOTAL_VALUE  BED_RMS  YR_REMODEL  \\\n",
      "0         NaN       2008       NaN       NaN         NaN      NaN         NaN   \n",
      "1         NaN       2008       NaN       NaN         NaN      NaN         NaN   \n",
      "2         NaN       2008       NaN       NaN         NaN      NaN         NaN   \n",
      "3         NaN       2008       NaN       NaN         NaN      NaN         NaN   \n",
      "4         NaN       2008       NaN       NaN         NaN      NaN         NaN   \n",
      "\n",
      "   RES_UNITS  \n",
      "0        NaN  \n",
      "1        NaN  \n",
      "2        NaN  \n",
      "3        NaN  \n",
      "4        NaN  \n"
     ]
    }
   ],
   "source": [
    "print(all_years_filtered_bedroom_data.head())"
   ]
  },
  {
   "cell_type": "code",
   "execution_count": 12,
   "metadata": {},
   "outputs": [
    {
     "name": "stdout",
     "output_type": "stream",
     "text": [
      "                PID  DATA_YEAR  YR_REMOD  YR_REMODEL  R_BDRMS  BED_RMS  \\\n",
      "0         100001000       2008       NaN         NaN      6.0      NaN   \n",
      "63108     100001000       2009       NaN         NaN      6.0      NaN   \n",
      "126470    100001000       2010       NaN         NaN      6.0      NaN   \n",
      "230782    100001000       2011       NaN         NaN      6.0      NaN   \n",
      "252129    100001000       2012       NaN         NaN      6.0      NaN   \n",
      "...             ...        ...       ...         ...      ...      ...   \n",
      "553363  2205664000_       2016       0.0         NaN      5.0      NaN   \n",
      "629199  2205664000_       2017       0.0         NaN      5.0      NaN   \n",
      "459301  2205668000_       2015    1990.0         NaN      6.0      NaN   \n",
      "553364  2205668000_       2016    1990.0         NaN      6.0      NaN   \n",
      "629200  2205668000_       2017    1990.0         NaN      6.0      NaN   \n",
      "\n",
      "        LIVING_AREA  \n",
      "0            2202.0  \n",
      "63108        2202.0  \n",
      "126470       2202.0  \n",
      "230782       2202.0  \n",
      "252129       2202.0  \n",
      "...             ...  \n",
      "553363       2952.0  \n",
      "629199       2952.0  \n",
      "459301       2834.0  \n",
      "553364       2834.0  \n",
      "629200       2834.0  \n",
      "\n",
      "[783551 rows x 7 columns]\n"
     ]
    }
   ],
   "source": [
    "\n",
    "\n",
    "# Select only the necessary columns before grouping\n",
    "columns_to_keep = ['PID', 'DATA_YEAR', 'YR_REMOD', 'YR_REMODEL', 'R_BDRMS', 'BED_RMS', 'LIVING_AREA']\n",
    "all_years_filtered_bedroom_data = all_years_filtered_bedroom_data[columns_to_keep]\n",
    "\n",
    "# Group the data by PID\n",
    "sorted_by_pid = all_years_filtered_bedroom_data.sort_values(by=['PID', 'DATA_YEAR'])\n",
    "grouped_bedroom_data = sorted_by_pid.groupby('PID')\n",
    "print(grouped_bedroom_data.head())\n"
   ]
  },
  {
   "cell_type": "code",
   "execution_count": 13,
   "metadata": {},
   "outputs": [
    {
     "name": "stdout",
     "output_type": "stream",
     "text": [
      "                PID  DATA_YEAR  YR_REMOD  YR_REMODEL  R_BDRMS  BED_RMS  \\\n",
      "0         100001000       2008       NaN         NaN      6.0      NaN   \n",
      "63108     100001000       2009       NaN         NaN      6.0      NaN   \n",
      "126470    100001000       2010       NaN         NaN      6.0      NaN   \n",
      "230782    100001000       2011       NaN         NaN      6.0      NaN   \n",
      "252129    100001000       2012       NaN         NaN      6.0      NaN   \n",
      "...             ...        ...       ...         ...      ...      ...   \n",
      "553363  2205664000_       2016       0.0         NaN      5.0      NaN   \n",
      "629199  2205664000_       2017       0.0         NaN      5.0      NaN   \n",
      "459301  2205668000_       2015    1990.0         NaN      6.0      NaN   \n",
      "553364  2205668000_       2016    1990.0         NaN      6.0      NaN   \n",
      "629200  2205668000_       2017    1990.0         NaN      6.0      NaN   \n",
      "\n",
      "        LIVING_AREA  \n",
      "0            2202.0  \n",
      "63108        2202.0  \n",
      "126470       2202.0  \n",
      "230782       2202.0  \n",
      "252129       2202.0  \n",
      "...             ...  \n",
      "553363       2952.0  \n",
      "629199       2952.0  \n",
      "459301       2834.0  \n",
      "553364       2834.0  \n",
      "629200       2834.0  \n",
      "\n",
      "[783551 rows x 7 columns]\n"
     ]
    }
   ],
   "source": [
    "print(grouped_bedroom_data.head())"
   ]
  },
  {
   "cell_type": "markdown",
   "metadata": {},
   "source": [
    "## Step 2 - Filter by Remodeling Year"
   ]
  },
  {
   "cell_type": "markdown",
   "metadata": {},
   "source": [
    "First lets drop rows where the remodeling year is nan, in this case we have to split the dataset based on when its YR_REMOD and when its YR_REMODEL."
   ]
  },
  {
   "cell_type": "code",
   "execution_count": 14,
   "metadata": {},
   "outputs": [],
   "source": [
    "\n",
    "# Split the dataset based on the column names 'YR_REMOD' and 'YR_REMODEL'\n",
    "# For years 2008-2021 use 'YR_REMOD', and for years 2022-2024 use 'YR_REMODEL'\n",
    "\n",
    "\n",
    "# Replace 0 with NaN in 'YR_REMOD' and 'YR_REMODEL' columns\n",
    "grouped_bedroom_data.obj['YR_REMOD'].replace(0, np.nan, inplace=True)\n",
    "grouped_bedroom_data.obj['YR_REMODEL'].replace(0, np.nan, inplace=True)\n",
    "\n",
    "# Create masks for the year ranges\n",
    "mask_2008_2021 = (grouped_bedroom_data.obj['DATA_YEAR'] >= 2008) & (grouped_bedroom_data.obj['DATA_YEAR'] <= 2021)\n",
    "mask_2022_2024 = (grouped_bedroom_data.obj['DATA_YEAR'] >= 2022) & (grouped_bedroom_data.obj['DATA_YEAR'] <= 2024)\n",
    "\n",
    "# Apply the masks and drop NaN values for 'YR_REMOD' and 'YR_REMODEL' respectively\n",
    "filtered_2008_2021 = grouped_bedroom_data.obj.loc[mask_2008_2021].dropna(subset=['YR_REMOD'])\n",
    "filtered_2022_2024 = grouped_bedroom_data.obj.loc[mask_2022_2024].dropna(subset=['YR_REMODEL'])\n",
    "\n",
    "# Combine the two filtered DataFrames\n",
    "grouped_bedroom_data_filtered = pd.concat([filtered_2008_2021, filtered_2022_2024])\n"
   ]
  },
  {
   "cell_type": "code",
   "execution_count": 15,
   "metadata": {},
   "outputs": [
    {
     "name": "stdout",
     "output_type": "stream",
     "text": [
      "              PID  DATA_YEAR  YR_REMOD  YR_REMODEL  R_BDRMS  BED_RMS  \\\n",
      "1       100002000       2008    2000.0         NaN      3.0      NaN   \n",
      "63109   100002000       2009    2000.0         NaN      3.0      NaN   \n",
      "126471  100002000       2010    2000.0         NaN      3.0      NaN   \n",
      "240302  100002000       2011    2000.0         NaN      3.0      NaN   \n",
      "252130  100002000       2012    2000.0         NaN      3.0      NaN   \n",
      "314832  100002000       2013    2000.0         NaN      3.0      NaN   \n",
      "629202  100002000       2018    2000.0         NaN      3.0      NaN   \n",
      "691931  100002000       2019    2000.0         NaN      3.0      NaN   \n",
      "755174  100002000       2020    2000.0         NaN      3.0      NaN   \n",
      "2       100003000       2008    1985.0         NaN      5.0      NaN   \n",
      "\n",
      "        LIVING_AREA  \n",
      "1            2307.0  \n",
      "63109        2307.0  \n",
      "126471       2307.0  \n",
      "240302       2307.0  \n",
      "252130       2307.0  \n",
      "314832       2307.0  \n",
      "629202       2307.0  \n",
      "691931       2307.0  \n",
      "755174       2307.0  \n",
      "2            2268.0  \n"
     ]
    }
   ],
   "source": [
    "# print(grouped_bedroom_data_filtered)\n",
    "print(grouped_bedroom_data_filtered.head(10))"
   ]
  },
  {
   "cell_type": "markdown",
   "metadata": {},
   "source": [
    "Now that we've dropped rows lets combine the 'yr_remod' and 'yr_remodel' columns, for simplicities sake lets also combine the 'R_BDRMS' and 'BED_RMS'."
   ]
  },
  {
   "cell_type": "code",
   "execution_count": 16,
   "metadata": {},
   "outputs": [],
   "source": [
    "\n",
    "# Combine 'YR_REMOD' and 'YR_REMODEL' into a new 'YR_REMODELLED' column\n",
    "grouped_bedroom_data_filtered['YR_REMODELLED'] = grouped_bedroom_data_filtered['YR_REMODEL'].combine_first(grouped_bedroom_data_filtered['YR_REMOD'])\n",
    "\n",
    "# Combine 'R_BDRMS' and 'BED_RMS' into a new 'BED_ROOMS' column\n",
    "grouped_bedroom_data_filtered['BED_ROOMS'] = grouped_bedroom_data_filtered['BED_RMS'].combine_first(grouped_bedroom_data_filtered['R_BDRMS'])\n",
    "\n",
    "# Now we can drop the original 'YR_REMOD' and 'YR_REMODEL' columns\n",
    "grouped_bedroom_data_filtered = grouped_bedroom_data_filtered.drop(['YR_REMOD', 'YR_REMODEL','R_BDRMS','BED_RMS'], axis=1)\n"
   ]
  },
  {
   "cell_type": "code",
   "execution_count": 17,
   "metadata": {},
   "outputs": [
    {
     "name": "stdout",
     "output_type": "stream",
     "text": [
      "              PID  DATA_YEAR  LIVING_AREA  YR_REMODELLED  BED_ROOMS\n",
      "1       100002000       2008       2307.0         2000.0        3.0\n",
      "63109   100002000       2009       2307.0         2000.0        3.0\n",
      "126471  100002000       2010       2307.0         2000.0        3.0\n",
      "240302  100002000       2011       2307.0         2000.0        3.0\n",
      "252130  100002000       2012       2307.0         2000.0        3.0\n",
      "314832  100002000       2013       2307.0         2000.0        3.0\n",
      "629202  100002000       2018       2307.0         2000.0        3.0\n",
      "691931  100002000       2019       2307.0         2000.0        3.0\n",
      "755174  100002000       2020       2307.0         2000.0        3.0\n",
      "2       100003000       2008       2268.0         1985.0        5.0\n",
      "63110   100003000       2009       2268.0         1985.0        5.0\n",
      "126472  100003000       2010       2268.0         1985.0        5.0\n",
      "237108  100003000       2011       2268.0         1985.0        5.0\n",
      "252131  100003000       2012       2268.0         1985.0        5.0\n",
      "314833  100003000       2013       2268.0         1985.0        5.0\n",
      "629203  100003000       2018       2268.0         1985.0        5.0\n",
      "691932  100003000       2019       2268.0         1985.0        5.0\n",
      "755175  100003000       2020       2268.0         1985.0        5.0\n",
      "3       100004000       2008       2028.0         1991.0        5.0\n",
      "63111   100004000       2009       2028.0         1991.0        5.0\n",
      "126473  100004000       2010       2028.0         1991.0        5.0\n",
      "237109  100004000       2011       2028.0         1991.0        5.0\n",
      "252132  100004000       2012       2028.0         1991.0        5.0\n",
      "314834  100004000       2013       2028.0         1991.0        5.0\n",
      "629204  100004000       2018       2028.0         1991.0        5.0\n",
      "691933  100004000       2019       2028.0         1991.0        5.0\n",
      "755176  100004000       2020       2028.0         1991.0        5.0\n",
      "4       100005000       2008       2546.0         1978.0        6.0\n",
      "63112   100005000       2009       2546.0         1978.0        6.0\n",
      "126474  100005000       2010       2546.0         1978.0        6.0\n",
      "237110  100005000       2011       2546.0         1978.0        6.0\n",
      "252133  100005000       2012       2546.0         1978.0        6.0\n",
      "314835  100005000       2013       2546.0         1978.0        6.0\n",
      "629205  100005000       2018       2546.0         1978.0        6.0\n",
      "691934  100005000       2019       2546.0         1978.0        6.0\n",
      "755177  100005000       2020       2546.0         1978.0        6.0\n",
      "755178  100006000       2020       4362.0         2018.0       13.0\n",
      "237112  100007000       2011       4296.0         2009.0        8.0\n",
      "252135  100007000       2012       4296.0         2009.0        8.0\n",
      "314837  100007000       2013       4296.0         2009.0        8.0\n"
     ]
    }
   ],
   "source": [
    "# Check the result\n",
    "print(grouped_bedroom_data_filtered.head(40))"
   ]
  },
  {
   "cell_type": "markdown",
   "metadata": {},
   "source": [
    "Now I want to compare properties before and after renovation, we can approach this by creating a new dataset that contains a 'before' and 'after' snapshot of each PID that has been remodeled between 2008 and 2024.\n",
    "\n",
    "For each PID, we want to find:\n",
    "\n",
    "The last data entry before the renovation (the 'before' snapshot).\n",
    "The first data entry after the renovation (the 'after' snapshot).\n",
    "\n",
    "Here's how we can approach this:\n",
    "\n",
    "- Filter the groups: Identify PIDs with a YR_REMODELLED value between 2008 and 2024.\n",
    "- Find 'before' and 'after' entries: For each of these PIDs, find the relevant 'before' and 'after' rows.\n",
    "- Store in a new dataset: Save these entries as two separate rows in a new DataFrame."
   ]
  },
  {
   "cell_type": "code",
   "execution_count": 18,
   "metadata": {},
   "outputs": [],
   "source": [
    "# Define a new DataFrame for the before and after renovation data\n",
    "renovation_comparison = pd.DataFrame()"
   ]
  },
  {
   "cell_type": "code",
   "execution_count": 19,
   "metadata": {},
   "outputs": [],
   "source": [
    "rows_to_append = []  # Initialize an empty list to collect DataFrames\n",
    "\n",
    "# Loop over each PID and process the groups\n",
    "for pid, group in grouped_bedroom_data_filtered.groupby('PID'):\n",
    "    # Ensure the group is sorted by year\n",
    "    group = group.sort_values(by='DATA_YEAR')\n",
    "    \n",
    "    # Get all the remodel years for the PID that fall between 2008 and 2023\n",
    "    remodel_years = group.loc[group['YR_REMODELLED'].between(2008, 2023), 'YR_REMODELLED'].unique()\n",
    "\n",
    "    for remodel_year in remodel_years:\n",
    "\n",
    "        remodel_year_int = int(remodel_year)  # Convert to integer\n",
    "\n",
    "        # Find the data entry before the renovation\n",
    "        pre_remodel_data = group[group['DATA_YEAR'] < remodel_year].iloc[-1:]\n",
    "\n",
    "        # Find the data entry after the renovation\n",
    "        # We have to loop because the year after the remodelling might not reflect the remodelling so we have to loop forward\n",
    "        # Initialize 'after_remodel_data' as empty\n",
    "        after_remodel_data = pd.DataFrame()\n",
    "        \n",
    "        # Loop through the years after the remodel year to find when it was first reported\n",
    "        for year in range(remodel_year_int, 2024):\n",
    "            after_data = group[group['DATA_YEAR'] == year]\n",
    "            # Check if any entry in 'after_data' has the 'YR_REMODELLED' we're looking for\n",
    "            if not after_data.empty and (after_data['YR_REMODELLED'] == remodel_year).any():\n",
    "                after_remodel_data = after_data[after_data['YR_REMODELLED'] == remodel_year].copy()  # Make a copy\n",
    "                after_remodel_data.loc[:, 'REMODEL_YEAR'] = remodel_year  # Safely assign using .loc\n",
    "                break\n",
    "\n",
    "        # Ensure there is both a 'before' and an 'after' entry\n",
    "        if not pre_remodel_data.empty and not after_remodel_data.empty:\n",
    "\n",
    "            pre_remodel_data = pre_remodel_data.copy()  # Make a copy\n",
    "            pre_remodel_data.loc[:, 'REMODEL_YEAR'] = remodel_year  # Safely assign using .loc\n",
    "\n",
    "            # Add the remodel year for clarity\n",
    "            after_remodel_data['REMODEL_YEAR'] = remodel_year\n",
    "\n",
    "            rows_to_append.append(pre_remodel_data)\n",
    "            rows_to_append.append(after_remodel_data)\n",
    "\n",
    "# After the loop, concatenate all the rows at once\n",
    "renovation_comparison = pd.concat(rows_to_append, ignore_index=True)\n",
    "\n"
   ]
  },
  {
   "cell_type": "code",
   "execution_count": 20,
   "metadata": {},
   "outputs": [
    {
     "name": "stdout",
     "output_type": "stream",
     "text": [
      "          PID  DATA_YEAR  LIVING_AREA  YR_REMODELLED  BED_ROOMS  REMODEL_YEAR\n",
      "0   100028000       2013       2376.0         1988.0        6.0        2015.0\n",
      "1   100028000       2019       3275.0         2015.0        8.0        2015.0\n",
      "2   100029000       2013       4457.0         2004.0        9.0        2015.0\n",
      "3   100029000       2018       4475.0         2015.0        9.0        2015.0\n",
      "4   100035000       2013       2820.0         1985.0        3.0        2018.0\n",
      "5   100035000       2020       2806.0         2018.0        5.0        2018.0\n",
      "6   100058000       2013       3840.0         1975.0        8.0        2015.0\n",
      "7   100058000       2018       3651.0         2015.0       11.0        2015.0\n",
      "8   100104000       2019       3308.0         2017.0        8.0        2020.0\n",
      "9   100104000       2022       3308.0         2020.0        8.0        2020.0\n",
      "10  100105000       2013       3677.0         1991.0        6.0        2016.0\n",
      "11  100105000       2018       3402.0         2016.0        8.0        2016.0\n",
      "12  100137000       2013       1197.0         1976.0        2.0        2015.0\n",
      "13  100137000       2018       1197.0         2015.0        2.0        2015.0\n",
      "14  100137000       2013       1197.0         1976.0        2.0        2017.0\n",
      "15  100137000       2019       1197.0         2017.0        2.0        2017.0\n",
      "16  100139000       2012       2602.0         2000.0        4.0        2013.0\n",
      "17  100139000       2018       2563.0         2013.0        4.0        2013.0\n",
      "18  100145000       2013       2694.0         1999.0        5.0        2015.0\n",
      "19  100145000       2018          0.0         2015.0        5.0        2015.0\n"
     ]
    }
   ],
   "source": [
    "print(renovation_comparison.head(20))"
   ]
  },
  {
   "cell_type": "markdown",
   "metadata": {},
   "source": [
    "renovation_comparision holds data on properties that have been renovated in the range of years 2008 to 2024. Basically the properties we have data on. Each PID is stored in pairs, one row for a year before the renovation and one row for a year after the renovation. Based on this we can see if renovations have led to overall decreases in bedrooms/living areas."
   ]
  },
  {
   "cell_type": "markdown",
   "metadata": {},
   "source": [
    "## Part 3 - Visualizing + Aggregating"
   ]
  },
  {
   "cell_type": "code",
   "execution_count": 21,
   "metadata": {},
   "outputs": [
    {
     "name": "stdout",
     "output_type": "stream",
     "text": [
      "The number of rows in renovation_comparison is: 10203\n"
     ]
    }
   ],
   "source": [
    "# Get the number of rows in renovation_comparison\n",
    "num_rows = renovation_comparison.shape[0]\n",
    "print(f'The number of rows in renovation_comparison is: {num_rows}')"
   ]
  },
  {
   "cell_type": "markdown",
   "metadata": {},
   "source": [
    "So this tells us that we have about 5101 properties that we can analyze."
   ]
  },
  {
   "cell_type": "markdown",
   "metadata": {},
   "source": [
    "\n",
    "To visualize the changes in living area and bedrooms before and after the renovations, we will first need to calculate the differences for each property. Since we have the data structured with before and after rows for each property, we can calculate the differences by subtracting the 'before' values from the 'after' values for both the living area and the number of bedrooms.\n",
    "\n",
    "After that, we can create a bar chart to visualize the distribution of changes, as well as calculate the average changes. Let’s start with the calculations and then move on to creating the visualizations."
   ]
  },
  {
   "cell_type": "code",
   "execution_count": 22,
   "metadata": {},
   "outputs": [],
   "source": [
    "# Calculate differences by subtracting the 'before' renovation values from the 'after' renovation values\n",
    "renovation_comparison['living_area_diff'] = renovation_comparison.groupby('PID')['LIVING_AREA'].diff()\n",
    "renovation_comparison['bedrooms_diff'] = renovation_comparison.groupby('PID')['BED_ROOMS'].diff()\n",
    "\n",
    "# The '.diff()' function will put NaN for the 'before' renovation rows and the differences for the 'after' renovation rows\n",
    "# We only need the 'after' renovation rows where the differences are calculated\n",
    "after_renovation_data = renovation_comparison.dropna(subset=['living_area_diff', 'bedrooms_diff'])\n"
   ]
  },
  {
   "cell_type": "code",
   "execution_count": 23,
   "metadata": {},
   "outputs": [
    {
     "name": "stdout",
     "output_type": "stream",
     "text": [
      "gained bedrooms:  956\n",
      "no change in bedrooms:  4402\n",
      "lost bedrooms:  409\n",
      "gained living area:  1839\n",
      "no change in living area:  2900\n",
      "lost living area:  1028\n"
     ]
    }
   ],
   "source": [
    "# Calculate the number of properties that lost/gained bedrooms and living area\n",
    "gained_bedrooms = (after_renovation_data['bedrooms_diff'] > 0).sum()\n",
    "no_change_bedrooms = (after_renovation_data['bedrooms_diff'] == 0).sum()\n",
    "lost_bedrooms = (after_renovation_data['bedrooms_diff'] < 0).sum()\n",
    "gained_living_area = (after_renovation_data['living_area_diff'] > 0).sum()\n",
    "no_change_living_area = (after_renovation_data['living_area_diff'] == 0).sum()\n",
    "lost_living_area = (after_renovation_data['living_area_diff'] < 0).sum()\n",
    "\n",
    "print(\"gained bedrooms: \", gained_bedrooms)\n",
    "print(\"no change in bedrooms: \", no_change_bedrooms)\n",
    "print(\"lost bedrooms: \", lost_bedrooms)\n",
    "print(\"gained living area: \", gained_living_area)\n",
    "print(\"no change in living area: \", no_change_living_area)\n",
    "print(\"lost living area: \",lost_living_area)"
   ]
  },
  {
   "cell_type": "code",
   "execution_count": 24,
   "metadata": {},
   "outputs": [
    {
     "name": "stdout",
     "output_type": "stream",
     "text": [
      "0.19334142535113577\n",
      "0.19334142535113577\n",
      "          PID  DATA_YEAR  LIVING_AREA  YR_REMODELLED  BED_ROOMS  REMODEL_YEAR  \\\n",
      "1   100028000       2019       3275.0         2015.0        8.0        2015.0   \n",
      "3   100029000       2018       4475.0         2015.0        9.0        2015.0   \n",
      "5   100035000       2020       2806.0         2018.0        5.0        2018.0   \n",
      "7   100058000       2018       3651.0         2015.0       11.0        2015.0   \n",
      "9   100104000       2022       3308.0         2020.0        8.0        2020.0   \n",
      "11  100105000       2018       3402.0         2016.0        8.0        2016.0   \n",
      "13  100137000       2018       1197.0         2015.0        2.0        2015.0   \n",
      "14  100137000       2013       1197.0         1976.0        2.0        2017.0   \n",
      "15  100137000       2019       1197.0         2017.0        2.0        2017.0   \n",
      "17  100139000       2018       2563.0         2013.0        4.0        2013.0   \n",
      "19  100145000       2018          0.0         2015.0        5.0        2015.0   \n",
      "21  100163000       2019       1499.0         2017.0        3.0        2017.0   \n",
      "23  100177000       2018       3390.0         2016.0        7.0        2016.0   \n",
      "25  100190000       2023       1122.7         2022.0        3.0        2022.0   \n",
      "27  100191000       2023       1188.0         2022.0        3.0        2022.0   \n",
      "29  100195010       2018       1623.0         2014.0        4.0        2014.0   \n",
      "31  100212000       2023       1340.0         2021.0        3.0        2021.0   \n",
      "33  100240000       2019       1508.0         2017.0        3.0        2017.0   \n",
      "35  100262000       2018       2722.0         2011.0       10.0        2011.0   \n",
      "37  100296000       2022       5184.0         2020.0       12.0        2020.0   \n",
      "\n",
      "    living_area_diff  bedrooms_diff  \n",
      "1              899.0            2.0  \n",
      "3               18.0            0.0  \n",
      "5              -14.0            2.0  \n",
      "7             -189.0            3.0  \n",
      "9                0.0            0.0  \n",
      "11            -275.0            2.0  \n",
      "13               0.0            0.0  \n",
      "14               0.0            0.0  \n",
      "15               0.0            0.0  \n",
      "17             -39.0            0.0  \n",
      "19           -2694.0            0.0  \n",
      "21              56.0           -1.0  \n",
      "23               0.0            0.0  \n",
      "25              -0.3            0.0  \n",
      "27               0.0            0.0  \n",
      "29               0.0            0.0  \n",
      "31               0.0            0.0  \n",
      "33             280.0            0.0  \n",
      "35            -158.0            2.0  \n",
      "37               0.0            0.0  \n"
     ]
    }
   ],
   "source": [
    "# Calculate averages of the differences\n",
    "average_bedrooms_diff = after_renovation_data['bedrooms_diff'].mean()\n",
    "average_living_area_diff = after_renovation_data['living_area_diff'].mean()\n",
    "\n",
    "print(average_bedrooms_diff)\n",
    "print(average_bedrooms_diff)\n",
    "\n",
    "print(after_renovation_data.head(20))"
   ]
  },
  {
   "cell_type": "markdown",
   "metadata": {},
   "source": [
    "The averages seems to be being thrown off, by the amount of 0's. Which means that on average it seems renovations do not seem to affect the number of bedrooms and living areas. But lets check just the ones that are losing/gaining to see those averages."
   ]
  },
  {
   "cell_type": "code",
   "execution_count": 25,
   "metadata": {},
   "outputs": [
    {
     "name": "stdout",
     "output_type": "stream",
     "text": [
      "Average change in bedrooms (excluding no change): 0.8168498168498168\n",
      "Average change in living area (excluding no change): 142.08039762818277\n"
     ]
    }
   ],
   "source": [
    "# Filter out the zeros before calculating the mean differences\n",
    "average_bedrooms_diff = after_renovation_data.loc[after_renovation_data['bedrooms_diff'] != 0, 'bedrooms_diff'].mean()\n",
    "average_living_area_diff = after_renovation_data.loc[after_renovation_data['living_area_diff'] != 0, 'living_area_diff'].mean()\n",
    "\n",
    "print(f'Average change in bedrooms (excluding no change): {average_bedrooms_diff}')\n",
    "print(f'Average change in living area (excluding no change): {average_living_area_diff}')"
   ]
  },
  {
   "cell_type": "markdown",
   "metadata": {},
   "source": [
    "For bedrooms:\n",
    "\n",
    "The average change among properties that had any change (either gain or loss) in the number of bedrooms is approximately +0.82 bedrooms. This suggests that, on average, properties tended to gain a small number of bedrooms when there was a change.\n",
    "\n",
    "For living area:\n",
    "\n",
    "The average change among properties that had any change (either gain or loss) in living area is approximately +142 square feet. This indicates that properties that saw changes tended to gain more living area on average.\n",
    "\n",
    "However, it's important to keep in mind that this doesn't reflect the distribution of changes as it's possible for a few large increases to skew the average upward even if most changes are small. To get a complete picture of the renovations' impact, lets look at the distribution of changes (for starters using histograms) and consider both the averages and the totals of increased and decreased living areas and bedrooms."
   ]
  },
  {
   "cell_type": "code",
   "execution_count": 26,
   "metadata": {},
   "outputs": [
    {
     "data": {
      "image/png": "[encoded data removed]",
      "text/plain": [
       "<Figure size 1400x700 with 1 Axes>"
      ]
     },
     "metadata": {},
     "output_type": "display_data"
    },
    {
     "data": {
      "image/png": "[encoded data removed]",
      "text/plain": [
       "<Figure size 1400x700 with 1 Axes>"
      ]
     },
     "metadata": {},
     "output_type": "display_data"
    }
   ],
   "source": [
    "import matplotlib.pyplot as plt\n",
    "\n",
    "# Filter to exclude no change for a clearer histogram\n",
    "bedrooms_diff = after_renovation_data[after_renovation_data['bedrooms_diff'] != 0]['bedrooms_diff']\n",
    "living_area_diff = after_renovation_data[after_renovation_data['living_area_diff'] != 0]['living_area_diff']\n",
    "\n",
    "# This creates a list of bin edges from the min to max, with each edge separated by 1\n",
    "bin_edges = range(int(min(bedrooms_diff)), int(max(bedrooms_diff)) + 2)\n",
    "\n",
    "# Histogram for bedroom differences\n",
    "plt.figure(figsize=(14, 7))\n",
    "plt.hist(bedrooms_diff, bins=bin_edges, color='skyblue', alpha=0.7, rwidth=0.85)\n",
    "plt.title('Histogram of Bedroom Changes After Renovation')\n",
    "plt.xlabel('Change in Bedrooms')\n",
    "plt.ylabel('Frequency')\n",
    "plt.grid(axis='y', alpha=0.75)\n",
    "plt.axvline(bedrooms_diff.mean(), color='red', linestyle='dashed', linewidth=2)  # Mean line\n",
    "# This sets the x-axis ticks to every integer within the range of your data\n",
    "plt.xticks(bin_edges)\n",
    "plt.show()\n",
    "\n",
    "# Histogram for living area differences\n",
    "plt.figure(figsize=(14, 7))\n",
    "plt.hist(living_area_diff, bins='auto', color='lightgreen', alpha=0.7, rwidth=0.85)\n",
    "plt.title('Histogram of Living Area Changes After Renovation')\n",
    "plt.xlabel('Change in Living Area (sq ft)')\n",
    "plt.ylabel('Frequency')\n",
    "plt.grid(axis='y', alpha=0.75)\n",
    "plt.axvline(living_area_diff.mean(), color='red', linestyle='dashed', linewidth=2)  # Mean line\n",
    "plt.show()"
   ]
  },
  {
   "cell_type": "markdown",
   "metadata": {},
   "source": [
    "The histograms show the distribution of changes in bedrooms and living area after renovation. It looks like the histogram for living area changes has a few extreme values that make the rest of the data hard to read because the bins are too wide to meaningfully represent most of the data. These extreme values, also known as outliers, are causing the scale of the x-axis to be very wide, which compresses the majority of the data into a small number of bins."
   ]
  },
  {
   "cell_type": "markdown",
   "metadata": {},
   "source": [
    "For the living area histogram, you might want to consider excluding extreme values that are not representative of the general trends. This can be done by calculating a reasonable range based on the interquartile range (IQR), for example:"
   ]
  },
  {
   "cell_type": "code",
   "execution_count": 27,
   "metadata": {},
   "outputs": [
    {
     "data": {
      "image/png": "[encoded data removed]",
      "text/plain": [
       "<Figure size 1400x700 with 1 Axes>"
      ]
     },
     "metadata": {},
     "output_type": "display_data"
    }
   ],
   "source": [
    "# Calculate the IQR for living area differences\n",
    "Q1 = living_area_diff.quantile(0.25)\n",
    "Q3 = living_area_diff.quantile(0.75)\n",
    "IQR = Q3 - Q1\n",
    "\n",
    "# Define reasonable lower and upper bounds for the data\n",
    "lower_bound = Q1 - 1.5 * IQR\n",
    "upper_bound = Q3 + 1.5 * IQR\n",
    "\n",
    "# Filter the living area differences to exclude outliers\n",
    "filtered_living_area_diff = living_area_diff[(living_area_diff > lower_bound) & (living_area_diff < upper_bound)]\n",
    "\n",
    "# # Histogram for filtered living area differences\n",
    "# plt.figure(figsize=(14, 7))\n",
    "# plt.hist(filtered_living_area_diff, bins='auto', color='lightgreen', alpha=0.7, rwidth=0.85)\n",
    "# plt.title('Histogram of Living Area Changes After Renovation (Excluding Extremes)')\n",
    "# plt.xlabel('Change in Living Area (sq ft)')\n",
    "# plt.ylabel('Frequency')\n",
    "# plt.grid(axis='y', alpha=0.75)\n",
    "# plt.axvline(filtered_living_area_diff.mean(), color='red', linestyle='dashed', linewidth=2)  # Mean line\n",
    "\n",
    "# Calculate rounded bounds for better tick marks\n",
    "rounded_lower_bound = int(round(lower_bound, -2))  # Round to nearest hundred\n",
    "rounded_upper_bound = int(round(upper_bound, -2))  # Round to nearest hundred\n",
    "\n",
    "# # Set x-axis ticks at intervals of 100 square feet\n",
    "# plt.xticks(range(rounded_lower_bound, rounded_upper_bound + 100, 100))\n",
    "\n",
    "# # Set the x-axis limits to focus on the range from the lower to upper bound\n",
    "# plt.xlim(rounded_lower_bound, rounded_upper_bound)\n",
    "\n",
    "\n",
    "# plt.show()\n",
    "\n",
    "# Choose a bin width\n",
    "bin_width = 100  # For example, every 100 square feet\n",
    "\n",
    "# Generate bin edges from the lower to the upper bound, with the chosen bin width\n",
    "bin_edges = list(range(rounded_lower_bound, rounded_upper_bound + bin_width, bin_width))\n",
    "\n",
    "# Histogram for filtered living area differences\n",
    "plt.figure(figsize=(14, 7))\n",
    "plt.hist(filtered_living_area_diff, bins=bin_edges, color='lightgreen', alpha=0.7, rwidth=0.85)\n",
    "plt.title('Histogram of Living Area Changes After Renovation (Excluding Extremes)')\n",
    "plt.xlabel('Change in Living Area (sq ft)')\n",
    "plt.ylabel('Frequency')\n",
    "plt.grid(axis='y', alpha=0.75)\n",
    "plt.axvline(filtered_living_area_diff.mean(), color='red', linestyle='dashed', linewidth=2)\n",
    "\n",
    "# Use the same bin edges for the ticks\n",
    "plt.xticks(bin_edges)\n",
    "\n",
    "# Set the x-axis limits to focus on the range from the lower to upper bound\n",
    "plt.xlim(rounded_lower_bound, rounded_upper_bound)\n",
    "\n",
    "plt.show()\n",
    "\n",
    "\n"
   ]
  },
  {
   "cell_type": "code",
   "execution_count": null,
   "metadata": {},
   "outputs": [],
   "source": []
  }
 ],
 "metadata": {
  "kernelspec": {
   "display_name": "Python 3",
   "language": "python",
   "name": "python3"
  },
  "language_info": {
   "codemirror_mode": {
    "name": "ipython",
    "version": 3
   },
   "file_extension": ".py",
   "mimetype": "text/x-python",
   "name": "python",
   "nbconvert_exporter": "python",
   "pygments_lexer": "ipython3",
   "version": "3.9.7"
  },
  "orig_nbformat": 4
 },
 "nbformat": 4,
 "nbformat_minor": 2
}
