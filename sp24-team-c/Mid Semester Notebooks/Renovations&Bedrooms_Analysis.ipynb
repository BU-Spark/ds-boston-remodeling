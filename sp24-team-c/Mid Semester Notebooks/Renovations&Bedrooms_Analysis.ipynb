{
 "cells": [
  {
   "cell_type": "markdown",
   "metadata": {},
   "source": [
    "# Analysis on Whether Renovations are Causing Bedrooms to Decrease"
   ]
  },
  {
   "cell_type": "markdown",
   "metadata": {},
   "source": [
    "Hypothesis: The assumption I have is that renovations could lead to a decrease in the number of bedrooms, possibly due to homeowners combining smaller rooms to create larger spaces or repurposing bedrooms for other uses.\n",
    "\n",
    "Data Requirements: For this analysis, I'll need:\n",
    "\n",
    "- Data on the number of bedrooms before and after renovations, we have data on bedrooms starting from 2008.\n",
    "\n",
    "- Renovation dates or periods to compare changes over time.\n",
    "Any additional information on the type of renovation could be very useful.\n",
    "\n",
    "To start i want to check the data for 2014, and 2021, 2022, 2023 and possibly 2024 to see what the data error I was getting in my notebook (Variables_in_Property_Assesment-Yearly_Analysis.ipynb) when analzing the bedroom data."
   ]
  },
  {
   "cell_type": "code",
   "execution_count": 48,
   "metadata": {},
   "outputs": [],
   "source": [
    "import pandas as pd\n",
    "import matplotlib.pyplot as plt\n",
    "import matplotlib.ticker as ticker\n"
   ]
  },
  {
   "cell_type": "markdown",
   "metadata": {},
   "source": [
    "While pulling the data I thought I should also pull columns relating to the renovations.\n",
    "\n",
    "Relevant Columns for Analysis:\n",
    "\n",
    "**YR_REMODEL**: Year the property was last remodeled. This column is critical for identifying properties that have undergone renovations.\n",
    "\n",
    "**RES_UNITS**: Number of residential units in a condominium building, which might also be useful if renovations affected the division of units.\n",
    "\n",
    "// For later\n",
    "\n",
    "**Location**: Might help with creating a heatmap/location hot spots of where renovations are affecting bedrooms - further analysis on this where we map areas to neighbhood demographics may correlate with areas that are being gentrified."
   ]
  },
  {
   "cell_type": "code",
   "execution_count": 49,
   "metadata": {},
   "outputs": [
    {
     "name": "stderr",
     "output_type": "stream",
     "text": [
      "/var/folders/m7/r7m7ht2j7jbfb00kv5p9d0q00000gn/T/ipykernel_6861/2948151279.py:1: DtypeWarning: Columns (7,14) have mixed types. Specify dtype option on import or set low_memory=False.\n",
      "  pa_2008 = pd.read_csv('../data/property_assessment_2008.csv')[['PID','LU', 'FY2008_TOTAL', 'GROSS_AREA', 'LIVING_AREA', 'R_BDRMS', 'YR_REMOD', 'S_UNIT_RES']]\n",
      "/var/folders/m7/r7m7ht2j7jbfb00kv5p9d0q00000gn/T/ipykernel_6861/2948151279.py:4: DtypeWarning: Columns (14) have mixed types. Specify dtype option on import or set low_memory=False.\n",
      "  pa_2009 = pd.read_csv('../data/property_assessment_2009.csv')[['PID','LU', 'AV_TOTAL', 'GROSS_AREA', 'LIVING_AREA', 'R_BDRMS', 'YR_REMOD', 'S_UNIT_RES']]\n",
      "/var/folders/m7/r7m7ht2j7jbfb00kv5p9d0q00000gn/T/ipykernel_6861/2948151279.py:7: DtypeWarning: Columns (14) have mixed types. Specify dtype option on import or set low_memory=False.\n",
      "  pa_2010 = pd.read_csv('../data/property_assessment_2010.csv')[['PID','LU', 'AV_TOTAL', 'GROSS_AREA', 'LIVING_AREA', 'R_BDRMS', 'YR_REMOD', 'S_UNIT_RES']]\n",
      "/var/folders/m7/r7m7ht2j7jbfb00kv5p9d0q00000gn/T/ipykernel_6861/2948151279.py:8: DtypeWarning: Columns (14,26,27,28,34,35,38,42,45,46,49,50,51,52,53) have mixed types. Specify dtype option on import or set low_memory=False.\n",
      "  pa_2011 = pd.read_csv('../data/property_assessment_2011.csv')[['PID','LU', 'AV_TOTAL', 'GROSS_AREA', 'LIVING_AREA', 'R_BDRMS', 'YR_REMOD', 'S_UNIT_RES']]\n",
      "/var/folders/m7/r7m7ht2j7jbfb00kv5p9d0q00000gn/T/ipykernel_6861/2948151279.py:9: DtypeWarning: Columns (14,43,47,50) have mixed types. Specify dtype option on import or set low_memory=False.\n",
      "  pa_2012 = pd.read_csv('../data/property_assessment_2012.csv')[['PID','LU', 'AV_TOTAL', 'GROSS_AREA', 'LIVING_AREA', 'R_BDRMS', 'YR_REMOD', 'S_UNIT_RES']]\n",
      "/var/folders/m7/r7m7ht2j7jbfb00kv5p9d0q00000gn/T/ipykernel_6861/2948151279.py:10: DtypeWarning: Columns (14,47,50) have mixed types. Specify dtype option on import or set low_memory=False.\n",
      "  pa_2013 = pd.read_csv('../data/property_assessment_2013.csv')[['PID','LU', 'AV_TOTAL', 'GROSS_AREA', 'LIVING_AREA', 'R_BDRMS', 'YR_REMOD', 'S_UNIT_RES']]\n",
      "/var/folders/m7/r7m7ht2j7jbfb00kv5p9d0q00000gn/T/ipykernel_6861/2948151279.py:12: DtypeWarning: Columns (15,46,53,55) have mixed types. Specify dtype option on import or set low_memory=False.\n",
      "  pa_2014 = pd.read_csv('../data/property-assessment-fy2014.csv')[['Parcel_ID','LU', 'AV_TOTAL', 'GROSS_AREA', 'LIVING_AREA', 'R_BDRMS', 'YR_REMOD', 'S_UNIT_RES']]\n",
      "/var/folders/m7/r7m7ht2j7jbfb00kv5p9d0q00000gn/T/ipykernel_6861/2948151279.py:16: DtypeWarning: Columns (61,64) have mixed types. Specify dtype option on import or set low_memory=False.\n",
      "  pa_2016 = pd.read_csv('../data/property_assessment_2016.csv')[['PID','LU', 'AV_TOTAL', 'GROSS_AREA', 'LIVING_AREA', 'R_BDRMS', 'YR_REMOD', 'S_UNIT_RES']]\n",
      "/var/folders/m7/r7m7ht2j7jbfb00kv5p9d0q00000gn/T/ipykernel_6861/2948151279.py:17: DtypeWarning: Columns (61,64) have mixed types. Specify dtype option on import or set low_memory=False.\n",
      "  pa_2017 = pd.read_csv('../data/property_assessment_2017.csv')[['PID','LU', 'AV_TOTAL', 'GROSS_AREA', 'LIVING_AREA', 'R_BDRMS', 'YR_REMOD', 'S_UNIT_RES']]\n",
      "/var/folders/m7/r7m7ht2j7jbfb00kv5p9d0q00000gn/T/ipykernel_6861/2948151279.py:18: DtypeWarning: Columns (16,61,64) have mixed types. Specify dtype option on import or set low_memory=False.\n",
      "  pa_2018 = pd.read_csv('../data/property_assessment_2018.csv')[['PID','LU', 'AV_TOTAL', 'GROSS_AREA', 'LIVING_AREA', 'R_BDRMS', 'YR_REMOD', 'S_UNIT_RES']]\n",
      "/var/folders/m7/r7m7ht2j7jbfb00kv5p9d0q00000gn/T/ipykernel_6861/2948151279.py:19: DtypeWarning: Columns (16,61) have mixed types. Specify dtype option on import or set low_memory=False.\n",
      "  pa_2019 = pd.read_csv('../data/property_assessment_2019.csv')[['PID','LU', 'AV_TOTAL', 'GROSS_AREA', 'LIVING_AREA', 'R_BDRMS', 'YR_REMOD', 'S_UNIT_RES']]\n",
      "/var/folders/m7/r7m7ht2j7jbfb00kv5p9d0q00000gn/T/ipykernel_6861/2948151279.py:20: DtypeWarning: Columns (7,16,28,29,30,35,36,37,38,39,40,41,42,43,45,46,47,48,49,59,60,65,66,67,68,69,70,71,73,74,75) have mixed types. Specify dtype option on import or set low_memory=False.\n",
      "  pa_2020 = pd.read_csv('../data/property_assessment_2020.csv')[['PID','LU', 'AV_TOTAL', 'GROSS_AREA', 'LIVING_AREA', 'R_BDRMS', 'YR_REMOD', 'S_UNIT_RES']]\n",
      "/var/folders/m7/r7m7ht2j7jbfb00kv5p9d0q00000gn/T/ipykernel_6861/2948151279.py:27: DtypeWarning: Columns (21) have mixed types. Specify dtype option on import or set low_memory=False.\n",
      "  pa_2024 = pd.read_csv('../data/property_assessment_2024.csv')[['PID','LU', 'TOTAL_VALUE', 'GROSS_AREA', 'LIVING_AREA', 'BED_RMS', 'YR_REMODEL', 'RES_UNITS']]\n"
     ]
    }
   ],
   "source": [
    "pa_2008 = pd.read_csv('../data/property_assessment_2008.csv')[['PID','LU', 'FY2008_TOTAL', 'GROSS_AREA', 'LIVING_AREA', 'R_BDRMS', 'YR_REMOD', 'S_UNIT_RES']] \n",
    "# R_BDRMS = bedrooms, S_UNIT_RES' = residential units\n",
    "\n",
    "pa_2009 = pd.read_csv('../data/property_assessment_2009.csv')[['PID','LU', 'AV_TOTAL', 'GROSS_AREA', 'LIVING_AREA', 'R_BDRMS', 'YR_REMOD', 'S_UNIT_RES']] \n",
    "# AV_TOTAL is now the total value of property\n",
    "\n",
    "pa_2010 = pd.read_csv('../data/property_assessment_2010.csv')[['PID','LU', 'AV_TOTAL', 'GROSS_AREA', 'LIVING_AREA', 'R_BDRMS', 'YR_REMOD', 'S_UNIT_RES']] \n",
    "pa_2011 = pd.read_csv('../data/property_assessment_2011.csv')[['PID','LU', 'AV_TOTAL', 'GROSS_AREA', 'LIVING_AREA', 'R_BDRMS', 'YR_REMOD', 'S_UNIT_RES']] \n",
    "pa_2012 = pd.read_csv('../data/property_assessment_2012.csv')[['PID','LU', 'AV_TOTAL', 'GROSS_AREA', 'LIVING_AREA', 'R_BDRMS', 'YR_REMOD', 'S_UNIT_RES']] \n",
    "pa_2013 = pd.read_csv('../data/property_assessment_2013.csv')[['PID','LU', 'AV_TOTAL', 'GROSS_AREA', 'LIVING_AREA', 'R_BDRMS', 'YR_REMOD', 'S_UNIT_RES']] \n",
    "\n",
    "pa_2014 = pd.read_csv('../data/property-assessment-fy2014.csv')[['Parcel_ID','LU', 'AV_TOTAL', 'GROSS_AREA', 'LIVING_AREA', 'R_BDRMS', 'YR_REMOD', 'S_UNIT_RES']] \n",
    "\n",
    "\n",
    "pa_2015 = pd.read_csv('../data/property_assessment_2015.csv')[['PID','LU', 'AV_TOTAL', 'GROSS_AREA', 'LIVING_AREA', 'R_BDRMS', 'YR_REMOD', 'S_UNIT_RES']] \n",
    "pa_2016 = pd.read_csv('../data/property_assessment_2016.csv')[['PID','LU', 'AV_TOTAL', 'GROSS_AREA', 'LIVING_AREA', 'R_BDRMS', 'YR_REMOD', 'S_UNIT_RES']] \n",
    "pa_2017 = pd.read_csv('../data/property_assessment_2017.csv')[['PID','LU', 'AV_TOTAL', 'GROSS_AREA', 'LIVING_AREA', 'R_BDRMS', 'YR_REMOD', 'S_UNIT_RES']] \n",
    "pa_2018 = pd.read_csv('../data/property_assessment_2018.csv')[['PID','LU', 'AV_TOTAL', 'GROSS_AREA', 'LIVING_AREA', 'R_BDRMS', 'YR_REMOD', 'S_UNIT_RES']] \n",
    "pa_2019 = pd.read_csv('../data/property_assessment_2019.csv')[['PID','LU', 'AV_TOTAL', 'GROSS_AREA', 'LIVING_AREA', 'R_BDRMS', 'YR_REMOD', 'S_UNIT_RES']] \n",
    "pa_2020 = pd.read_csv('../data/property_assessment_2020.csv')[['PID','LU', 'AV_TOTAL', 'GROSS_AREA', 'LIVING_AREA', 'R_BDRMS', 'YR_REMOD', 'S_UNIT_RES']] \n",
    "\n",
    "pa_2021 = pd.read_csv('../data/property_assessment_2021.csv')[['PID','LU', 'TOTAL_VALUE', 'GROSS_AREA', 'LIVING_AREA', 'BED_RMS', 'YR_REMODEL', 'RES_UNITS']] \n",
    "# AV_Total is now TOTAL_VALUE, R_BDRMS is now BED_RMS\n",
    "\n",
    "pa_2022 = pd.read_csv('../data/property_assessment_2022.csv')[['PID','LU', 'TOTAL_VALUE', 'GROSS_AREA', 'LIVING_AREA', 'BED_RMS', 'YR_REMODEL', 'RES_UNITS']]\n",
    "pa_2023 = pd.read_csv('../data/property_assessment_2023.csv')[['PID','LU', 'TOTAL_VALUE', 'GROSS_AREA', 'LIVING_AREA', 'BED_RMS', 'YR_REMODEL', 'RES_UNITS']]\n",
    "pa_2024 = pd.read_csv('../data/property_assessment_2024.csv')[['PID','LU', 'TOTAL_VALUE', 'GROSS_AREA', 'LIVING_AREA', 'BED_RMS', 'YR_REMODEL', 'RES_UNITS']]"
   ]
  },
  {
   "cell_type": "code",
   "execution_count": 50,
   "metadata": {},
   "outputs": [
    {
     "name": "stdout",
     "output_type": "stream",
     "text": [
      "           PID  LU  AV_TOTAL  GROSS_AREA  LIVING_AREA  R_BDRMS  YR_REMOD  \\\n",
      "0  0100001000_  R3    419900      3353.0       2202.0      6.0       NaN   \n",
      "1  0100002000_  R3    462500      3299.0       2307.0      3.0    2000.0   \n",
      "2  0100003000_  R3    421000      3392.0       2268.0      5.0    1985.0   \n",
      "3  0100004000_  R3    402200      3108.0       2028.0      5.0    1991.0   \n",
      "4  0100005000_  R2    421200      3700.0       2546.0      6.0    1978.0   \n",
      "5  0100006000_  R3    493900      6278.0       4362.0      9.0       0.0   \n",
      "6  0100007000_  R3    531600      6432.0       4296.0      8.0    2009.0   \n",
      "7  0100008000_  R3    546000      6048.0       4080.0     11.0       0.0   \n",
      "8  0100009000_  R3    418600      4357.0       2937.0      5.0    1998.0   \n",
      "9  0401750010_  CD    331300       529.0        529.0      NaN    1984.0   \n",
      "\n",
      "   S_UNIT_RES  \n",
      "0         NaN  \n",
      "1         NaN  \n",
      "2         NaN  \n",
      "3         NaN  \n",
      "4         NaN  \n",
      "5         NaN  \n",
      "6         NaN  \n",
      "7         NaN  \n",
      "8         NaN  \n",
      "9         NaN  \n"
     ]
    }
   ],
   "source": [
    "print(pa_2017.head(10))"
   ]
  },
  {
   "cell_type": "markdown",
   "metadata": {},
   "source": [
    "To start lets filter the data based on land usage codes and check the bedroom plot again to see if we get similar results."
   ]
  },
  {
   "cell_type": "markdown",
   "metadata": {},
   "source": [
    "### Land Usage Code Key\n",
    "\n",
    "| Code | Type |\n",
    "|------|-----------|\n",
    "| A    | Residental (7 or more Units) |\n",
    "| AH   | Agricultural/Horticultural |\n",
    "| C    | Commercial |\n",
    "| CC   | Commercial Condominium |\n",
    "| CD   | Residental Condominium Unit | \n",
    "| CL   | Commercial Land | \n",
    "| CM   | Condomonium Building (excluding units) |\n",
    "| CP   | Condomonium Parking | \n",
    "| E    | Tax Exempt |\n",
    "| EA   | Tax Exempt (121A) |\n",
    "| I    | Industrial |\n",
    "| R1   | Residental One-Family Home |\n",
    "| R2   | Residental Two-Family Home |\n",
    "| R3   | Residental Three-Family Home |\n",
    "| R4   | Residental Four-Family Home |\n",
    "| RC   | Mixed Use (Residental and Commercial) |"
   ]
  },
  {
   "cell_type": "code",
   "execution_count": 51,
   "metadata": {},
   "outputs": [],
   "source": [
    "# Store the DataFrames in a dictionary for easier access\n",
    "pa_data = {\n",
    "    2008: pa_2008,\n",
    "    2009: pa_2009,\n",
    "    2010: pa_2010,\n",
    "    2011: pa_2011,\n",
    "    2012: pa_2012,\n",
    "    2013: pa_2013,\n",
    "    2014: pa_2014,\n",
    "    2015: pa_2015,\n",
    "    2016: pa_2016,\n",
    "    2017: pa_2017,\n",
    "    2018: pa_2018,\n",
    "    2019: pa_2019,\n",
    "    2020: pa_2020,\n",
    "    2021: pa_2021,\n",
    "    2022: pa_2022,\n",
    "    2023: pa_2023,\n",
    "    2024: pa_2024,\n",
    "}\n",
    "\n",
    "LU_filtered_pa_data = {}\n",
    "\n",
    "residential_codes = ['R1', 'R2', 'R3', 'RL', 'R4', 'A', 'CD']\n",
    "\n",
    "# Loop through each year's DataFrame and filter it\n",
    "for year, df in pa_data.items():\n",
    "    LU_filtered_pa_data[year] = df[df['LU'].isin(residential_codes)]"
   ]
  },
  {
   "cell_type": "markdown",
   "metadata": {},
   "source": [
    "Lets check for null values."
   ]
  },
  {
   "cell_type": "code",
   "execution_count": 52,
   "metadata": {},
   "outputs": [
    {
     "name": "stdout",
     "output_type": "stream",
     "text": [
      "\n",
      "Dataset:2008\n",
      "\n",
      "Number of null values in each column:\n",
      " PID                  0\n",
      "LU                   0\n",
      "FY2008_TOTAL         0\n",
      "GROSS_AREA         138\n",
      "LIVING_AREA        138\n",
      "R_BDRMS          65147\n",
      "YR_REMOD         15700\n",
      "S_UNIT_RES      128020\n",
      "dtype: int64\n",
      "\n",
      "Dataset:2009\n",
      "\n",
      "Number of null values in each column:\n",
      " PID                 0\n",
      "LU                  0\n",
      "AV_TOTAL            0\n",
      "GROSS_AREA        143\n",
      "LIVING_AREA       143\n",
      "R_BDRMS         67233\n",
      "YR_REMOD        17008\n",
      "S_UNIT_RES     128665\n",
      "dtype: int64\n",
      "\n",
      "Dataset:2010\n",
      "\n",
      "Number of null values in each column:\n",
      " PID                 0\n",
      "LU                  0\n",
      "AV_TOTAL            0\n",
      "GROSS_AREA        124\n",
      "LIVING_AREA       124\n",
      "R_BDRMS         68906\n",
      "YR_REMOD        17732\n",
      "S_UNIT_RES     130158\n",
      "dtype: int64\n",
      "\n",
      "Dataset:2011\n",
      "\n",
      "Number of null values in each column:\n",
      " PID                 0\n",
      "LU                  0\n",
      "AV_TOTAL            0\n",
      "GROSS_AREA        124\n",
      "LIVING_AREA       124\n",
      "R_BDRMS         69848\n",
      "YR_REMOD        18308\n",
      "S_UNIT_RES     132184\n",
      "dtype: int64\n",
      "\n",
      "Dataset:2012\n",
      "\n",
      "Number of null values in each column:\n",
      " PID                 0\n",
      "LU                  0\n",
      "AV_TOTAL            0\n",
      "GROSS_AREA        174\n",
      "LIVING_AREA       174\n",
      "R_BDRMS         70690\n",
      "YR_REMOD        18791\n",
      "S_UNIT_RES     133125\n",
      "dtype: int64\n",
      "\n",
      "Dataset:2013\n",
      "\n",
      "Number of null values in each column:\n",
      " PID                 0\n",
      "LU                  0\n",
      "AV_TOTAL            0\n",
      "GROSS_AREA        194\n",
      "LIVING_AREA       194\n",
      "R_BDRMS         71086\n",
      "YR_REMOD        19049\n",
      "S_UNIT_RES     133497\n",
      "dtype: int64\n",
      "\n",
      "Dataset:2014\n",
      "\n",
      "Number of null values in each column:\n",
      " Parcel_ID        0\n",
      "LU               0\n",
      "AV_TOTAL         0\n",
      "GROSS_AREA     193\n",
      "LIVING_AREA    193\n",
      "R_BDRMS          0\n",
      "YR_REMOD         0\n",
      "S_UNIT_RES       2\n",
      "dtype: int64\n",
      "\n",
      "Dataset:2015\n",
      "\n",
      "Number of null values in each column:\n",
      " PID                 0\n",
      "LU                  0\n",
      "AV_TOTAL            0\n",
      "GROSS_AREA        193\n",
      "LIVING_AREA       192\n",
      "R_BDRMS         72242\n",
      "YR_REMOD        19429\n",
      "S_UNIT_RES     134784\n",
      "dtype: int64\n",
      "\n",
      "Dataset:2016\n",
      "\n",
      "Number of null values in each column:\n",
      " PID                 0\n",
      "LU                  0\n",
      "AV_TOTAL            0\n",
      "GROSS_AREA        131\n",
      "LIVING_AREA       131\n",
      "R_BDRMS         72678\n",
      "YR_REMOD        19451\n",
      "S_UNIT_RES     135018\n",
      "dtype: int64\n",
      "\n",
      "Dataset:2017\n",
      "\n",
      "Number of null values in each column:\n",
      " PID                 0\n",
      "LU                  0\n",
      "AV_TOTAL            0\n",
      "GROSS_AREA        130\n",
      "LIVING_AREA       130\n",
      "R_BDRMS         73360\n",
      "YR_REMOD        20061\n",
      "S_UNIT_RES     135572\n",
      "dtype: int64\n",
      "\n",
      "Dataset:2018\n",
      "\n",
      "Number of null values in each column:\n",
      " PID                 0\n",
      "LU                  0\n",
      "AV_TOTAL            0\n",
      "GROSS_AREA        126\n",
      "LIVING_AREA       126\n",
      "R_BDRMS         74631\n",
      "YR_REMOD        21245\n",
      "S_UNIT_RES     136709\n",
      "dtype: int64\n",
      "\n",
      "Dataset:2019\n",
      "\n",
      "Number of null values in each column:\n",
      " PID                 0\n",
      "LU                  0\n",
      "AV_TOTAL            0\n",
      "GROSS_AREA        124\n",
      "LIVING_AREA       124\n",
      "R_BDRMS         75786\n",
      "YR_REMOD        21115\n",
      "S_UNIT_RES     137671\n",
      "dtype: int64\n",
      "\n",
      "Dataset:2020\n",
      "\n",
      "Number of null values in each column:\n",
      " PID                 0\n",
      "LU                  0\n",
      "AV_TOTAL            0\n",
      "GROSS_AREA       6652\n",
      "LIVING_AREA      6652\n",
      "R_BDRMS         77462\n",
      "YR_REMOD        65339\n",
      "S_UNIT_RES     138802\n",
      "dtype: int64\n",
      "\n",
      "Dataset:2021\n",
      "\n",
      "Number of null values in each column:\n",
      " PID                0\n",
      "LU                 0\n",
      "TOTAL_VALUE      176\n",
      "GROSS_AREA      6601\n",
      "LIVING_AREA     6602\n",
      "BED_RMS        14445\n",
      "YR_REMODEL     68062\n",
      "RES_UNITS      74534\n",
      "dtype: int64\n",
      "\n",
      "Dataset:2022\n",
      "\n",
      "Number of null values in each column:\n",
      " PID                0\n",
      "LU                 0\n",
      "TOTAL_VALUE      176\n",
      "GROSS_AREA      6477\n",
      "LIVING_AREA     6477\n",
      "BED_RMS            0\n",
      "YR_REMODEL     65113\n",
      "RES_UNITS          0\n",
      "dtype: int64\n",
      "\n",
      "Dataset:2023\n",
      "\n",
      "Number of null values in each column:\n",
      " PID                 0\n",
      "LU                  0\n",
      "TOTAL_VALUE         0\n",
      "GROSS_AREA        553\n",
      "LIVING_AREA       555\n",
      "BED_RMS          5254\n",
      "YR_REMODEL      58972\n",
      "RES_UNITS      137058\n",
      "dtype: int64\n",
      "\n",
      "Dataset:2024\n",
      "\n",
      "Number of null values in each column:\n",
      " PID                 0\n",
      "LU                  0\n",
      "TOTAL_VALUE         0\n",
      "GROSS_AREA        559\n",
      "LIVING_AREA       561\n",
      "BED_RMS          5245\n",
      "YR_REMODEL      58886\n",
      "RES_UNITS      138171\n",
      "dtype: int64\n"
     ]
    }
   ],
   "source": [
    "for year, dataset in LU_filtered_pa_data.items():\n",
    "    \n",
    "    print(\"\")\n",
    "    print(\"Dataset:\"+str(year))\n",
    "    print(\"\")\n",
    "    null_counts = dataset.isnull().sum()\n",
    "    print(\"Number of null values in each column:\\n\", null_counts)"
   ]
  },
  {
   "cell_type": "markdown",
   "metadata": {},
   "source": [
    "Given the substantial number of null values in several columns across the datasets, particularly in columns like R_BDRMS, YR_REMOD, and S_UNIT_RES, dropping all rows with nulls might lead to significant data loss, which could affect the analysis."
   ]
  },
  {
   "cell_type": "markdown",
   "metadata": {},
   "source": [
    "## Bedroom Analysis - pt.2"
   ]
  },
  {
   "cell_type": "markdown",
   "metadata": {},
   "source": [
    "However for starters i want to see how the average bedrooms have changed over the years so for this case lets drop the rows without bedrooms as they wont contribute anyway."
   ]
  },
  {
   "cell_type": "code",
   "execution_count": 53,
   "metadata": {},
   "outputs": [
    {
     "name": "stdout",
     "output_type": "stream",
     "text": [
      "Year 2008: Average Bedrooms = 4.60\n",
      "Year 2009: Average Bedrooms = 4.60\n",
      "Year 2010: Average Bedrooms = 4.61\n",
      "Year 2011: Average Bedrooms = 4.60\n",
      "Year 2012: Average Bedrooms = 4.60\n",
      "Year 2013: Average Bedrooms = 4.61\n",
      "Year 2014: Average Bedrooms = 1.77\n",
      "Year 2015: Average Bedrooms = 4.63\n",
      "Year 2016: Average Bedrooms = 4.64\n",
      "Year 2017: Average Bedrooms = 4.65\n",
      "Year 2018: Average Bedrooms = 4.66\n",
      "Year 2019: Average Bedrooms = 4.68\n",
      "Year 2020: Average Bedrooms = 4.67\n",
      "Year 2021: Average Bedrooms = 3.25\n",
      "Year 2022: Average Bedrooms = 2.34\n",
      "Year 2023: Average Bedrooms = 3.16\n",
      "Year 2024: Average Bedrooms = 3.15\n"
     ]
    }
   ],
   "source": [
    "# Example assuming pa_data is your dictionary of DataFrames\n",
    "average_bedrooms_per_year = {}\n",
    "filtered_bedroom_dfs = {}\n",
    "years_where_bedrooms_name_changed = [2021, 2022, 2023, 2024]\n",
    "\n",
    "for year, df in pa_data.items():\n",
    "    if year in years_where_bedrooms_name_changed:\n",
    "\n",
    "        # Drop rows where 'R_BDRMS' is NaN\n",
    "        df_filtered = df.dropna(subset=['BED_RMS'])\n",
    "        filtered_bedroom_dfs[year] = df_filtered\n",
    "        # Calculate the mean of 'R_BDRMS'\n",
    "        average_bedrooms = df_filtered['BED_RMS'].mean()\n",
    "        # Store the average in the dictionary\n",
    "        average_bedrooms_per_year[year] = average_bedrooms\n",
    "    else:\n",
    "        # Drop rows where 'R_BDRMS' is NaN\n",
    "        df_filtered = df.dropna(subset=['R_BDRMS'])\n",
    "        filtered_bedroom_dfs[year] = df_filtered\n",
    "        # Calculate the mean of 'R_BDRMS'\n",
    "        average_bedrooms = df_filtered['R_BDRMS'].mean()\n",
    "        # Store the average in the dictionary\n",
    "        average_bedrooms_per_year[year] = average_bedrooms\n",
    "\n",
    "# Print the results\n",
    "for year, avg in average_bedrooms_per_year.items():\n",
    "    print(f\"Year {year}: Average Bedrooms = {avg:.2f}\")"
   ]
  },
  {
   "cell_type": "code",
   "execution_count": 54,
   "metadata": {},
   "outputs": [
    {
     "data": {
      "image/png": "[encoded data removed]",
      "text/plain": [
       "<Figure size 1000x600 with 1 Axes>"
      ]
     },
     "metadata": {},
     "output_type": "display_data"
    }
   ],
   "source": [
    "years = list(average_bedrooms_per_year.keys())\n",
    "average_bedrooms = list(average_bedrooms_per_year.values())\n",
    "\n",
    "plt.figure(figsize=(10, 6))\n",
    "plt.plot(years, average_bedrooms, marker='o')\n",
    "plt.title('Average Number of Bedrooms Per Year')\n",
    "plt.xlabel('Year')\n",
    "plt.ylabel('Average Bedrooms')\n",
    "plt.grid(True)\n",
    "plt.xticks(years, rotation=45)  # Rotate years for better readability\n",
    "plt.tight_layout()\n",
    "plt.show()"
   ]
  },
  {
   "cell_type": "markdown",
   "metadata": {},
   "source": [
    "Took a look at the 2014 data and saw that instead of rows being filled with null values they have been filled with zeroes, so lets modify that to drop rows with zero."
   ]
  },
  {
   "cell_type": "code",
   "execution_count": 55,
   "metadata": {},
   "outputs": [],
   "source": [
    "data_2014 = pa_data[2014]\n",
    "\n",
    "# Drop rows where 'R_BDRMS' is NaN\n",
    "data_2014_filtered = data_2014.dropna(subset=['R_BDRMS'])\n",
    "\n",
    "# Drop rows where 'R_BDRMS' is 0\n",
    "data_2014_filtered_no_zeroes = data_2014_filtered[data_2014_filtered['R_BDRMS'] != 0]\n",
    "\n",
    "# Calculate the mean of 'R_BDRMS'\n",
    "average_bedrooms = data_2014_filtered_no_zeroes['R_BDRMS'].mean()\n",
    "\n",
    "# Store the average in the dictionary\n",
    "average_bedrooms_per_year[2014] = average_bedrooms\n",
    "\n",
    "# Store DF in dictionary\n",
    "filtered_bedroom_dfs[2014] = data_2014_filtered_no_zeroes"
   ]
  },
  {
   "cell_type": "code",
   "execution_count": 56,
   "metadata": {},
   "outputs": [
    {
     "data": {
      "image/png": "[encoded data removed]",
      "text/plain": [
       "<Figure size 1000x600 with 1 Axes>"
      ]
     },
     "metadata": {},
     "output_type": "display_data"
    }
   ],
   "source": [
    "years = list(average_bedrooms_per_year.keys())\n",
    "average_bedrooms = list(average_bedrooms_per_year.values())\n",
    "\n",
    "plt.figure(figsize=(10, 6))\n",
    "plt.plot(years, average_bedrooms, marker='o')\n",
    "plt.title('Average Number of Bedrooms Per Year')\n",
    "plt.xlabel('Year')\n",
    "plt.ylabel('Average Bedrooms')\n",
    "plt.grid(True)\n",
    "plt.xticks(years, rotation=45)  # Rotate years for better readability\n",
    "plt.tight_layout()\n",
    "plt.show()"
   ]
  },
  {
   "cell_type": "markdown",
   "metadata": {},
   "source": [
    "From this we can see a clear decrease in the average number of bedrooms across boston. Now i want to collate all pids that we can so we can see if this decrease is due to renovations."
   ]
  },
  {
   "cell_type": "markdown",
   "metadata": {},
   "source": [
    "## Renovations Analysis"
   ]
  },
  {
   "cell_type": "markdown",
   "metadata": {},
   "source": [
    "Heres the game plan: \n",
    "\n",
    "\n",
    "1. First lets group properties by pid across the years in the dataset.\n",
    "\n",
    "2. Once done, check if a property has been remodeled in the range of the years we have, so from 2008 to 2024. If it has, then in a separate dataset, store the first mention of that pid, the year it was renovated, and the final year, 2024.\n",
    "\n",
    "3. Then check if the renovation led to bedrooms and living area decreases\n",
    "\n",
    "4. If it has led to a decrease, let’s collate those results using binning so we can see how many units have lost space.\n",
    "\n",
    "5. Using the dataset from step 3, we want to then create another dataset that stores 1 row for each PID. On that, we want to know how much living area and how many bedrooms have been lost.\n",
    "\n",
    "6. On average, how many rooms have been lost? On average, how much of the living space has been lost? \n"
   ]
  },
  {
   "cell_type": "markdown",
   "metadata": {},
   "source": [
    "### Step 1 - Group the data"
   ]
  },
  {
   "cell_type": "markdown",
   "metadata": {},
   "source": [
    "Lets start by collating all the data."
   ]
  },
  {
   "cell_type": "code",
   "execution_count": 64,
   "metadata": {},
   "outputs": [],
   "source": [
    "# Create a list to store the modified DataFrames for each year\n",
    "bedroom_data_with_years = []\n",
    "\n",
    "# Iterate over each year and add a 'YEAR' column to the corresponding DataFrame\n",
    "for year in range(2008, 2025):\n",
    "    df = filtered_bedroom_dfs[year].copy()\n",
    "    df['YEAR'] = year\n",
    "    bedroom_data_with_years.append(df)\n",
    "\n",
    "# Concatenate the modified DataFrames\n",
    "all_years_filtered_bedroom_data = pd.concat(bedroom_data_with_years, ignore_index=True)\n"
   ]
  },
  {
   "cell_type": "code",
   "execution_count": 65,
   "metadata": {},
   "outputs": [
    {
     "name": "stdout",
     "output_type": "stream",
     "text": [
      "         PID  LU  FY2008_TOTAL  GROSS_AREA  LIVING_AREA  R_BDRMS  YR_REMOD  \\\n",
      "0  100001000  R3      365200.0      3353.0       2202.0      6.0       NaN   \n",
      "1  100002000  R3      432100.0      3323.0       2307.0      3.0    2000.0   \n",
      "2  100003000  R3      394200.0      3392.0       2268.0      5.0    1985.0   \n",
      "3  100004000  R3      407000.0      3108.0       2028.0      5.0    1991.0   \n",
      "4  100005000  R2      352800.0      3700.0       2546.0      6.0    1978.0   \n",
      "\n",
      "   S_UNIT_RES  Year  YEAR  AV_TOTAL Parcel_ID TOTAL_VALUE  BED_RMS  \\\n",
      "0         NaN  2008  2008       NaN       NaN         NaN      NaN   \n",
      "1         NaN  2008  2008       NaN       NaN         NaN      NaN   \n",
      "2         NaN  2008  2008       NaN       NaN         NaN      NaN   \n",
      "3         NaN  2008  2008       NaN       NaN         NaN      NaN   \n",
      "4         NaN  2008  2008       NaN       NaN         NaN      NaN   \n",
      "\n",
      "   YR_REMODEL  RES_UNITS  \n",
      "0         NaN        NaN  \n",
      "1         NaN        NaN  \n",
      "2         NaN        NaN  \n",
      "3         NaN        NaN  \n",
      "4         NaN        NaN  \n"
     ]
    }
   ],
   "source": [
    "print(all_years_filtered_bedroom_data.head())"
   ]
  },
  {
   "cell_type": "code",
   "execution_count": 67,
   "metadata": {},
   "outputs": [],
   "source": [
    "# Group the data by PID\n",
    "grouped_bedroom_data = all_years_filtered_bedroom_data.groupby('PID')"
   ]
  },
  {
   "cell_type": "code",
   "execution_count": 70,
   "metadata": {},
   "outputs": [
    {
     "name": "stdout",
     "output_type": "stream",
     "text": [
      "                PID  LU  FY2008_TOTAL  GROSS_AREA  LIVING_AREA  R_BDRMS  \\\n",
      "0         100001000  R3      365200.0      3353.0       2202.0      6.0   \n",
      "1         100002000  R3      432100.0      3323.0       2307.0      3.0   \n",
      "2         100003000  R3      394200.0      3392.0       2268.0      5.0   \n",
      "3         100004000  R3      407000.0      3108.0       2028.0      5.0   \n",
      "4         100005000  R2      352800.0      3700.0       2546.0      6.0   \n",
      "...             ...  ..           ...         ...          ...      ...   \n",
      "1386875  2205629004  CD           NaN      1462.0       1462.0      NaN   \n",
      "1386888  2205642002  CD           NaN      1210.0       1210.0      NaN   \n",
      "1386889  2205642004  CD           NaN      1388.0       1388.0      NaN   \n",
      "1386917  2205665002  CD           NaN      2777.0       1410.0      NaN   \n",
      "1386918  2205665004  CD           NaN      1401.0       1401.0      NaN   \n",
      "\n",
      "         YR_REMOD  S_UNIT_RES  Year  YEAR  AV_TOTAL Parcel_ID TOTAL_VALUE  \\\n",
      "0             NaN         NaN  2008  2008       NaN       NaN         NaN   \n",
      "1          2000.0         NaN  2008  2008       NaN       NaN         NaN   \n",
      "2          1985.0         NaN  2008  2008       NaN       NaN         NaN   \n",
      "3          1991.0         NaN  2008  2008       NaN       NaN         NaN   \n",
      "4          1978.0         NaN  2008  2008       NaN       NaN         NaN   \n",
      "...           ...         ...   ...   ...       ...       ...         ...   \n",
      "1386875       NaN         NaN  2024  2024       NaN       NaN     513,000   \n",
      "1386888       NaN         NaN  2024  2024       NaN       NaN     475,600   \n",
      "1386889       NaN         NaN  2024  2024       NaN       NaN     462,400   \n",
      "1386917       NaN         NaN  2024  2024       NaN       NaN     545,100   \n",
      "1386918       NaN         NaN  2024  2024       NaN       NaN     494,800   \n",
      "\n",
      "         BED_RMS  YR_REMODEL  RES_UNITS  \n",
      "0            NaN         NaN        NaN  \n",
      "1            NaN         NaN        NaN  \n",
      "2            NaN         NaN        NaN  \n",
      "3            NaN         NaN        NaN  \n",
      "4            NaN         NaN        NaN  \n",
      "...          ...         ...        ...  \n",
      "1386875      2.0      2001.0        NaN  \n",
      "1386888      2.0      2015.0        NaN  \n",
      "1386889      2.0      1988.0        NaN  \n",
      "1386917      3.0         NaN        NaN  \n",
      "1386918      2.0         NaN        NaN  \n",
      "\n",
      "[832600 rows x 16 columns]\n"
     ]
    }
   ],
   "source": [
    "print(grouped_bedroom_data.head())"
   ]
  }
 ],
 "metadata": {
  "kernelspec": {
   "display_name": "Python 3",
   "language": "python",
   "name": "python3"
  },
  "language_info": {
   "codemirror_mode": {
    "name": "ipython",
    "version": 3
   },
   "file_extension": ".py",
   "mimetype": "text/x-python",
   "name": "python",
   "nbconvert_exporter": "python",
   "pygments_lexer": "ipython3",
   "version": "3.12.0"
  },
  "orig_nbformat": 4
 },
 "nbformat": 4,
 "nbformat_minor": 2
}
