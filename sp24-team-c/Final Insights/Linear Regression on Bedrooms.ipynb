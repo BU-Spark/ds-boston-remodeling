{
 "cells": [
  {
   "cell_type": "markdown",
   "metadata": {},
   "source": [
    "# Linear Regression with Bedrooms as the dependant Variables"
   ]
  },
  {
   "cell_type": "markdown",
   "metadata": {},
   "source": [
    "These are the dependant variables which i think would be interesting to look into:\n",
    "\n",
    "**LIVING_AREA**: The size of the living area may be predictive of the number of bedrooms.\n",
    "\n",
    "**LAND_SF**: The size of the land could also influence the number of bedrooms a property can support.\n",
    "\n",
    "**TOTAL_VALUE**: The total value of the property might be related to the number of bedrooms, as larger homes tend to be more valuable.\n",
    "\n",
    "**GROSS_TAX**: Maybe the amount a property is taxed affects the number of bedrooms\n",
    "\n",
    "**GROSS_AREA**: Similar to living area, but this includes all space within the building(s), which could correlate with bedrooms.\n",
    "\n",
    "**HEAT_TYPE and AC_TYPE**: These might be proxies for the overall quality or luxury level of a property, which could in turn be related to the number of bedrooms.\n",
    "\n",
    "**EXT_FIN**: The exterior finish of the building after a renovation may correlate to bedrooms \n",
    "\n",
    "**KITCHEN_TYP**: The type of kitchen may also influence bedrooms\n",
    "\n",
    "**FPLACE**: Similarly, the number of fireplaces may indicate the luxury of certain properties.\n",
    "\n",
    "**OVERALL_COND**: The overall condition of the property could influence bedroom count if properties in better condition are more likely to have been expanded or improved.\n",
    "\n",
    "**ROOF_STRUCTURE and ROOF_COVER**: These might not directly influence the number of bedrooms, but they could be related to other property improvements that coincide with bedroom changes."
   ]
  },
  {
   "cell_type": "code",
   "execution_count": 17,
   "metadata": {},
   "outputs": [],
   "source": [
    "import pandas as pd\n",
    "import numpy as np\n",
    "import matplotlib.pyplot as plt\n",
    "import matplotlib.ticker as ticker\n",
    "import seaborn as sns"
   ]
  },
  {
   "cell_type": "code",
   "execution_count": 18,
   "metadata": {},
   "outputs": [
    {
     "name": "stderr",
     "output_type": "stream",
     "text": [
      "/var/folders/m7/r7m7ht2j7jbfb00kv5p9d0q00000gn/T/ipykernel_40638/1485104755.py:16: DtypeWarning: Columns (21) have mixed types. Specify dtype option on import or set low_memory=False.\n",
      "  pa_2024 = pd.read_csv('../data/property_assessment_2024.csv')[['PID','LU', 'TOTAL_VALUE', 'GROSS_AREA', 'LIVING_AREA', 'BED_RMS', 'YR_REMODEL', 'LAND_SF', 'ROOF_STRUCTURE', 'ROOF_COVER', 'INT_WALL', 'EXT_FNISHED', 'OVERALL_COND', 'FULL_BTH', 'HLF_BTH', 'KITCHEN_TYPE', 'HEAT_TYPE', 'AC_TYPE', 'FIREPLACES', 'GROSS_TAX']]\n"
     ]
    }
   ],
   "source": [
    "# pa_2014 = pd.read_csv('../data/property-assessment-fy2014.csv')[['Parcel_ID','LU', 'AV_TOTAL', 'GROSS_AREA', 'LIVING_AREA', 'R_BDRMS', 'YR_REMOD', 'LAND_SF', 'R_ROOF_TYP', 'R_EXT_FIN', 'R_KITCH', 'R_HEAT_TYP', 'R_AC', 'R_FPLACE', 'R_OVRALL_CND']] \n",
    "\n",
    "\n",
    "# pa_2015 = pd.read_csv('../data/property_assessment_2015.csv')[['PID','LU', 'AV_TOTAL', 'GROSS_AREA', 'LIVING_AREA', 'R_BDRMS', 'YR_REMOD',  'LAND_SF', 'R_ROOF_TYP', 'R_EXT_FIN', 'R_KITCH', 'R_HEAT_TYP', 'R_AC', 'R_FPLACE']] \n",
    "# pa_2016 = pd.read_csv('../data/property_assessment_2016.csv')[['PID','LU', 'AV_TOTAL', 'GROSS_AREA', 'LIVING_AREA', 'R_BDRMS', 'YR_REMOD',  'LAND_SF', 'R_ROOF_TYP', 'R_EXT_FIN', 'R_KITCH', 'R_HEAT_TYP', 'R_AC', 'R_FPLACE']] \n",
    "# pa_2017 = pd.read_csv('../data/property_assessment_2017.csv')[['PID','LU', 'AV_TOTAL', 'GROSS_AREA', 'LIVING_AREA', 'R_BDRMS', 'YR_REMOD', 'LAND_SF', 'R_ROOF_TYP', 'R_EXT_FIN', 'R_KITCH', 'R_HEAT_TYP', 'R_AC', 'R_FPLACE']] \n",
    "# pa_2018 = pd.read_csv('../data/property_assessment_2018.csv')[['PID','LU', 'AV_TOTAL', 'GROSS_AREA', 'LIVING_AREA', 'R_BDRMS', 'YR_REMOD', 'LAND_SF', 'R_ROOF_TYP', 'R_EXT_FIN', 'R_KITCH', 'R_HEAT_TYP', 'R_AC', 'R_FPLACE']] \n",
    "# pa_2019 = pd.read_csv('../data/property_assessment_2019.csv')[['PID','LU', 'AV_TOTAL', 'GROSS_AREA', 'LIVING_AREA', 'R_BDRMS', 'YR_REMOD', 'LAND_SF', 'R_ROOF_TYP', 'R_EXT_FIN', 'R_KITCH', 'R_HEAT_TYP', 'R_AC', 'R_FPLACE']] \n",
    "pa_2020 = pd.read_csv('../data/property_assessment_2020.csv')[['PID','LU', 'AV_TOTAL', 'GROSS_AREA', 'LIVING_AREA', 'R_BDRMS', 'YR_REMOD', 'LAND_SF', 'R_ROOF_TYP', 'R_EXT_FIN', 'R_KITCH', 'R_HEAT_TYP', 'R_AC', 'R_FPLACE']] \n",
    "\n",
    "pa_2021 = pd.read_csv('../data/property_assessment_2021.csv')[['PID','LU', 'TOTAL_VALUE', 'GROSS_AREA', 'LIVING_AREA', 'BED_RMS', 'YR_REMODEL', 'LAND_SF', 'ROOF_STRUCTURE', 'ROOF_COVER', 'INT_WALL', 'EXT_FINISHED', 'OVERALL_COND', 'FULL_BTH', 'HLF_BTH', 'KITCHEN_TYPE', 'HEAT_TYPE', 'AC_TYPE', 'FIRE_PLACE', 'GROSS_TAX']]  \n",
    "# AV_Total is now TOTAL_VALUE, R_BDRMS is now BED_RMS\n",
    "\n",
    "pa_2022 = pd.read_csv('../data/property_assessment_2022.csv')[['PID','LU', 'TOTAL_VALUE', 'GROSS_AREA', 'LIVING_AREA', 'BED_RMS', 'YR_REMODEL', 'LAND_SF', 'ROOF_STRUCTURE', 'ROOF_COVER', 'INT_WALL', 'EXT_FINISHED', 'OVERALL_COND', 'FULL_BTH', 'HLF_BTH', 'KITCHEN_TYPE', 'HEAT_TYPE', 'AC_TYPE', 'FIRE_PLACE', 'GROSS_TAX']]   \n",
    "pa_2023 = pd.read_csv('../data/property_assessment_2023.csv')[['PID','LU', 'TOTAL_VALUE', 'GROSS_AREA', 'LIVING_AREA', 'BED_RMS', 'YR_REMODEL', 'LAND_SF', 'ROOF_STRUCTURE', 'ROOF_COVER', 'INT_WALL', 'EXT_FNISHED', 'OVERALL_COND', 'FULL_BTH', 'HLF_BTH', 'KITCHEN_TYPE', 'HEAT_TYPE', 'AC_TYPE', 'FIREPLACES', 'GROSS_TAX']]  \n",
    "pa_2024 = pd.read_csv('../data/property_assessment_2024.csv')[['PID','LU', 'TOTAL_VALUE', 'GROSS_AREA', 'LIVING_AREA', 'BED_RMS', 'YR_REMODEL', 'LAND_SF', 'ROOF_STRUCTURE', 'ROOF_COVER', 'INT_WALL', 'EXT_FNISHED', 'OVERALL_COND', 'FULL_BTH', 'HLF_BTH', 'KITCHEN_TYPE', 'HEAT_TYPE', 'AC_TYPE', 'FIREPLACES', 'GROSS_TAX']]   "
   ]
  },
  {
   "cell_type": "code",
   "execution_count": 19,
   "metadata": {},
   "outputs": [],
   "source": [
    "# Store the DataFrames in a dictionary for easier access\n",
    "pa_data = {\n",
    "    2021: pa_2021,\n",
    "    2022: pa_2022,\n",
    "    2023: pa_2023,\n",
    "    2024: pa_2024,\n",
    "}\n",
    "\n",
    "LU_filtered_pa_data = {}\n",
    "\n",
    "residential_codes = ['R1', 'R2', 'R3', 'RC', 'R4', 'A', 'CD']\n",
    "\n",
    "# Loop through each year's DataFrame and filter it\n",
    "for year, df in pa_data.items():\n",
    "    LU_filtered_pa_data[year] = df[df['LU'].isin(residential_codes)]"
   ]
  },
  {
   "cell_type": "code",
   "execution_count": 20,
   "metadata": {},
   "outputs": [],
   "source": [
    "\n",
    "average_bedrooms_per_year = {}\n",
    "filtered_bedroom_dfs = {}\n",
    "years_where_bedrooms_name_changed = [2021, 2022, 2023, 2024]\n",
    "\n",
    "for year, df in pa_data.items():\n",
    "    if year in years_where_bedrooms_name_changed:\n",
    "\n",
    "        # Drop rows where 'R_BDRMS' is NaN\n",
    "        df_filtered = df.dropna(subset=['BED_RMS'])\n",
    "        filtered_bedroom_dfs[year] = df_filtered\n",
    "        # Calculate the mean of 'R_BDRMS'\n",
    "        average_bedrooms = df_filtered['BED_RMS'].mean()\n",
    "        # Store the average in the dictionary\n",
    "        average_bedrooms_per_year[year] = average_bedrooms\n",
    "    else:\n",
    "        # Drop rows where 'R_BDRMS' is NaN\n",
    "        df_filtered = df.dropna(subset=['R_BDRMS'])\n",
    "        filtered_bedroom_dfs[year] = df_filtered\n",
    "        # Calculate the mean of 'R_BDRMS'\n",
    "        average_bedrooms = df_filtered['R_BDRMS'].mean()\n",
    "        # Store the average in the dictionary\n",
    "        average_bedrooms_per_year[year] = average_bedrooms"
   ]
  },
  {
   "cell_type": "code",
   "execution_count": 21,
   "metadata": {},
   "outputs": [],
   "source": [
    "data_2022 = pa_data[2022]\n",
    "\n",
    "# Drop rows where 'R_BDRMS' is NaN\n",
    "data_2022_filtered = data_2022.dropna(subset=['BED_RMS'])\n",
    "\n",
    "# Drop rows where 'R_BDRMS' is 0\n",
    "data_2022_filtered_no_zeroes = data_2022_filtered[data_2022_filtered['BED_RMS'] != 0]\n",
    "\n",
    "# Store DF in dictionary\n",
    "filtered_bedroom_dfs[2022] = data_2022_filtered_no_zeroes"
   ]
  },
  {
   "cell_type": "code",
   "execution_count": 22,
   "metadata": {},
   "outputs": [],
   "source": [
    "# Create a list to store the modified DataFrames for each year\n",
    "bedroom_data_with_years = []\n",
    "\n",
    "# Iterate over each year and add a 'DATA_YEAR' column to the corresponding DataFrame\n",
    "for year in range(2021, 2025):\n",
    "    df = filtered_bedroom_dfs[year].copy()\n",
    "    df['DATA_YEAR'] = year\n",
    "    bedroom_data_with_years.append(df)\n",
    "\n",
    "# Concatenate the modified DataFrames\n",
    "all_years_filtered_bedroom_data = pd.concat(bedroom_data_with_years, ignore_index=True)"
   ]
  },
  {
   "cell_type": "code",
   "execution_count": 23,
   "metadata": {},
   "outputs": [],
   "source": [
    "# Group the data by PID\n",
    "sorted_by_pid = all_years_filtered_bedroom_data.sort_values(by=['PID', 'DATA_YEAR'])\n",
    "grouped_bedroom_data = sorted_by_pid.groupby('PID')"
   ]
  },
  {
   "cell_type": "code",
   "execution_count": 25,
   "metadata": {},
   "outputs": [],
   "source": [
    "# Define a new DataFrame for the before and after renovation data\n",
    "renovation_comparison = pd.DataFrame()"
   ]
  },
  {
   "cell_type": "code",
   "execution_count": 26,
   "metadata": {},
   "outputs": [
    {
     "ename": "AttributeError",
     "evalue": "'DataFrameGroupBy' object has no attribute 'groupby'",
     "output_type": "error",
     "traceback": [
      "\u001b[0;31m---------------------------------------------------------------------------\u001b[0m",
      "\u001b[0;31mAttributeError\u001b[0m                            Traceback (most recent call last)",
      "\u001b[1;32m/Users/rsudhir/Documents/GitHub/ds-boston-remodeling/sp24-team-c/Final Insights/Linear Regression on Bedrooms.ipynb Cell 11\u001b[0m line \u001b[0;36m4\n\u001b[1;32m      <a href='vscode-notebook-cell:/Users/rsudhir/Documents/GitHub/ds-boston-remodeling/sp24-team-c/Final%20Insights/Linear%20Regression%20on%20Bedrooms.ipynb#X13sZmlsZQ%3D%3D?line=0'>1</a>\u001b[0m rows_to_append \u001b[39m=\u001b[39m []  \u001b[39m# Initialize an empty list to collect DataFrames\u001b[39;00m\n\u001b[1;32m      <a href='vscode-notebook-cell:/Users/rsudhir/Documents/GitHub/ds-boston-remodeling/sp24-team-c/Final%20Insights/Linear%20Regression%20on%20Bedrooms.ipynb#X13sZmlsZQ%3D%3D?line=2'>3</a>\u001b[0m \u001b[39m# Loop over each PID and process the groups\u001b[39;00m\n\u001b[0;32m----> <a href='vscode-notebook-cell:/Users/rsudhir/Documents/GitHub/ds-boston-remodeling/sp24-team-c/Final%20Insights/Linear%20Regression%20on%20Bedrooms.ipynb#X13sZmlsZQ%3D%3D?line=3'>4</a>\u001b[0m \u001b[39mfor\u001b[39;00m pid, group \u001b[39min\u001b[39;00m grouped_bedroom_data\u001b[39m.\u001b[39;49mgroupby(\u001b[39m'\u001b[39m\u001b[39mPID\u001b[39m\u001b[39m'\u001b[39m):\n\u001b[1;32m      <a href='vscode-notebook-cell:/Users/rsudhir/Documents/GitHub/ds-boston-remodeling/sp24-team-c/Final%20Insights/Linear%20Regression%20on%20Bedrooms.ipynb#X13sZmlsZQ%3D%3D?line=4'>5</a>\u001b[0m     \u001b[39m# Ensure the group is sorted by year\u001b[39;00m\n\u001b[1;32m      <a href='vscode-notebook-cell:/Users/rsudhir/Documents/GitHub/ds-boston-remodeling/sp24-team-c/Final%20Insights/Linear%20Regression%20on%20Bedrooms.ipynb#X13sZmlsZQ%3D%3D?line=5'>6</a>\u001b[0m     group \u001b[39m=\u001b[39m group\u001b[39m.\u001b[39msort_values(by\u001b[39m=\u001b[39m\u001b[39m'\u001b[39m\u001b[39mDATA_YEAR\u001b[39m\u001b[39m'\u001b[39m)\n\u001b[1;32m      <a href='vscode-notebook-cell:/Users/rsudhir/Documents/GitHub/ds-boston-remodeling/sp24-team-c/Final%20Insights/Linear%20Regression%20on%20Bedrooms.ipynb#X13sZmlsZQ%3D%3D?line=7'>8</a>\u001b[0m     \u001b[39m# Get all the remodel years for the PID that fall between 2008 and 2023\u001b[39;00m\n",
      "File \u001b[0;32m/Library/Frameworks/Python.framework/Versions/3.12/lib/python3.12/site-packages/pandas/core/groupby/groupby.py:1312\u001b[0m, in \u001b[0;36mGroupBy.__getattr__\u001b[0;34m(self, attr)\u001b[0m\n\u001b[1;32m   1309\u001b[0m \u001b[39mif\u001b[39;00m attr \u001b[39min\u001b[39;00m \u001b[39mself\u001b[39m\u001b[39m.\u001b[39mobj:\n\u001b[1;32m   1310\u001b[0m     \u001b[39mreturn\u001b[39;00m \u001b[39mself\u001b[39m[attr]\n\u001b[0;32m-> 1312\u001b[0m \u001b[39mraise\u001b[39;00m \u001b[39mAttributeError\u001b[39;00m(\n\u001b[1;32m   1313\u001b[0m     \u001b[39mf\u001b[39m\u001b[39m\"\u001b[39m\u001b[39m'\u001b[39m\u001b[39m{\u001b[39;00m\u001b[39mtype\u001b[39m(\u001b[39mself\u001b[39m)\u001b[39m.\u001b[39m\u001b[39m__name__\u001b[39m\u001b[39m}\u001b[39;00m\u001b[39m'\u001b[39m\u001b[39m object has no attribute \u001b[39m\u001b[39m'\u001b[39m\u001b[39m{\u001b[39;00mattr\u001b[39m}\u001b[39;00m\u001b[39m'\u001b[39m\u001b[39m\"\u001b[39m\n\u001b[1;32m   1314\u001b[0m )\n",
      "\u001b[0;31mAttributeError\u001b[0m: 'DataFrameGroupBy' object has no attribute 'groupby'"
     ]
    }
   ],
   "source": [
    "rows_to_append = []  # Initialize an empty list to collect DataFrames\n",
    "\n",
    "# Loop over each PID and process the groups\n",
    "for pid, group in grouped_bedroom_data.groupby('PID'):\n",
    "    # Ensure the group is sorted by year\n",
    "    group = group.sort_values(by='DATA_YEAR')\n",
    "    \n",
    "    # Get all the remodel years for the PID that fall between 2008 and 2023\n",
    "    remodel_years = group.loc[group['YR_REMODEL'].between(2021, 2023), 'YR_REMODEL'].unique()\n",
    "\n",
    "    for remodel_year in remodel_years:\n",
    "\n",
    "        remodel_year_int = int(remodel_year)  # Convert to integer\n",
    "\n",
    "        # Find the data entry before the renovation\n",
    "        pre_remodel_data = group[group['DATA_YEAR'] < remodel_year].iloc[-1:]\n",
    "\n",
    "        # Find the data entry after the renovation\n",
    "        # We have to loop because the year after the remodelling might not reflect the remodelling so we have to loop forward\n",
    "        # Initialize 'after_remodel_data' as empty\n",
    "        after_remodel_data = pd.DataFrame()\n",
    "        \n",
    "        # Loop through the years after the remodel year to find when it was first reported\n",
    "        for year in range(remodel_year_int, 2024):\n",
    "            after_data = group[group['DATA_YEAR'] == year]\n",
    "            # Check if any entry in 'after_data' has the 'YR_REMODELLED' we're looking for\n",
    "            if not after_data.empty and (after_data['YR_REMODEL'] == remodel_year).any():\n",
    "                after_remodel_data = after_data[after_data['YR_REMODEL'] == remodel_year].copy()  # Make a copy\n",
    "                after_remodel_data.loc[:, 'REMODEL_YEAR'] = remodel_year  # Safely assign using .loc\n",
    "                break\n",
    "\n",
    "        # Ensure there is both a 'before' and an 'after' entry\n",
    "        if not pre_remodel_data.empty and not after_remodel_data.empty:\n",
    "\n",
    "            pre_remodel_data = pre_remodel_data.copy()  # Make a copy\n",
    "            pre_remodel_data.loc[:, 'REMODEL_YEAR'] = remodel_year  # Safely assign using .loc\n",
    "\n",
    "            # Add the remodel year for clarity\n",
    "            after_remodel_data['REMODEL_YEAR'] = remodel_year\n",
    "\n",
    "            rows_to_append.append(pre_remodel_data)\n",
    "            rows_to_append.append(after_remodel_data)\n",
    "\n",
    "# After the loop, concatenate all the rows at once\n",
    "renovation_comparison = pd.concat(rows_to_append, ignore_index=True)\n"
   ]
  }
 ],
 "metadata": {
  "kernelspec": {
   "display_name": "Python 3",
   "language": "python",
   "name": "python3"
  },
  "language_info": {
   "codemirror_mode": {
    "name": "ipython",
    "version": 3
   },
   "file_extension": ".py",
   "mimetype": "text/x-python",
   "name": "python",
   "nbconvert_exporter": "python",
   "pygments_lexer": "ipython3",
   "version": "3.12.0"
  },
  "orig_nbformat": 4
 },
 "nbformat": 4,
 "nbformat_minor": 2
}
