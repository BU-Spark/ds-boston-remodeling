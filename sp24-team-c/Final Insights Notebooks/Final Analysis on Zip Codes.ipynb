{
 "cells": [
  {
   "cell_type": "markdown",
   "metadata": {},
   "source": [
    "Author: Anderson Lawerence"
   ]
  },
  {
   "cell_type": "code",
   "execution_count": 4,
   "metadata": {},
   "outputs": [],
   "source": [
    "import numpy as np\n",
    "import matplotlib\n",
    "import pandas as pd\n",
    "import matplotlib.pyplot as plt"
   ]
  },
  {
   "cell_type": "code",
   "execution_count": 5,
   "metadata": {},
   "outputs": [],
   "source": [
    "df_permits = pd.read_csv('../data/building_permits_data.csv', low_memory=False)"
   ]
  },
  {
   "cell_type": "code",
   "execution_count": 6,
   "metadata": {},
   "outputs": [],
   "source": [
    "df_permits = pd.read_csv('../data/building_permits_data.csv', low_memory=False)[['total_fees', 'city', 'declared_valuation', 'zip', 'permittypedescr', 'total_fees', 'worktype']]\n",
    "df_prop_2024 = pd.read_csv('../data/property_assessment_2024.csv', low_memory=False)[['TOTAL_VALUE', 'MAIL_CITY', 'ZIP_CODE', 'BLDG_VALUE']]\n",
    "df_prop_2009 = pd.read_csv('../data/property_assessment_2009.csv', low_memory=False)[['AV_TOTAL', 'MAIL CS', 'ZIPCODE', 'AV_BLDG']]"
   ]
  },
  {
   "cell_type": "markdown",
   "metadata": {},
   "source": [
    "Take the data, with only a few metrics to look at: 'TOTAL_VALUE', 'MAIL_CITY', 'ZIP_CODE', 'BLDG_VALUE' for 2024 and 2009 data. 'total_fees', 'city', 'declared_valuation', 'zip', 'permittypedescr', 'total_fees', 'worktype' for the permits data. "
   ]
  },
  {
   "cell_type": "code",
   "execution_count": 7,
   "metadata": {},
   "outputs": [
    {
     "name": "stdout",
     "output_type": "stream",
     "text": [
      "TOTAL_VALUE     object\n",
      "MAIL_CITY       object\n",
      "ZIP_CODE       float64\n",
      "BLDG_VALUE      object\n",
      "dtype: object\n",
      "AV_TOTAL      int64\n",
      "MAIL CS      object\n",
      "ZIPCODE     float64\n",
      "AV_BLDG       int64\n",
      "dtype: object\n",
      "total_fees            object\n",
      "city                  object\n",
      "declared_valuation    object\n",
      "zip                   object\n",
      "permittypedescr       object\n",
      "total_fees            object\n",
      "worktype              object\n",
      "dtype: object\n"
     ]
    }
   ],
   "source": [
    "print(df_prop_2024.dtypes)\n",
    "print(df_prop_2009.dtypes)\n",
    "print(df_permits.dtypes)"
   ]
  },
  {
   "cell_type": "markdown",
   "metadata": {},
   "source": [
    "## Process the data!"
   ]
  },
  {
   "cell_type": "code",
   "execution_count": 8,
   "metadata": {},
   "outputs": [],
   "source": [
    "df_permits['declared_valuation'] = df_permits['declared_valuation'].str.replace(',', '').str.replace('$', '')\n",
    "df_permits['total_fees'] = df_permits['total_fees'].astype(str)\n",
    "df_permits['total_fees'] = df_permits['total_fees'].fillna('0')\n",
    "df_permits['total_fees'] = df_permits['total_fees'].apply(lambda x: x.replace('$', '') if isinstance(x, str) else x)\n",
    "\n",
    "df_prop_2024['TOTAL_VALUE'] = df_prop_2024['TOTAL_VALUE'].astype(str)\n",
    "df_prop_2024['TOTAL_VALUE'] = df_prop_2024['TOTAL_VALUE'].str.replace(',', '')\n",
    "df_prop_2024['TOTAL_VALUE'] = df_prop_2024['TOTAL_VALUE'].astype(float)\n",
    "df_prop_2024['BLDG_VALUE'] = df_prop_2024['BLDG_VALUE'].astype(str)\n",
    "df_prop_2024['BLDG_VALUE'] = df_prop_2024['BLDG_VALUE'].str.replace(',', '')\n",
    "df_prop_2024['BLDG_VALUE'] = df_prop_2024['BLDG_VALUE'].astype(float)\n",
    "\n",
    "df_prop_2009['AV_TOTAL'] = df_prop_2009['AV_TOTAL'].astype(float)"
   ]
  },
  {
   "cell_type": "markdown",
   "metadata": {},
   "source": [
    "It's necessary to process the data beforehand, otherwise it will be hard to represent the data numerically; certain 'object' data types like total_fees are a bit tougher because commas and '$' symbols need to be removed first. Rows in total_fees which contained 0 values were removed as well, since these had an impact on the resulting data."
   ]
  },
  {
   "cell_type": "markdown",
   "metadata": {},
   "source": [
    "### ORGANIZED BY ZIP PERMIT DATA AND PREPROCESSING"
   ]
  },
  {
   "cell_type": "code",
   "execution_count": 10,
   "metadata": {},
   "outputs": [],
   "source": [
    "# Drop rows with NaN values in 'zip' or zero values in declared valuation and remove any '-' from 'zip'\n",
    "df_permits = df_permits.dropna(subset=['zip'])\n",
    "df_permits['declared_valuation'] = df_permits['declared_valuation'].astype(float)\n",
    "df_permits_filtered = df_permits[df_permits['declared_valuation'] != 0]\n",
    "\n",
    "# Drop NaN values in both permittypedescr and worktype\n",
    "df_permits_filtered = df_permits_filtered.dropna(subset=['permittypedescr'])\n",
    "df_permits_filtered = df_permits_filtered.dropna(subset=['worktype'])\n",
    "df_permits_filtered['zip'] = df_permits_filtered['zip'].apply(lambda x: str(x).split('-')[0] if '-' in str(x) else str(x))\n",
    "\n",
    "# Convert 'zip' to float after cleaning\n",
    "df_permits_filtered['zip'] = df_permits_filtered['zip'].astype(float)\n",
    "\n",
    "# Convert 'declared_valuation' to float\n",
    "df_permits_filtered['declared_valuation'] = df_permits_filtered['declared_valuation'].astype(float)\n",
    "\n",
    "# Group by 'zip' and sum 'declared_valuation'\n",
    "total_valuation_by_zip = df_permits_filtered.groupby('zip')['declared_valuation'].sum().reset_index()\n",
    "\n",
    "# Save the result to a CSV file\n",
    "total_valuation_by_zip.to_csv('../Cleaned Zip Coding Data/total_valuation_by_zip.csv', index=False)"
   ]
  },
  {
   "cell_type": "markdown",
   "metadata": {},
   "source": [
    "Preprocess the data further, and save to './updated_extraction/total_valuation_by_zip' to have access in the future. Most of this preprocessing relates to dropping 0 values and ensuring that the zip data is formatted in such a way where it can be reduced to its individual digits (02179-29012 should just be 02179)."
   ]
  },
  {
   "cell_type": "markdown",
   "metadata": {},
   "source": [
    "### PRINT OUT THE PREPROCESSING RESULTS"
   ]
  },
  {
   "cell_type": "code",
   "execution_count": 11,
   "metadata": {},
   "outputs": [
    {
     "name": "stdout",
     "output_type": "stream",
     "text": [
      "   total_fees           city  declared_valuation     zip  \\\n",
      "0     $390.00         Boston            36500.00  2109.0   \n",
      "1      $29.00   West Roxbury            40000.00  2132.0   \n",
      "2      $70.00    Charlestown             5000.00  2129.0   \n",
      "3     $803.00        Roxbury            74295.75  2118.0   \n",
      "4     $182.00       Brighton            15000.00  2135.0   \n",
      "5      $33.00        Allston                1.00  2134.0   \n",
      "6     $556.00        Allston            50000.00  2134.0   \n",
      "9     $120.00  Jamaica Plain            10000.00  2130.0   \n",
      "10     $30.00        Roxbury                1.00  2118.0   \n",
      "11     $73.00    Charlestown             5000.00  2129.0   \n",
      "\n",
      "             permittypedescr total_fees worktype  \n",
      "0   Amendment to a Long Form    $390.00   INTEXT  \n",
      "1   Amendment to a Long Form     $29.00      COB  \n",
      "2   Amendment to a Long Form     $70.00    OTHER  \n",
      "3   Amendment to a Long Form    $803.00   INTEXT  \n",
      "4   Amendment to a Long Form    $182.00   EXTREN  \n",
      "5   Amendment to a Long Form     $33.00   INTREN  \n",
      "6   Amendment to a Long Form    $556.00   INTREN  \n",
      "9   Amendment to a Long Form    $120.00   INTEXT  \n",
      "10  Amendment to a Long Form     $30.00   EXTREN  \n",
      "11  Amendment to a Long Form     $73.00    OTHER  \n",
      "   TOTAL_VALUE    MAIL_CITY  ZIP_CODE  BLDG_VALUE\n",
      "0     792000.0  EAST BOSTON    2128.0    594400.0\n",
      "1     818200.0  EAST BOSTON    2128.0    619700.0\n",
      "2     804400.0  EAST BOSTON    2128.0    605300.0\n",
      "3     735300.0      EVERETT    2128.0    535600.0\n",
      "4     731600.0  EAST BOSTON    2128.0    501400.0\n",
      "5    1301200.0       NEWTON    2128.0   1037400.0\n",
      "6    1267900.0  EAST BOSTON    2128.0   1003200.0\n",
      "7    1150700.0     E BOSTON    2128.0    885400.0\n",
      "8     885200.0  EAST BOSTON    2128.0    619300.0\n",
      "9    1037700.0       BOSTON    2128.0    811000.0\n",
      "   AV_TOTAL         MAIL CS  ZIPCODE  AV_BLDG\n",
      "0  270500.0  EAST BOSTON MA   2128.0   170100\n",
      "1  320300.0  EAST BOSTON MA   2128.0   228500\n",
      "2  292300.0  EAST BOSTON MA   2128.0   200400\n",
      "3  301600.0      EVERETT MA   2128.0   209600\n",
      "4  260200.0     E BOSTON MA   2128.0   148900\n",
      "5  372600.0  EAST BOSTON MA   2128.0   251900\n",
      "6  383700.0  EAST BOSTON MA   2128.0   262900\n",
      "7  378100.0     E BOSTON MA   2128.0   257100\n",
      "8  344800.0  EAST BOSTON MA   2128.0   223700\n",
      "9  324000.0  EAST BOSTON MA   2128.0   208800\n"
     ]
    }
   ],
   "source": [
    "# Print the first entries out\n",
    "print(df_permits_filtered.head(10))\n",
    "print(df_prop_2024.head(10))\n",
    "print(df_prop_2009.head(10))"
   ]
  },
  {
   "cell_type": "markdown",
   "metadata": {},
   "source": [
    "### ORGANIZED BY ZIP PROPERTY DATA 2024"
   ]
  },
  {
   "cell_type": "code",
   "execution_count": 12,
   "metadata": {},
   "outputs": [],
   "source": [
    "average_valuation_by_zip_2024 = df_prop_2024.groupby('ZIP_CODE')['TOTAL_VALUE'].mean()\n",
    "average_building_valuation_by_zip_2024 = df_prop_2024.groupby('ZIP_CODE')['BLDG_VALUE'].mean()\n",
    "\n",
    "# Save the result directly to a CSV file\n",
    "average_valuation_by_zip_2024.to_csv('../Cleaned Zip Coding Data/avg_total_value_zip_2024.csv', index=True)\n",
    "average_building_valuation_by_zip_2024.to_csv('../Cleaned Zip Coding Data/avg_building_value_zip_2024.csv', index=True)"
   ]
  },
  {
   "cell_type": "markdown",
   "metadata": {},
   "source": [
    "Save the organized property data of 2024 to its own csv. "
   ]
  },
  {
   "cell_type": "markdown",
   "metadata": {},
   "source": [
    "### ORGANIZED BY ZIP PROPERTY DATA 2009"
   ]
  },
  {
   "cell_type": "code",
   "execution_count": 13,
   "metadata": {},
   "outputs": [],
   "source": [
    "average_valuation_by_zip_2009 = df_prop_2009.groupby('ZIPCODE')['AV_TOTAL'].mean()\n",
    "average_building_valuation_by_zip_2009 = df_prop_2009.groupby('ZIPCODE')['AV_BLDG'].mean()\n",
    "\n",
    "# Save the result directly to a CSV file\n",
    "average_valuation_by_zip_2009.to_csv('../Cleaned Zip Coding Data/avg_total_value_zip_2009.csv', index=True)\n",
    "average_building_valuation_by_zip_2009.to_csv('../Cleaned Zip Coding Data/avg_building_value_zip_2009.csv', index=True)"
   ]
  },
  {
   "cell_type": "markdown",
   "metadata": {},
   "source": [
    "Save the organized property data of 2009 to its own csv."
   ]
  },
  {
   "cell_type": "markdown",
   "metadata": {},
   "source": [
    "### CALCULATE THE DELTA FOR EACH ZIP FOR TOTAL VALUE"
   ]
  },
  {
   "cell_type": "code",
   "execution_count": 14,
   "metadata": {},
   "outputs": [
    {
     "name": "stdout",
     "output_type": "stream",
     "text": [
      "      zip       VALUE_x       VALUE_y\n",
      "0  2108.0  2.051241e+06  3.515321e+06\n",
      "1  2109.0  2.575337e+06  3.917270e+06\n",
      "2  2110.0  4.985515e+06  6.278642e+06\n",
      "3  2111.0  2.176317e+06  3.257750e+06\n",
      "4  2113.0  5.586605e+05  9.515368e+05\n",
      "5  2114.0  1.782156e+06  3.102280e+06\n",
      "6  2115.0  2.070738e+06  4.415471e+06\n",
      "7  2116.0  1.818235e+06  3.098001e+06\n",
      "8  2118.0  8.127465e+05  1.513732e+06\n",
      "9  2119.0  4.106052e+05  9.125422e+05\n",
      "The updated_change_in_value_2009_2024.csv file has been created successfully.\n"
     ]
    }
   ],
   "source": [
    "import pandas as pd\n",
    "\n",
    "# Load the CSV files into DataFrames\n",
    "df_2009 = pd.read_csv('../Cleaned Zip Coding Data/avg_total_value_zip_2009.csv')\n",
    "df_2024 = pd.read_csv('../Cleaned Zip Coding Data/avg_total_value_zip_2024.csv')\n",
    "\n",
    "# Rename the columns to have a consistent name for merging\n",
    "df_2009.rename(columns={'AV_TOTAL': 'VALUE', 'ZIPCODE': 'zip'}, inplace=True)\n",
    "df_2024.rename(columns={'ZIP_CODE': 'zip', 'TOTAL_VALUE': 'VALUE'}, inplace=True)\n",
    "\n",
    "# Merge the DataFrames on the ZIP_CODE column\n",
    "merged_df = pd.merge(df_2009, df_2024, on='zip', how='inner')\n",
    "\n",
    "print(merged_df.head(10))\n",
    "\n",
    "# Calculate the change in value\n",
    "merged_df['CHANGE_IN_VALUE'] = merged_df['VALUE_y'] - merged_df['VALUE_x']\n",
    "\n",
    "# Create a new DataFrame with only the ZIP_CODE and CHANGE_IN_VALUE columns\n",
    "change_in_value_df = merged_df[['zip', 'CHANGE_IN_VALUE']]\n",
    "\n",
    "# Save the new DataFrame to a CSV file\n",
    "change_in_value_df.to_csv('../Cleaned Zip Coding Data/updated_change_in_value_2009_2024.csv', index=False)\n",
    "\n",
    "print(\"The updated_change_in_value_2009_2024.csv file has been created successfully.\")"
   ]
  },
  {
   "cell_type": "markdown",
   "metadata": {},
   "source": [
    "This code takes the differences seen in the value of properties by zip according to the 2009 to 2024 data. The rationale for taking 2009 as the starting point as opposed to years earlier is because of the earliest data in the building permits data (first documented peices were from 2009). Taking other years into consideration would be one way to extract further data: however, in this case, since this would be finding correlates that may not be in reference to the spending, I've chosen to take 2009 as the calculation for the initial when computing this delta. The code above takes a look at the TOTAL_VALUE, as opposed to the building value. The resulting value of this delta (average total value by zip in 2024 - average total value by zip in 2009) is placed in a csv called 'updated_change_in_value_2009_2024.csv'. "
   ]
  },
  {
   "cell_type": "markdown",
   "metadata": {},
   "source": [
    "### CALCULATE THE DELTA FOR EACH ZIP FOR BUILDING VALUE"
   ]
  },
  {
   "cell_type": "code",
   "execution_count": 15,
   "metadata": {},
   "outputs": [
    {
     "name": "stdout",
     "output_type": "stream",
     "text": [
      "      zip       VALUE_x       VALUE_y\n",
      "0  2108.0  1.597950e+06  2.662840e+06\n",
      "1  2109.0  2.031703e+06  2.952053e+06\n",
      "2  2110.0  4.029240e+06  5.018508e+06\n",
      "3  2111.0  1.853090e+06  2.587040e+06\n",
      "4  2113.0  4.088251e+05  7.159002e+05\n",
      "5  2114.0  1.359428e+06  2.423999e+06\n",
      "6  2115.0  1.714669e+06  3.483042e+06\n",
      "7  2116.0  1.468313e+06  2.494948e+06\n",
      "8  2118.0  6.663215e+05  1.220007e+06\n",
      "9  2119.0  2.953960e+05  6.393102e+05\n",
      "The updated_change_in_value_2009_2024.csv file has been created successfully.\n"
     ]
    }
   ],
   "source": [
    "import pandas as pd\n",
    "\n",
    "# Load the CSV files into DataFrames\n",
    "df_2009 = pd.read_csv('../Cleaned Zip Coding Data/avg_building_value_zip_2009.csv')\n",
    "df_2024 = pd.read_csv('../Cleaned Zip Coding Data/avg_building_value_zip_2024.csv')\n",
    "\n",
    "# Rename the columns to have a consistent name for merging\n",
    "df_2009.rename(columns={'AV_BLDG': 'VALUE', 'ZIPCODE': 'zip'}, inplace=True)\n",
    "df_2024.rename(columns={'ZIP_CODE': 'zip', 'BLDG_VALUE': 'VALUE'}, inplace=True)\n",
    "\n",
    "# Merge the DataFrames on the ZIP_CODE column\n",
    "merged_df = pd.merge(df_2009, df_2024, on='zip', how='inner')\n",
    "\n",
    "print(merged_df.head(10))\n",
    "\n",
    "# Calculate the change in value\n",
    "merged_df['CHANGE_IN_VALUE'] = merged_df['VALUE_y'] - merged_df['VALUE_x']\n",
    "\n",
    "# Create a new DataFrame with only the ZIP_CODE and CHANGE_IN_VALUE columns\n",
    "change_in_value_df = merged_df[['zip', 'CHANGE_IN_VALUE']]\n",
    "\n",
    "# Save the new DataFrame to a CSV file\n",
    "change_in_value_df.to_csv('../Cleaned Zip Coding Data/updated_building_change_in_value_2009_2024.csv', index=False)\n",
    "\n",
    "print(\"The updated_change_in_value_2009_2024.csv file has been created successfully.\")"
   ]
  },
  {
   "cell_type": "markdown",
   "metadata": {},
   "source": [
    "Similar to above, this data performs the same operation, however, it looks at the data in terms of building value appreciation. The reason for this investigation is two-fold: firstly, I wanted to see if these answers differed (if the final ratio would be different), and secondly, building value seems to document a more crucial change. This change is more correlated with spending since it does not factor the appreciation of the value of the land which may be purely based on demand changes and increases of influx in a city. \n",
    "The resulting value of this delta (average building value by zip in 2024 - average building value by zip in 2009) is placed in a csv called 'updated_building_change_in_value_2009_2024.csv'. "
   ]
  },
  {
   "cell_type": "markdown",
   "metadata": {},
   "source": [
    "### COMPARE DECLARED_VALUATION VS. CHANGE_IN_VALUE_2009_2024 FOR TOTAL VALUE"
   ]
  },
  {
   "cell_type": "code",
   "execution_count": 16,
   "metadata": {},
   "outputs": [
    {
     "data": {
      "image/png": "[encoded data removed]",
      "text/plain": [
       "<Figure size 1200x600 with 1 Axes>"
      ]
     },
     "metadata": {},
     "output_type": "display_data"
    },
    {
     "name": "stdout",
     "output_type": "stream",
     "text": [
      "The updated_ratio_spent_by_zip.csv file has been created successfully.\n"
     ]
    }
   ],
   "source": [
    "import pandas as pd\n",
    "import matplotlib.pyplot as plt\n",
    "\n",
    "# Load the CSV files into DataFrames\n",
    "df_change = pd.read_csv('../Cleaned Zip Coding Data/updated_change_in_value_2009_2024.csv')\n",
    "df_valuation = pd.read_csv('../Cleaned Zip Coding Data/total_valuation_by_zip.csv')\n",
    "\n",
    "df_change.rename(columns={'ZIP_CODE': 'zip'}, inplace=True)\n",
    "\n",
    "# Merge the DataFrames on the 'zip' column\n",
    "df_merged = pd.merge(df_change, df_valuation, on='zip', how='inner')\n",
    "\n",
    "# Calculate the ratio of appreciation to valuation\n",
    "df_merged['ratio'] = df_merged['CHANGE_IN_VALUE'] / df_merged['declared_valuation']\n",
    "\n",
    "# Save the 'zip' and 'ratio' columns to a new CSV file\n",
    "df_merged[['zip', 'ratio']].to_csv('../Cleaned Zip Coding Data/updated_ratio_spent_by_zip.csv', index=False)\n",
    "\n",
    "# Draw a bar chart to compare the value spent vs. appreciation of prices by each zip\n",
    "df_merged.set_index('zip')[['CHANGE_IN_VALUE', 'declared_valuation']].plot(kind='bar', figsize=(12, 6))\n",
    "plt.title('Comparison of Value Spent vs. Appreciation of Prices by Zip')\n",
    "plt.ylabel('Value')\n",
    "plt.show()\n",
    "\n",
    "print(\"The updated_ratio_spent_by_zip.csv file has been created successfully.\")"
   ]
  },
  {
   "cell_type": "markdown",
   "metadata": {},
   "source": [
    "This code calculates the ratio of spending by each city and compares this against the observed appreciation of price. This will help to describe what may be best correlated to the appreciation: are spending, increased demand, or decreased supply the greatest correlates?"
   ]
  },
  {
   "cell_type": "markdown",
   "metadata": {},
   "source": [
    "### COMPARE DECLARED_VALUATION VS. CHANGE_IN_VALUE_2009_2024 FOR BUILDING VALUE"
   ]
  },
  {
   "cell_type": "code",
   "execution_count": 17,
   "metadata": {},
   "outputs": [
    {
     "data": {
      "image/png": "[encoded data removed]",
      "text/plain": [
       "<Figure size 1200x600 with 1 Axes>"
      ]
     },
     "metadata": {},
     "output_type": "display_data"
    },
    {
     "name": "stdout",
     "output_type": "stream",
     "text": [
      "The updated_ratio_spent_by_zip.csv file has been created successfully.\n"
     ]
    }
   ],
   "source": [
    "import pandas as pd\n",
    "import matplotlib.pyplot as plt\n",
    "\n",
    "# Load the CSV files into DataFrames\n",
    "df_change = pd.read_csv('../Cleaned Zip Coding Data/updated_building_change_in_value_2009_2024.csv')\n",
    "df_valuation = pd.read_csv('../Cleaned Zip Coding Data/total_valuation_by_zip.csv')\n",
    "\n",
    "df_change.rename(columns={'ZIP_CODE': 'zip'}, inplace=True)\n",
    "\n",
    "# Merge the DataFrames on the 'zip' column\n",
    "df_merged = pd.merge(df_change, df_valuation, on='zip', how='inner')\n",
    "\n",
    "# Calculate the ratio of appreciation to valuation\n",
    "df_merged['ratio'] = df_merged['CHANGE_IN_VALUE'] / df_merged['declared_valuation']\n",
    "\n",
    "# Save the 'zip' and 'ratio' columns to a new CSV file\n",
    "df_merged[['zip', 'ratio']].to_csv('../Cleaned Zip Coding Data/updated_building_ratio_spent_by_zip.csv', index=False)\n",
    "\n",
    "# Draw a bar chart to compare the value spent vs. appreciation of prices by each zip\n",
    "df_merged.set_index('zip')[['CHANGE_IN_VALUE', 'declared_valuation']].plot(kind='bar', figsize=(12, 6))\n",
    "plt.title('Comparison of Value Spent vs. Appreciation of Prices by Zip')\n",
    "plt.ylabel('Value')\n",
    "plt.show()\n",
    "\n",
    "print(\"The updated_ratio_spent_by_zip.csv file has been created successfully.\")"
   ]
  },
  {
   "cell_type": "markdown",
   "metadata": {},
   "source": [
    "This code and chart examine this ratio: value spent on building / appreciation of building value by zip."
   ]
  }
 ],
 "metadata": {
  "kernelspec": {
   "display_name": "Python 3",
   "language": "python",
   "name": "python3"
  },
  "language_info": {
   "codemirror_mode": {
    "name": "ipython",
    "version": 3
   },
   "file_extension": ".py",
   "mimetype": "text/x-python",
   "name": "python",
   "nbconvert_exporter": "python",
   "pygments_lexer": "ipython3",
   "version": "3.12.0"
  }
 },
 "nbformat": 4,
 "nbformat_minor": 2
}
