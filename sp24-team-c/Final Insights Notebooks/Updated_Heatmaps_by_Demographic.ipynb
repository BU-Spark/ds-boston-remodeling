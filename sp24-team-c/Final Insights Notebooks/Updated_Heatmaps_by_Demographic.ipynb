{
 "cells": [
  {
   "cell_type": "markdown",
   "metadata": {},
   "source": [
    "# Loss in Neighborhoods by Demographic"
   ]
  },
  {
   "cell_type": "markdown",
   "metadata": {},
   "source": [
    "Okay so based on the bedrooms/res_units maps we can now map demographic data onto it to see which demographics are being affected by the changes."
   ]
  }
 ],
 "metadata": {
  "language_info": {
   "name": "python"
  },
  "orig_nbformat": 4
 },
 "nbformat": 4,
 "nbformat_minor": 2
}
