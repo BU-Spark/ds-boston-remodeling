{
 "cells": [
  {
   "cell_type": "markdown",
   "metadata": {},
   "source": [
    "This notebook contains an analysis of the land use attribute in the property assessment dataset\n",
    "\n",
    "the earliest data is from 2004 and the latest data is from 2024\n",
    "\n",
    "the data is in 5 year intervals. note, there was no data availible for 2014, so data from 2015 was chosen, as it had more data points than 2013"
   ]
  },
  {
   "cell_type": "code",
   "execution_count": null,
   "metadata": {
    "vscode": {
     "languageId": "plaintext"
    }
   },
   "outputs": [],
   "source": []
  }
 ],
 "metadata": {
  "language_info": {
   "name": "python"
  }
 },
 "nbformat": 4,
 "nbformat_minor": 2
}
