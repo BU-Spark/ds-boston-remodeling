{
 "cells": [
  {
   "cell_type": "markdown",
   "metadata": {},
   "source": [
    "This notebook contains an analysis of the land use attribute in the property assessment dataset\n",
    "\n",
    "the earliest data is from 2004 and the latest data is from 2024\n",
    "\n",
    "the data is in 5 year intervals. note, there was no data availible for 2014, so data from 2015 was chosen, as it had more data points than 2013"
   ]
  },
  {
   "cell_type": "code",
   "execution_count": 1,
   "metadata": {},
   "outputs": [
    {
     "name": "stderr",
     "output_type": "stream",
     "text": [
      "/var/folders/w8/3b1vngzj7fl865mcy6wv171r0000gn/T/ipykernel_19051/1492400551.py:1: DeprecationWarning: \n",
      "Pyarrow will become a required dependency of pandas in the next major release of pandas (pandas 3.0),\n",
      "(to allow more performant data types, such as the Arrow string type, and better interoperability with other libraries)\n",
      "but was not found to be installed on your system.\n",
      "If this would cause problems for you,\n",
      "please provide us feedback at https://github.com/pandas-dev/pandas/issues/54466\n",
      "        \n",
      "  import pandas as pd\n"
     ]
    }
   ],
   "source": [
    "import pandas as pd\n",
    "import matplotlib.pyplot as plt"
   ]
  },
  {
   "cell_type": "code",
   "execution_count": 15,
   "metadata": {},
   "outputs": [
    {
     "name": "stderr",
     "output_type": "stream",
     "text": [
      "/var/folders/w8/3b1vngzj7fl865mcy6wv171r0000gn/T/ipykernel_19051/2767882949.py:3: DtypeWarning: Columns (14) have mixed types. Specify dtype option on import or set low_memory=False.\n",
      "  pa_2004 = pd.read_csv('../data/property_assessment_2004.csv')[['PID', 'LU']]\n",
      "/var/folders/w8/3b1vngzj7fl865mcy6wv171r0000gn/T/ipykernel_19051/2767882949.py:4: DtypeWarning: Columns (14) have mixed types. Specify dtype option on import or set low_memory=False.\n",
      "  pa_2009 = pd.read_csv('../data/property_assessment_2009.csv')[['PID', 'LU']]\n",
      "/var/folders/w8/3b1vngzj7fl865mcy6wv171r0000gn/T/ipykernel_19051/2767882949.py:6: DtypeWarning: Columns (16,61) have mixed types. Specify dtype option on import or set low_memory=False.\n",
      "  pa_2019 = pd.read_csv('../data/property_assessment_2019.csv')[['PID', 'LU']]\n",
      "/var/folders/w8/3b1vngzj7fl865mcy6wv171r0000gn/T/ipykernel_19051/2767882949.py:7: DtypeWarning: Columns (21) have mixed types. Specify dtype option on import or set low_memory=False.\n",
      "  pa_2024 = pd.read_csv('../data/property_assessment_2024.csv')[['PID', 'LU']]\n"
     ]
    }
   ],
   "source": [
    "# grab required data\n",
    "\n",
    "pa_2004 = pd.read_csv('../data/property_assessment_2004.csv')[['PID', 'LU']]\n",
    "pa_2009 = pd.read_csv('../data/property_assessment_2009.csv')[['PID', 'LU']]\n",
    "pa_2015 = pd.read_csv('../data/property_assessment_2015.csv')[['PID', 'LU']]\n",
    "pa_2019 = pd.read_csv('../data/property_assessment_2019.csv')[['PID', 'LU']]\n",
    "pa_2024 = pd.read_csv('../data/property_assessment_2024.csv')[['PID', 'LU']]"
   ]
  }
 ],
 "metadata": {
  "kernelspec": {
   "display_name": "Python 3",
   "language": "python",
   "name": "python3"
  },
  "language_info": {
   "codemirror_mode": {
    "name": "ipython",
    "version": 3
   },
   "file_extension": ".py",
   "mimetype": "text/x-python",
   "name": "python",
   "nbconvert_exporter": "python",
   "pygments_lexer": "ipython3",
   "version": "3.11.0"
  }
 },
 "nbformat": 4,
 "nbformat_minor": 2
}
